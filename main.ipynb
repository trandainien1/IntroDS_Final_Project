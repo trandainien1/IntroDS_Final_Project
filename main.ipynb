{
 "cells": [
  {
   "cell_type": "markdown",
   "metadata": {},
   "source": [
    "# Introduction To Data Science - Final Project"
   ]
  },
  {
   "cell_type": "markdown",
   "metadata": {},
   "source": [
    "## Group members:"
   ]
  },
  {
   "attachments": {},
   "cell_type": "markdown",
   "metadata": {},
   "source": [
    "| Name              | ID       |\n",
    "|-------------------|----------|\n",
    "| Pham Dang Son Ha |21127206|\n",
    "| Tran Dai Nien     | 21127664 |\n",
    "| Nguyen Cao Khoi   | 21127632 |\n",
    "| Nguyen Phan Minh Triet  | 21126007  |"
   ]
  },
  {
   "cell_type": "markdown",
   "metadata": {},
   "source": [
    "## Table of Contents\n",
    "\n",
    "1. [Data Collection](#data-collection)\n",
    "\n",
    "2. [Data Preprocessing and Exploration](#data-preprocessing-and-exploration)\n",
    "\n",
    "3. [Data Modeling](#data-modeling)\n",
    "\n",
    "4. [Reference](#references)"
   ]
  },
  {
   "cell_type": "markdown",
   "metadata": {},
   "source": [
    "## Data Collection"
   ]
  },
  {
   "cell_type": "markdown",
   "metadata": {},
   "source": [
    "### 1. Set-up environment"
   ]
  },
  {
   "cell_type": "markdown",
   "metadata": {},
   "source": [
    "#### Import Required Libraries: Import the necessary Python libraries - requests, BeautifulSoup, pandas, and time."
   ]
  },
  {
   "cell_type": "code",
   "execution_count": 1,
   "metadata": {},
   "outputs": [
    {
     "name": "stdout",
     "output_type": "stream",
     "text": [
      "Collecting bs4\n",
      "  Downloading bs4-0.0.1.tar.gz (1.1 kB)\n",
      "  Preparing metadata (setup.py): started\n",
      "  Preparing metadata (setup.py): finished with status 'done'\n",
      "Requirement already satisfied: beautifulsoup4 in c:\\users\\phamdangsonha\\anaconda3\\envs\\min_ds-env\\lib\\site-packages (from bs4) (4.12.2)\n",
      "Requirement already satisfied: soupsieve>1.2 in c:\\users\\phamdangsonha\\anaconda3\\envs\\min_ds-env\\lib\\site-packages (from beautifulsoup4->bs4) (2.5)\n",
      "Building wheels for collected packages: bs4\n",
      "  Building wheel for bs4 (setup.py): started\n",
      "  Building wheel for bs4 (setup.py): finished with status 'done'\n",
      "  Created wheel for bs4: filename=bs4-0.0.1-py3-none-any.whl size=1265 sha256=52129fd4cab78283923df5d40038ab5886054cdb76f8f735c3352530d0f5527b\n",
      "  Stored in directory: c:\\users\\phamdangsonha\\appdata\\local\\pip\\cache\\wheels\\73\\2b\\cb\\099980278a0c9a3e57ff1a89875ec07bfa0b6fcbebb9a8cad3\n",
      "Successfully built bs4\n",
      "Installing collected packages: bs4\n",
      "Successfully installed bs4-0.0.1\n",
      "Requirement already satisfied: requests in c:\\users\\phamdangsonha\\anaconda3\\envs\\min_ds-env\\lib\\site-packages (2.31.0)\n",
      "Requirement already satisfied: charset-normalizer<4,>=2 in c:\\users\\phamdangsonha\\anaconda3\\envs\\min_ds-env\\lib\\site-packages (from requests) (3.3.1)\n",
      "Requirement already satisfied: idna<4,>=2.5 in c:\\users\\phamdangsonha\\anaconda3\\envs\\min_ds-env\\lib\\site-packages (from requests) (3.4)\n",
      "Requirement already satisfied: urllib3<3,>=1.21.1 in c:\\users\\phamdangsonha\\anaconda3\\envs\\min_ds-env\\lib\\site-packages (from requests) (1.26.6)\n",
      "Requirement already satisfied: certifi>=2017.4.17 in c:\\users\\phamdangsonha\\anaconda3\\envs\\min_ds-env\\lib\\site-packages (from requests) (2023.7.22)\n",
      "Requirement already satisfied: pandas in c:\\users\\phamdangsonha\\anaconda3\\envs\\min_ds-env\\lib\\site-packages (2.1.1)\n",
      "Requirement already satisfied: numpy>=1.22.4 in c:\\users\\phamdangsonha\\anaconda3\\envs\\min_ds-env\\lib\\site-packages (from pandas) (1.26.0)\n",
      "Requirement already satisfied: python-dateutil>=2.8.2 in c:\\users\\phamdangsonha\\anaconda3\\envs\\min_ds-env\\lib\\site-packages (from pandas) (2.8.2)\n",
      "Requirement already satisfied: pytz>=2020.1 in c:\\users\\phamdangsonha\\anaconda3\\envs\\min_ds-env\\lib\\site-packages (from pandas) (2023.3.post1)\n",
      "Requirement already satisfied: tzdata>=2022.1 in c:\\users\\phamdangsonha\\anaconda3\\envs\\min_ds-env\\lib\\site-packages (from pandas) (2023.3)\n",
      "Requirement already satisfied: six>=1.5 in c:\\users\\phamdangsonha\\anaconda3\\envs\\min_ds-env\\lib\\site-packages (from python-dateutil>=2.8.2->pandas) (1.16.0)\n",
      "Requirement already satisfied: numpy in c:\\users\\phamdangsonha\\anaconda3\\envs\\min_ds-env\\lib\\site-packages (1.26.0)\n"
     ]
    }
   ],
   "source": [
    "#Necessary Packages\n",
    "!pip install bs4\n",
    "!pip install requests\n",
    "!pip install pandas\n",
    "!pip install numpy\n",
    "import time\n",
    "import requests\n",
    "import numpy as np\n",
    "import pandas as pd\n",
    "import matplotlib.pyplot as plt\n",
    "from bs4 import BeautifulSoup\n",
    "import os\n",
    "import seaborn as sns\n",
    "\n",
    "# modeling stuff\n",
    "import torch\n",
    "from torch import nn\n",
    "from torch.utils.data import DataLoader\n",
    "from torchvision import datasets\n",
    "from torchvision.transforms import ToTensor\n",
    "import random"
   ]
  },
  {
   "cell_type": "markdown",
   "metadata": {},
   "source": [
    "### 2. Collect data from a website by parsing HTML"
   ]
  },
  {
   "cell_type": "markdown",
   "metadata": {},
   "source": [
    "#### List of collected information\n",
    "\n",
    "Information related to the movie, including:\n",
    "\n",
    "- `names`: Movie titles.\n",
    "- `years`: Release years of the movies.\n",
    "- `genres`: Categories or genres the movies belong to.\n",
    "- `lengths`: Duration or length of the movies.\n",
    "- `rating_stars`: Ratings received by the movies.\n",
    "- `metascores`: Metascores assigned to the movies (if available).\n",
    "- `votes`: Total votes accumulated by the movies.\n",
    "- `grosses`: Box office gross earnings of the movies (if available).\n",
    "- `directors`: Directors of the movies.\n",
    "- `stars`: Lead actors/actresses in the movies.\n",
    "- `descriptions`: Synopsis or descriptions of the movies."
   ]
  },
  {
   "cell_type": "markdown",
   "metadata": {},
   "source": [
    "#### Data Collection Process:\n",
    "\n",
    "- Identify the URL of the webpage containing the list of movies to be scraped.\n",
    "- Use the requests library to send GET requests to each page of the IMDb website.\n",
    "- Parse the HTML of the webpage using BeautifulSoup to extract information about the movies.\n",
    "- Iterate through each movie to collect details such as title, release year, genre, rating, - Metascore, votes, earnings, director, main cast, and description.\n",
    "- Store the collected information in a DataFrame using the pandas library."
   ]
  },
  {
   "cell_type": "code",
   "execution_count": 2,
   "metadata": {},
   "outputs": [],
   "source": [
    "def collect_data(base_url, num_movies, movies_per_page=100):\n",
    "    # Initialize lists for storing data\n",
    "    names = []\n",
    "    years = []\n",
    "    genres = []\n",
    "    lengths = []\n",
    "    rating_stars = []\n",
    "    metascores = []\n",
    "    votes = []\n",
    "    grosses = []\n",
    "    directors = []\n",
    "    stars = []\n",
    "    descriptions = []\n",
    "\n",
    "    # Iterate over the specified number of pages\n",
    "    for page in range(1, int(num_movies / movies_per_page) + 1):\n",
    "        try:\n",
    "            # Construct the URL for the current page\n",
    "            url = f\"{base_url}&page={page}\"\n",
    "            \n",
    "            # Send a GET request to the URL\n",
    "            response = requests.get(url)\n",
    "            time.sleep(2)  # Respectful crawling by adding delay\n",
    "\n",
    "            # Check if the response status code is 200 (OK)\n",
    "            if response.status_code == 200:\n",
    "                # Parse the HTML content of the page\n",
    "                soup = BeautifulSoup(response.text, 'html.parser')\n",
    "\n",
    "                # Find all movie containers on the page\n",
    "                movies = soup.find_all('div', class_='lister-item-content')\n",
    "\n",
    "                # Process each movie\n",
    "                for movie in movies:\n",
    "                    # Extract movie details\n",
    "                    name = movie.find('h3').find('a').text.strip()\n",
    "                    year = movie.find('span', class_='lister-item-year').text.strip('()')\n",
    "                    genre = movie.find('span', class_='genre').text.strip()\n",
    "                    length = movie.find('span', class_='runtime').text.strip().split()[0]\n",
    "                    rating = movie.find('span', class_='ipl-rating-star__rating').text.strip()\n",
    "\n",
    "                    # Some movies might not have a metascore\n",
    "                    metascore_tag = movie.find('span', class_='metascore')\n",
    "                    metascore = metascore_tag.text.strip() if metascore_tag else 'N/A'\n",
    "\n",
    "                    # Extract votes and gross, if available\n",
    "                    nv_tags = movie.find_all('span', attrs={'name': 'nv'})\n",
    "                    vote = nv_tags[0].text if nv_tags else 'N/A'\n",
    "                    gross = nv_tags[1].text if len(nv_tags) > 1 else 'N/A'\n",
    "\n",
    "                    # Extract director and stars\n",
    "                    director, *star_list = movie.find_all('a', href=lambda href: href and 'name/nm' in href)\n",
    "                    director = director.text\n",
    "                    stars_str = ', '.join(star.text for star in star_list)\n",
    "\n",
    "                    # Extract description\n",
    "                    description = movie.find_all('p', class_='')[-1].text.strip()\n",
    "\n",
    "                    # Append the extracted data to respective lists\n",
    "                    names.append(name)\n",
    "                    years.append(year)\n",
    "                    genres.append(genre)\n",
    "                    lengths.append(length)\n",
    "                    rating_stars.append(rating)\n",
    "                    metascores.append(metascore)\n",
    "                    votes.append(vote)\n",
    "                    grosses.append(gross)\n",
    "                    directors.append(director)\n",
    "                    stars.append(stars_str)\n",
    "                    descriptions.append(description)\n",
    "\n",
    "            else:\n",
    "                print(f\"Failed to process page {page}: Status code {response.status_code}\")\n",
    "\n",
    "        except requests.exceptions.RequestException as e:\n",
    "            print(f\"Request error on page {page}: {e}\")\n",
    "        except Exception as e:\n",
    "            print(f\"Error on page {page}: {e}\")\n",
    "\n",
    "    # Create a DataFrame with the collected data\n",
    "    data = pd.DataFrame({\n",
    "        'Name': names,\n",
    "        'Year': years,\n",
    "        'Genre': genres,\n",
    "        'Length': lengths,\n",
    "        'Rating': rating_stars,\n",
    "        'Metascore': metascores,\n",
    "        'Votes': votes,\n",
    "        'Gross': grosses,\n",
    "        'Director': directors,\n",
    "        'Stars': stars,\n",
    "        'Description': descriptions\n",
    "    })\n",
    "\n",
    "    return data"
   ]
  },
  {
   "cell_type": "markdown",
   "metadata": {},
   "source": [
    "#### Collecting Movie Data from IMDb\n",
    "\n",
    "- Identify the URL of the webpage containing the list of movies to be scraped.\n",
    "\n",
    "- Use the collect_data function to gather information from the webpage based on the desired number of pages and movies.\n"
   ]
  },
  {
   "cell_type": "code",
   "execution_count": 3,
   "metadata": {},
   "outputs": [],
   "source": [
    "# Specify the URL containing the list of movies\n",
    "url = \"https://www.imdb.com/list/ls051785783/?st_dt=&mode=detail&sort=list_order,asc\"\n",
    "\n",
    "# Scrape the data\n",
    "\n",
    "if os.path.isfile('data_film.csv'):\n",
    "  data_film = pd.read_csv('data_film.csv')\n",
    "else: \n",
    "  data_film = collect_data(url, 1500, 100)"
   ]
  },
  {
   "cell_type": "markdown",
   "metadata": {},
   "source": [
    "#### Data Storage"
   ]
  },
  {
   "cell_type": "markdown",
   "metadata": {},
   "source": [
    "- Store the collected data in a CSV file named data_film.csv using data_film.to_csv().\n",
    "- Read the data from the CSV file into a new DataFrame (data_film) using pd.read_csv()."
   ]
  },
  {
   "cell_type": "code",
   "execution_count": 4,
   "metadata": {},
   "outputs": [
    {
     "data": {
      "text/html": [
       "<div>\n",
       "<style scoped>\n",
       "    .dataframe tbody tr th:only-of-type {\n",
       "        vertical-align: middle;\n",
       "    }\n",
       "\n",
       "    .dataframe tbody tr th {\n",
       "        vertical-align: top;\n",
       "    }\n",
       "\n",
       "    .dataframe thead th {\n",
       "        text-align: right;\n",
       "    }\n",
       "</style>\n",
       "<table border=\"1\" class=\"dataframe\">\n",
       "  <thead>\n",
       "    <tr style=\"text-align: right;\">\n",
       "      <th></th>\n",
       "      <th>Name</th>\n",
       "      <th>Year</th>\n",
       "      <th>Genre</th>\n",
       "      <th>Length</th>\n",
       "      <th>Rating</th>\n",
       "      <th>Metascore</th>\n",
       "      <th>Votes</th>\n",
       "      <th>Gross</th>\n",
       "      <th>Director</th>\n",
       "      <th>Stars</th>\n",
       "      <th>Description</th>\n",
       "    </tr>\n",
       "  </thead>\n",
       "  <tbody>\n",
       "    <tr>\n",
       "      <th>0</th>\n",
       "      <td>Bố Già</td>\n",
       "      <td>1972</td>\n",
       "      <td>Crime, Drama</td>\n",
       "      <td>175</td>\n",
       "      <td>9.2</td>\n",
       "      <td>100.0</td>\n",
       "      <td>1,967,180</td>\n",
       "      <td>$134.97M</td>\n",
       "      <td>Francis Ford Coppola</td>\n",
       "      <td>Marlon Brando, Al Pacino, James Caan, Diane Ke...</td>\n",
       "      <td>Don Vito Corleone, head of a mafia family, dec...</td>\n",
       "    </tr>\n",
       "    <tr>\n",
       "      <th>1</th>\n",
       "      <td>Chuyện Tình Thế Chiến</td>\n",
       "      <td>1942</td>\n",
       "      <td>Drama, Romance, War</td>\n",
       "      <td>102</td>\n",
       "      <td>8.5</td>\n",
       "      <td>100.0</td>\n",
       "      <td>595,530</td>\n",
       "      <td>$1.02M</td>\n",
       "      <td>Michael Curtiz</td>\n",
       "      <td>Humphrey Bogart, Ingrid Bergman, Paul Henreid,...</td>\n",
       "      <td>A cynical expatriate American cafe owner strug...</td>\n",
       "    </tr>\n",
       "    <tr>\n",
       "      <th>2</th>\n",
       "      <td>Sinh Viên Tốt Nghiệp</td>\n",
       "      <td>1967</td>\n",
       "      <td>Comedy, Drama, Romance</td>\n",
       "      <td>106</td>\n",
       "      <td>8.0</td>\n",
       "      <td>83.0</td>\n",
       "      <td>284,817</td>\n",
       "      <td>$104.95M</td>\n",
       "      <td>Mike Nichols</td>\n",
       "      <td>Dustin Hoffman, Anne Bancroft, Katharine Ross,...</td>\n",
       "      <td>A disillusioned college graduate finds himself...</td>\n",
       "    </tr>\n",
       "    <tr>\n",
       "      <th>3</th>\n",
       "      <td>Công Dân Kane</td>\n",
       "      <td>1941</td>\n",
       "      <td>Drama, Mystery</td>\n",
       "      <td>119</td>\n",
       "      <td>8.3</td>\n",
       "      <td>100.0</td>\n",
       "      <td>458,887</td>\n",
       "      <td>$1.59M</td>\n",
       "      <td>Orson Welles</td>\n",
       "      <td>Orson Welles, Joseph Cotten, Dorothy Comingore...</td>\n",
       "      <td>Following the death of publishing tycoon Charl...</td>\n",
       "    </tr>\n",
       "    <tr>\n",
       "      <th>4</th>\n",
       "      <td>12 Người Đàn Ông Giận Dữ</td>\n",
       "      <td>1957</td>\n",
       "      <td>Crime, Drama</td>\n",
       "      <td>96</td>\n",
       "      <td>9.0</td>\n",
       "      <td>97.0</td>\n",
       "      <td>841,356</td>\n",
       "      <td>$4.36M</td>\n",
       "      <td>Sidney Lumet</td>\n",
       "      <td>Henry Fonda, Lee J. Cobb, Martin Balsam, John ...</td>\n",
       "      <td>The jury in a New York City murder trial is fr...</td>\n",
       "    </tr>\n",
       "    <tr>\n",
       "      <th>...</th>\n",
       "      <td>...</td>\n",
       "      <td>...</td>\n",
       "      <td>...</td>\n",
       "      <td>...</td>\n",
       "      <td>...</td>\n",
       "      <td>...</td>\n",
       "      <td>...</td>\n",
       "      <td>...</td>\n",
       "      <td>...</td>\n",
       "      <td>...</td>\n",
       "      <td>...</td>\n",
       "    </tr>\n",
       "    <tr>\n",
       "      <th>1495</th>\n",
       "      <td>Quái Thú Vô Hình</td>\n",
       "      <td>1987</td>\n",
       "      <td>Action, Adventure, Horror</td>\n",
       "      <td>107</td>\n",
       "      <td>7.8</td>\n",
       "      <td>47.0</td>\n",
       "      <td>444,578</td>\n",
       "      <td>$59.74M</td>\n",
       "      <td>John McTiernan</td>\n",
       "      <td>Arnold Schwarzenegger, Carl Weathers, Kevin Pe...</td>\n",
       "      <td>A team of commandos on a mission in a Central ...</td>\n",
       "    </tr>\n",
       "    <tr>\n",
       "      <th>1496</th>\n",
       "      <td>Chuyến Du Lịch Châu Âu</td>\n",
       "      <td>2004</td>\n",
       "      <td>Comedy</td>\n",
       "      <td>92</td>\n",
       "      <td>6.6</td>\n",
       "      <td>45.0</td>\n",
       "      <td>218,869</td>\n",
       "      <td>$17.72M</td>\n",
       "      <td>Jeff Schaffer</td>\n",
       "      <td>Alec Berg, David Mandel, Scott Mechlowicz, Jac...</td>\n",
       "      <td>Dumped by his girlfriend, a high school grad d...</td>\n",
       "    </tr>\n",
       "    <tr>\n",
       "      <th>1497</th>\n",
       "      <td>Champagne</td>\n",
       "      <td>1928</td>\n",
       "      <td>Comedy</td>\n",
       "      <td>86</td>\n",
       "      <td>5.4</td>\n",
       "      <td>NaN</td>\n",
       "      <td>2,572</td>\n",
       "      <td>NaN</td>\n",
       "      <td>Alfred Hitchcock</td>\n",
       "      <td>Betty Balfour, Jean Bradin, Ferdinand von Alte...</td>\n",
       "      <td>A spoiled heiress defies her father by running...</td>\n",
       "    </tr>\n",
       "    <tr>\n",
       "      <th>1498</th>\n",
       "      <td>Thế Giới Không Đủ</td>\n",
       "      <td>1999</td>\n",
       "      <td>Action, Adventure, Thriller</td>\n",
       "      <td>128</td>\n",
       "      <td>6.4</td>\n",
       "      <td>57.0</td>\n",
       "      <td>207,600</td>\n",
       "      <td>$126.94M</td>\n",
       "      <td>Michael Apted</td>\n",
       "      <td>Pierce Brosnan, Sophie Marceau, Robert Carlyle...</td>\n",
       "      <td>James Bond uncovers a nuclear plot while prote...</td>\n",
       "    </tr>\n",
       "    <tr>\n",
       "      <th>1499</th>\n",
       "      <td>You Gotta Stay Happy</td>\n",
       "      <td>1948</td>\n",
       "      <td>Comedy, Romance</td>\n",
       "      <td>100</td>\n",
       "      <td>6.7</td>\n",
       "      <td>NaN</td>\n",
       "      <td>907</td>\n",
       "      <td>NaN</td>\n",
       "      <td>H.C. Potter</td>\n",
       "      <td>Walter Lantz, Joan Fontaine, James Stewart, Ed...</td>\n",
       "      <td>A spoiled heiress who has jilted multiple fian...</td>\n",
       "    </tr>\n",
       "  </tbody>\n",
       "</table>\n",
       "<p>1500 rows × 11 columns</p>\n",
       "</div>"
      ],
      "text/plain": [
       "                          Name  Year                        Genre  Length  \\\n",
       "0                       Bố Già  1972                 Crime, Drama     175   \n",
       "1        Chuyện Tình Thế Chiến  1942          Drama, Romance, War     102   \n",
       "2         Sinh Viên Tốt Nghiệp  1967       Comedy, Drama, Romance     106   \n",
       "3                Công Dân Kane  1941               Drama, Mystery     119   \n",
       "4     12 Người Đàn Ông Giận Dữ  1957                 Crime, Drama      96   \n",
       "...                        ...   ...                          ...     ...   \n",
       "1495          Quái Thú Vô Hình  1987    Action, Adventure, Horror     107   \n",
       "1496    Chuyến Du Lịch Châu Âu  2004                       Comedy      92   \n",
       "1497                 Champagne  1928                       Comedy      86   \n",
       "1498         Thế Giới Không Đủ  1999  Action, Adventure, Thriller     128   \n",
       "1499      You Gotta Stay Happy  1948              Comedy, Romance     100   \n",
       "\n",
       "      Rating  Metascore      Votes     Gross              Director  \\\n",
       "0        9.2      100.0  1,967,180  $134.97M  Francis Ford Coppola   \n",
       "1        8.5      100.0    595,530    $1.02M        Michael Curtiz   \n",
       "2        8.0       83.0    284,817  $104.95M          Mike Nichols   \n",
       "3        8.3      100.0    458,887    $1.59M          Orson Welles   \n",
       "4        9.0       97.0    841,356    $4.36M          Sidney Lumet   \n",
       "...      ...        ...        ...       ...                   ...   \n",
       "1495     7.8       47.0    444,578   $59.74M        John McTiernan   \n",
       "1496     6.6       45.0    218,869   $17.72M         Jeff Schaffer   \n",
       "1497     5.4        NaN      2,572       NaN      Alfred Hitchcock   \n",
       "1498     6.4       57.0    207,600  $126.94M         Michael Apted   \n",
       "1499     6.7        NaN        907       NaN           H.C. Potter   \n",
       "\n",
       "                                                  Stars  \\\n",
       "0     Marlon Brando, Al Pacino, James Caan, Diane Ke...   \n",
       "1     Humphrey Bogart, Ingrid Bergman, Paul Henreid,...   \n",
       "2     Dustin Hoffman, Anne Bancroft, Katharine Ross,...   \n",
       "3     Orson Welles, Joseph Cotten, Dorothy Comingore...   \n",
       "4     Henry Fonda, Lee J. Cobb, Martin Balsam, John ...   \n",
       "...                                                 ...   \n",
       "1495  Arnold Schwarzenegger, Carl Weathers, Kevin Pe...   \n",
       "1496  Alec Berg, David Mandel, Scott Mechlowicz, Jac...   \n",
       "1497  Betty Balfour, Jean Bradin, Ferdinand von Alte...   \n",
       "1498  Pierce Brosnan, Sophie Marceau, Robert Carlyle...   \n",
       "1499  Walter Lantz, Joan Fontaine, James Stewart, Ed...   \n",
       "\n",
       "                                            Description  \n",
       "0     Don Vito Corleone, head of a mafia family, dec...  \n",
       "1     A cynical expatriate American cafe owner strug...  \n",
       "2     A disillusioned college graduate finds himself...  \n",
       "3     Following the death of publishing tycoon Charl...  \n",
       "4     The jury in a New York City murder trial is fr...  \n",
       "...                                                 ...  \n",
       "1495  A team of commandos on a mission in a Central ...  \n",
       "1496  Dumped by his girlfriend, a high school grad d...  \n",
       "1497  A spoiled heiress defies her father by running...  \n",
       "1498  James Bond uncovers a nuclear plot while prote...  \n",
       "1499  A spoiled heiress who has jilted multiple fian...  \n",
       "\n",
       "[1500 rows x 11 columns]"
      ]
     },
     "execution_count": 4,
     "metadata": {},
     "output_type": "execute_result"
    }
   ],
   "source": [
    "#Save to csv file with name data_film.csv\n",
    "# Save the DataFrame to a CSV file without including the index\n",
    "data_film.to_csv(\"data_film.csv\", index=False)\n",
    "\n",
    "# Read the CSV file into a new DataFrame called data_film\n",
    "data_film = pd.read_csv(\"data_film.csv\")\n",
    "\n",
    "# Display the 'data_film' DataFrame\n",
    "data_film"
   ]
  },
  {
   "cell_type": "markdown",
   "metadata": {},
   "source": [
    "## Data Exploration And Preprocessing"
   ]
  },
  {
   "cell_type": "markdown",
   "metadata": {},
   "source": [
    "### 1) How many rows and columns"
   ]
  },
  {
   "cell_type": "markdown",
   "metadata": {},
   "source": [
    "- There are 1500 rows and 11 columns"
   ]
  },
  {
   "cell_type": "code",
   "execution_count": 5,
   "metadata": {},
   "outputs": [
    {
     "data": {
      "text/plain": [
       "(1500, 11)"
      ]
     },
     "execution_count": 5,
     "metadata": {},
     "output_type": "execute_result"
    }
   ],
   "source": [
    "data_film.shape"
   ]
  },
  {
   "cell_type": "markdown",
   "metadata": {},
   "source": [
    "### 2) What is the meaning of each row?"
   ]
  },
  {
   "cell_type": "markdown",
   "metadata": {},
   "source": [
    "- Each row represents the information of a film(name, year, genres,...)"
   ]
  },
  {
   "cell_type": "code",
   "execution_count": 6,
   "metadata": {},
   "outputs": [
    {
     "data": {
      "text/html": [
       "<div>\n",
       "<style scoped>\n",
       "    .dataframe tbody tr th:only-of-type {\n",
       "        vertical-align: middle;\n",
       "    }\n",
       "\n",
       "    .dataframe tbody tr th {\n",
       "        vertical-align: top;\n",
       "    }\n",
       "\n",
       "    .dataframe thead th {\n",
       "        text-align: right;\n",
       "    }\n",
       "</style>\n",
       "<table border=\"1\" class=\"dataframe\">\n",
       "  <thead>\n",
       "    <tr style=\"text-align: right;\">\n",
       "      <th></th>\n",
       "      <th>Name</th>\n",
       "      <th>Year</th>\n",
       "      <th>Genre</th>\n",
       "      <th>Length</th>\n",
       "      <th>Rating</th>\n",
       "      <th>Metascore</th>\n",
       "      <th>Votes</th>\n",
       "      <th>Gross</th>\n",
       "      <th>Director</th>\n",
       "      <th>Stars</th>\n",
       "      <th>Description</th>\n",
       "    </tr>\n",
       "  </thead>\n",
       "  <tbody>\n",
       "    <tr>\n",
       "      <th>1289</th>\n",
       "      <td>Tứ Quái Siêu Đẳng</td>\n",
       "      <td>2009</td>\n",
       "      <td>Comedy, War</td>\n",
       "      <td>94</td>\n",
       "      <td>6.2</td>\n",
       "      <td>54.0</td>\n",
       "      <td>136,401</td>\n",
       "      <td>$32.43M</td>\n",
       "      <td>Grant Heslov</td>\n",
       "      <td>Ewan McGregor, George Clooney, Kevin Spacey, J...</td>\n",
       "      <td>A reporter in Iraq might just have the story o...</td>\n",
       "    </tr>\n",
       "  </tbody>\n",
       "</table>\n",
       "</div>"
      ],
      "text/plain": [
       "                   Name  Year        Genre  Length  Rating  Metascore  \\\n",
       "1289  Tứ Quái Siêu Đẳng  2009  Comedy, War      94     6.2       54.0   \n",
       "\n",
       "        Votes    Gross      Director  \\\n",
       "1289  136,401  $32.43M  Grant Heslov   \n",
       "\n",
       "                                                  Stars  \\\n",
       "1289  Ewan McGregor, George Clooney, Kevin Spacey, J...   \n",
       "\n",
       "                                            Description  \n",
       "1289  A reporter in Iraq might just have the story o...  "
      ]
     },
     "execution_count": 6,
     "metadata": {},
     "output_type": "execute_result"
    }
   ],
   "source": [
    "data_film.sample(1)"
   ]
  },
  {
   "cell_type": "markdown",
   "metadata": {},
   "source": [
    "### 3) Are there duplicated rows?"
   ]
  },
  {
   "cell_type": "markdown",
   "metadata": {},
   "source": [
    "There is 0 duplicated row"
   ]
  },
  {
   "cell_type": "code",
   "execution_count": 7,
   "metadata": {},
   "outputs": [
    {
     "data": {
      "text/plain": [
       "0"
      ]
     },
     "execution_count": 7,
     "metadata": {},
     "output_type": "execute_result"
    }
   ],
   "source": [
    "data_film.duplicated().sum()"
   ]
  },
  {
   "cell_type": "markdown",
   "metadata": {},
   "source": [
    "### 4) What is the meaning of each columns"
   ]
  },
  {
   "cell_type": "markdown",
   "metadata": {},
   "source": [
    "- `names`: Movie titles.\n",
    "- `years`: Release years of the movies.\n",
    "- `genres`: Categories or genres the movies belong to.\n",
    "- `lengths`: Duration or length of the movies.\n",
    "- `rating_stars`: Ratings received by the movies.\n",
    "- `metascores`: Metascores assigned to the movies (if available).\n",
    "- `votes`: Total votes accumulated by the movies.\n",
    "- `grosses`: Box office gross earnings of the movies (if available).\n",
    "- `directors`: Directors of the movies.\n",
    "- `stars`: Lead actors/actresses in the movies.\n",
    "- `descriptions`: Synopsis or descriptions of the movies."
   ]
  },
  {
   "cell_type": "markdown",
   "metadata": {},
   "source": [
    "### 5) What is the current data type of each column? Are there any columns having inappropriate data types?"
   ]
  },
  {
   "cell_type": "code",
   "execution_count": 8,
   "metadata": {},
   "outputs": [
    {
     "data": {
      "text/plain": [
       "Name            object\n",
       "Year            object\n",
       "Genre           object\n",
       "Length           int64\n",
       "Rating         float64\n",
       "Metascore      float64\n",
       "Votes           object\n",
       "Gross           object\n",
       "Director        object\n",
       "Stars           object\n",
       "Description     object\n",
       "dtype: object"
      ]
     },
     "execution_count": 8,
     "metadata": {},
     "output_type": "execute_result"
    }
   ],
   "source": [
    "data_film.dtypes"
   ]
  },
  {
   "cell_type": "code",
   "execution_count": 9,
   "metadata": {},
   "outputs": [
    {
     "data": {
      "text/html": [
       "<div>\n",
       "<style scoped>\n",
       "    .dataframe tbody tr th:only-of-type {\n",
       "        vertical-align: middle;\n",
       "    }\n",
       "\n",
       "    .dataframe tbody tr th {\n",
       "        vertical-align: top;\n",
       "    }\n",
       "\n",
       "    .dataframe thead th {\n",
       "        text-align: right;\n",
       "    }\n",
       "</style>\n",
       "<table border=\"1\" class=\"dataframe\">\n",
       "  <thead>\n",
       "    <tr style=\"text-align: right;\">\n",
       "      <th></th>\n",
       "      <th>Name</th>\n",
       "      <th>Year</th>\n",
       "      <th>Genre</th>\n",
       "      <th>Length</th>\n",
       "      <th>Rating</th>\n",
       "      <th>Metascore</th>\n",
       "      <th>Votes</th>\n",
       "      <th>Gross</th>\n",
       "      <th>Director</th>\n",
       "      <th>Stars</th>\n",
       "      <th>Description</th>\n",
       "    </tr>\n",
       "  </thead>\n",
       "  <tbody>\n",
       "    <tr>\n",
       "      <th>897</th>\n",
       "      <td>Design for Living</td>\n",
       "      <td>1933</td>\n",
       "      <td>Comedy, Mystery, Romance</td>\n",
       "      <td>91</td>\n",
       "      <td>7.4</td>\n",
       "      <td>NaN</td>\n",
       "      <td>7,506</td>\n",
       "      <td>NaN</td>\n",
       "      <td>Ernst Lubitsch</td>\n",
       "      <td>Fredric March, Gary Cooper, Miriam Hopkins, Ed...</td>\n",
       "      <td>A woman cannot decide between two men who love...</td>\n",
       "    </tr>\n",
       "  </tbody>\n",
       "</table>\n",
       "</div>"
      ],
      "text/plain": [
       "                  Name  Year                     Genre  Length  Rating  \\\n",
       "897  Design for Living  1933  Comedy, Mystery, Romance      91     7.4   \n",
       "\n",
       "     Metascore  Votes Gross        Director  \\\n",
       "897        NaN  7,506   NaN  Ernst Lubitsch   \n",
       "\n",
       "                                                 Stars  \\\n",
       "897  Fredric March, Gary Cooper, Miriam Hopkins, Ed...   \n",
       "\n",
       "                                           Description  \n",
       "897  A woman cannot decide between two men who love...  "
      ]
     },
     "execution_count": 9,
     "metadata": {},
     "output_type": "execute_result"
    }
   ],
   "source": [
    "data_film.sample(1)"
   ]
  },
  {
   "cell_type": "markdown",
   "metadata": {},
   "source": [
    "- There are some columns which have inappropriate type: `Year, Votes, Gross`"
   ]
  },
  {
   "cell_type": "markdown",
   "metadata": {},
   "source": [
    "- For `Year, Votes` we can simply convert them into **numeric**. But with `Gross` we need to change columns name to `Gross(M$)` to indicated that `Gross` unit is million Dollars"
   ]
  },
  {
   "cell_type": "code",
   "execution_count": 10,
   "metadata": {},
   "outputs": [],
   "source": [
    "# remove ',' in Votes\n",
    "data_film.Votes = data_film.Votes.str.replace(',', '')\n",
    "\n",
    "# remove $, M in Gross and create new column `Gross(M$)`\n",
    "data_film['Gross(M$)'] = data_film.Gross.str.replace('M', '').str.replace('$', '')\n",
    "\n",
    "# drop Gross\n",
    "data_film.drop(columns='Gross', inplace=True)"
   ]
  },
  {
   "cell_type": "code",
   "execution_count": 11,
   "metadata": {},
   "outputs": [
    {
     "data": {
      "text/html": [
       "<div>\n",
       "<style scoped>\n",
       "    .dataframe tbody tr th:only-of-type {\n",
       "        vertical-align: middle;\n",
       "    }\n",
       "\n",
       "    .dataframe tbody tr th {\n",
       "        vertical-align: top;\n",
       "    }\n",
       "\n",
       "    .dataframe thead th {\n",
       "        text-align: right;\n",
       "    }\n",
       "</style>\n",
       "<table border=\"1\" class=\"dataframe\">\n",
       "  <thead>\n",
       "    <tr style=\"text-align: right;\">\n",
       "      <th></th>\n",
       "      <th>Name</th>\n",
       "      <th>Year</th>\n",
       "      <th>Genre</th>\n",
       "      <th>Length</th>\n",
       "      <th>Rating</th>\n",
       "      <th>Metascore</th>\n",
       "      <th>Votes</th>\n",
       "      <th>Director</th>\n",
       "      <th>Stars</th>\n",
       "      <th>Description</th>\n",
       "      <th>Gross(M$)</th>\n",
       "    </tr>\n",
       "  </thead>\n",
       "  <tbody>\n",
       "    <tr>\n",
       "      <th>17</th>\n",
       "      <td>Bắc Tây Bắc</td>\n",
       "      <td>1959</td>\n",
       "      <td>Action, Adventure, Mystery</td>\n",
       "      <td>136</td>\n",
       "      <td>8.3</td>\n",
       "      <td>98.0</td>\n",
       "      <td>340607</td>\n",
       "      <td>Alfred Hitchcock</td>\n",
       "      <td>Cary Grant, Eva Marie Saint, James Mason, Jess...</td>\n",
       "      <td>A New York City advertising executive goes on ...</td>\n",
       "      <td>13.28</td>\n",
       "    </tr>\n",
       "  </tbody>\n",
       "</table>\n",
       "</div>"
      ],
      "text/plain": [
       "           Name  Year                       Genre  Length  Rating  Metascore  \\\n",
       "17  Bắc Tây Bắc  1959  Action, Adventure, Mystery     136     8.3       98.0   \n",
       "\n",
       "     Votes          Director  \\\n",
       "17  340607  Alfred Hitchcock   \n",
       "\n",
       "                                                Stars  \\\n",
       "17  Cary Grant, Eva Marie Saint, James Mason, Jess...   \n",
       "\n",
       "                                          Description Gross(M$)  \n",
       "17  A New York City advertising executive goes on ...     13.28  "
      ]
     },
     "execution_count": 11,
     "metadata": {},
     "output_type": "execute_result"
    }
   ],
   "source": [
    "data_film.sample(1)"
   ]
  },
  {
   "cell_type": "markdown",
   "metadata": {},
   "source": [
    "- Convert them into **numeric**"
   ]
  },
  {
   "cell_type": "code",
   "execution_count": 12,
   "metadata": {},
   "outputs": [
    {
     "data": {
      "text/plain": [
       "Name            object\n",
       "Year           float64\n",
       "Genre           object\n",
       "Length           int64\n",
       "Rating         float64\n",
       "Metascore      float64\n",
       "Votes            int64\n",
       "Director        object\n",
       "Stars           object\n",
       "Description     object\n",
       "Gross(M$)      float64\n",
       "dtype: object"
      ]
     },
     "execution_count": 12,
     "metadata": {},
     "output_type": "execute_result"
    }
   ],
   "source": [
    "to_numeric_cols = ['Year', 'Votes', 'Gross(M$)']\n",
    "\n",
    "for col in to_numeric_cols:\n",
    "  data_film[col] = pd.to_numeric(data_film[col], errors='coerce')\n",
    "\n",
    "data_film.dtypes"
   ]
  },
  {
   "cell_type": "markdown",
   "metadata": {},
   "source": [
    "### 6) With each numerical column, how are values distributed?"
   ]
  },
  {
   "cell_type": "markdown",
   "metadata": {},
   "source": [
    "- All numerical columns:"
   ]
  },
  {
   "cell_type": "code",
   "execution_count": 13,
   "metadata": {},
   "outputs": [
    {
     "data": {
      "text/plain": [
       "Index(['Year', 'Length', 'Rating', 'Metascore', 'Votes', 'Gross(M$)'], dtype='object')"
      ]
     },
     "execution_count": 13,
     "metadata": {},
     "output_type": "execute_result"
    }
   ],
   "source": [
    "numerical_cols = data_film.columns[(data_film.dtypes != 'object')]\n",
    "numerical_cols"
   ]
  },
  {
   "cell_type": "markdown",
   "metadata": {},
   "source": [
    "#### 6.1) What is the percentage of missing values?"
   ]
  },
  {
   "cell_type": "markdown",
   "metadata": {},
   "source": [
    "- Number of missing values of each columns"
   ]
  },
  {
   "cell_type": "code",
   "execution_count": 14,
   "metadata": {},
   "outputs": [
    {
     "name": "stdout",
     "output_type": "stream",
     "text": [
      "<class 'pandas.core.frame.DataFrame'>\n",
      "RangeIndex: 1500 entries, 0 to 1499\n",
      "Data columns (total 6 columns):\n",
      " #   Column     Non-Null Count  Dtype  \n",
      "---  ------     --------------  -----  \n",
      " 0   Year       1472 non-null   float64\n",
      " 1   Length     1500 non-null   int64  \n",
      " 2   Rating     1500 non-null   float64\n",
      " 3   Metascore  1211 non-null   float64\n",
      " 4   Votes      1500 non-null   int64  \n",
      " 5   Gross(M$)  1121 non-null   float64\n",
      "dtypes: float64(4), int64(2)\n",
      "memory usage: 70.4 KB\n"
     ]
    }
   ],
   "source": [
    "data_film[numerical_cols].info()"
   ]
  },
  {
   "cell_type": "markdown",
   "metadata": {},
   "source": [
    "- The percentage of missing values for each columns"
   ]
  },
  {
   "cell_type": "code",
   "execution_count": 15,
   "metadata": {},
   "outputs": [
    {
     "data": {
      "text/plain": [
       "Name            0.000000\n",
       "Year            1.866667\n",
       "Genre           0.000000\n",
       "Length          0.000000\n",
       "Rating          0.000000\n",
       "Metascore      19.266667\n",
       "Votes           0.000000\n",
       "Director        0.000000\n",
       "Stars           0.000000\n",
       "Description     0.000000\n",
       "Gross(M$)      25.266667\n",
       "dtype: float64"
      ]
     },
     "execution_count": 15,
     "metadata": {},
     "output_type": "execute_result"
    }
   ],
   "source": [
    "data_film.isnull().mean() * 100"
   ]
  },
  {
   "cell_type": "markdown",
   "metadata": {},
   "source": [
    "> `Gross(M$)` and `Metascore` missing value's percentage are high"
   ]
  },
  {
   "cell_type": "markdown",
   "metadata": {},
   "source": [
    "- The distribution of numerical attributes"
   ]
  },
  {
   "cell_type": "code",
   "execution_count": 16,
   "metadata": {},
   "outputs": [
    {
     "data": {
      "image/png": "[encoded data removed]",
      "text/plain": [
       "<Figure size 1500x1000 with 6 Axes>"
      ]
     },
     "metadata": {},
     "output_type": "display_data"
    }
   ],
   "source": [
    "data_film[numerical_cols].hist(figsize=(15, 10))\n",
    "plt.tight_layout()\n",
    "plt.show();"
   ]
  },
  {
   "cell_type": "markdown",
   "metadata": {},
   "source": [
    "- General statistics of numerical attributes"
   ]
  },
  {
   "cell_type": "code",
   "execution_count": 17,
   "metadata": {},
   "outputs": [
    {
     "data": {
      "text/html": [
       "<div>\n",
       "<style scoped>\n",
       "    .dataframe tbody tr th:only-of-type {\n",
       "        vertical-align: middle;\n",
       "    }\n",
       "\n",
       "    .dataframe tbody tr th {\n",
       "        vertical-align: top;\n",
       "    }\n",
       "\n",
       "    .dataframe thead th {\n",
       "        text-align: right;\n",
       "    }\n",
       "</style>\n",
       "<table border=\"1\" class=\"dataframe\">\n",
       "  <thead>\n",
       "    <tr style=\"text-align: right;\">\n",
       "      <th></th>\n",
       "      <th>Year</th>\n",
       "      <th>Length</th>\n",
       "      <th>Rating</th>\n",
       "      <th>Metascore</th>\n",
       "      <th>Votes</th>\n",
       "      <th>Gross(M$)</th>\n",
       "    </tr>\n",
       "  </thead>\n",
       "  <tbody>\n",
       "    <tr>\n",
       "      <th>count</th>\n",
       "      <td>1472.000000</td>\n",
       "      <td>1500.000000</td>\n",
       "      <td>1500.000000</td>\n",
       "      <td>1211.000000</td>\n",
       "      <td>1.500000e+03</td>\n",
       "      <td>1121.000000</td>\n",
       "    </tr>\n",
       "    <tr>\n",
       "      <th>mean</th>\n",
       "      <td>1976.701087</td>\n",
       "      <td>115.578667</td>\n",
       "      <td>7.372667</td>\n",
       "      <td>72.841453</td>\n",
       "      <td>1.982493e+05</td>\n",
       "      <td>61.061802</td>\n",
       "    </tr>\n",
       "    <tr>\n",
       "      <th>std</th>\n",
       "      <td>23.640039</td>\n",
       "      <td>25.450913</td>\n",
       "      <td>0.613360</td>\n",
       "      <td>14.646850</td>\n",
       "      <td>3.254139e+05</td>\n",
       "      <td>80.618053</td>\n",
       "    </tr>\n",
       "    <tr>\n",
       "      <th>min</th>\n",
       "      <td>1915.000000</td>\n",
       "      <td>45.000000</td>\n",
       "      <td>5.000000</td>\n",
       "      <td>16.000000</td>\n",
       "      <td>4.400000e+02</td>\n",
       "      <td>0.010000</td>\n",
       "    </tr>\n",
       "    <tr>\n",
       "      <th>25%</th>\n",
       "      <td>1957.000000</td>\n",
       "      <td>99.000000</td>\n",
       "      <td>7.000000</td>\n",
       "      <td>63.000000</td>\n",
       "      <td>1.929475e+04</td>\n",
       "      <td>10.250000</td>\n",
       "    </tr>\n",
       "    <tr>\n",
       "      <th>50%</th>\n",
       "      <td>1980.000000</td>\n",
       "      <td>112.000000</td>\n",
       "      <td>7.400000</td>\n",
       "      <td>73.000000</td>\n",
       "      <td>7.339200e+04</td>\n",
       "      <td>32.870000</td>\n",
       "    </tr>\n",
       "    <tr>\n",
       "      <th>75%</th>\n",
       "      <td>1998.000000</td>\n",
       "      <td>127.000000</td>\n",
       "      <td>7.800000</td>\n",
       "      <td>84.000000</td>\n",
       "      <td>2.280785e+05</td>\n",
       "      <td>78.900000</td>\n",
       "    </tr>\n",
       "    <tr>\n",
       "      <th>max</th>\n",
       "      <td>2013.000000</td>\n",
       "      <td>271.000000</td>\n",
       "      <td>9.300000</td>\n",
       "      <td>100.000000</td>\n",
       "      <td>2.822322e+06</td>\n",
       "      <td>760.510000</td>\n",
       "    </tr>\n",
       "  </tbody>\n",
       "</table>\n",
       "</div>"
      ],
      "text/plain": [
       "              Year       Length       Rating    Metascore         Votes  \\\n",
       "count  1472.000000  1500.000000  1500.000000  1211.000000  1.500000e+03   \n",
       "mean   1976.701087   115.578667     7.372667    72.841453  1.982493e+05   \n",
       "std      23.640039    25.450913     0.613360    14.646850  3.254139e+05   \n",
       "min    1915.000000    45.000000     5.000000    16.000000  4.400000e+02   \n",
       "25%    1957.000000    99.000000     7.000000    63.000000  1.929475e+04   \n",
       "50%    1980.000000   112.000000     7.400000    73.000000  7.339200e+04   \n",
       "75%    1998.000000   127.000000     7.800000    84.000000  2.280785e+05   \n",
       "max    2013.000000   271.000000     9.300000   100.000000  2.822322e+06   \n",
       "\n",
       "         Gross(M$)  \n",
       "count  1121.000000  \n",
       "mean     61.061802  \n",
       "std      80.618053  \n",
       "min       0.010000  \n",
       "25%      10.250000  \n",
       "50%      32.870000  \n",
       "75%      78.900000  \n",
       "max     760.510000  "
      ]
     },
     "execution_count": 17,
     "metadata": {},
     "output_type": "execute_result"
    }
   ],
   "source": [
    "data_film[numerical_cols].describe()"
   ]
  },
  {
   "cell_type": "markdown",
   "metadata": {},
   "source": [
    "### 7) With each categorical column, how are values distributed?"
   ]
  },
  {
   "cell_type": "markdown",
   "metadata": {},
   "source": [
    "- Quick glance at categorical columns"
   ]
  },
  {
   "cell_type": "code",
   "execution_count": 18,
   "metadata": {},
   "outputs": [
    {
     "data": {
      "text/plain": [
       "Index(['Name', 'Genre', 'Director', 'Stars', 'Description'], dtype='object')"
      ]
     },
     "execution_count": 18,
     "metadata": {},
     "output_type": "execute_result"
    }
   ],
   "source": [
    "categorical_cols = data_film.columns[data_film.dtypes == 'object']\n",
    "\n",
    "categorical_cols"
   ]
  },
  {
   "cell_type": "markdown",
   "metadata": {},
   "source": [
    "- Missing values = 0"
   ]
  },
  {
   "cell_type": "code",
   "execution_count": 19,
   "metadata": {},
   "outputs": [
    {
     "name": "stdout",
     "output_type": "stream",
     "text": [
      "0 0\n",
      "0 0\n",
      "0 0\n",
      "0 0\n",
      "0 0\n"
     ]
    }
   ],
   "source": [
    "for col in categorical_cols:\n",
    "  print((data_film[col] == 'nan').sum(), data_film[col].isna().sum())"
   ]
  },
  {
   "cell_type": "markdown",
   "metadata": {},
   "source": [
    "- The distribution of `Name`: the counts is not significantly different so we won't plot this"
   ]
  },
  {
   "cell_type": "code",
   "execution_count": 20,
   "metadata": {},
   "outputs": [
    {
     "data": {
      "text/plain": [
       "Name\n",
       "King Kong               2\n",
       "Cặp Bài Trùng           2\n",
       "Kẻ Cắp Gặp Bà Già       2\n",
       "Cuộc Sống Tươi Đẹp      2\n",
       "Ngôi Nhà Ma             2\n",
       "                       ..\n",
       "Đội Nhặt Banh           1\n",
       "Peter Pan               1\n",
       "Cối Xay Gió Đỏ          1\n",
       "Người Áp Chế            1\n",
       "You Gotta Stay Happy    1\n",
       "Name: count, Length: 1489, dtype: int64"
      ]
     },
     "execution_count": 20,
     "metadata": {},
     "output_type": "execute_result"
    }
   ],
   "source": [
    "data_film.Name.value_counts()"
   ]
  },
  {
   "cell_type": "markdown",
   "metadata": {},
   "source": [
    "- The distribution of `Genre`"
   ]
  },
  {
   "cell_type": "code",
   "execution_count": 21,
   "metadata": {},
   "outputs": [
    {
     "data": {
      "text/plain": [
       "Genre\n",
       "Drama                        96\n",
       "Comedy, Drama, Romance       73\n",
       "Drama, Romance               70\n",
       "Comedy                       69\n",
       "Comedy, Drama                62\n",
       "                             ..\n",
       "Comedy, Fantasy, Musical      1\n",
       "Drama, Horror, Mystery        1\n",
       "Mystery, Sci-Fi, Thriller     1\n",
       "Action, Crime, Romance        1\n",
       "Action, Adventure, Horror     1\n",
       "Name: count, Length: 235, dtype: int64"
      ]
     },
     "execution_count": 21,
     "metadata": {},
     "output_type": "execute_result"
    }
   ],
   "source": [
    "data_film.Genre.value_counts()"
   ]
  },
  {
   "cell_type": "markdown",
   "metadata": {},
   "source": [
    "- The distribution of top 20 `Genres`"
   ]
  },
  {
   "cell_type": "code",
   "execution_count": 22,
   "metadata": {},
   "outputs": [
    {
     "data": {
      "image/png": "[encoded data removed]",
      "text/plain": [
       "<Figure size 640x480 with 1 Axes>"
      ]
     },
     "metadata": {},
     "output_type": "display_data"
    }
   ],
   "source": [
    "genre_counts = data_film.Genre.value_counts()[:20]\n",
    "plt.bar(genre_counts.index, genre_counts.values);\n",
    "plt.xticks(rotation=90)\n",
    "plt.show();"
   ]
  },
  {
   "cell_type": "markdown",
   "metadata": {},
   "source": [
    "- The distribution of `Director`"
   ]
  },
  {
   "cell_type": "code",
   "execution_count": 23,
   "metadata": {},
   "outputs": [
    {
     "data": {
      "text/plain": [
       "Director\n",
       "Alfred Hitchcock    34\n",
       "Woody Allen         24\n",
       "Steven Spielberg    17\n",
       "Clint Eastwood      15\n",
       "Martin Scorsese     14\n",
       "                    ..\n",
       "Henry King           1\n",
       "Richard Kelly        1\n",
       "Bob Rafelson         1\n",
       "Mike Mills           1\n",
       "Michael Apted        1\n",
       "Name: count, Length: 658, dtype: int64"
      ]
     },
     "execution_count": 23,
     "metadata": {},
     "output_type": "execute_result"
    }
   ],
   "source": [
    "data_film.Director.value_counts()"
   ]
  },
  {
   "cell_type": "markdown",
   "metadata": {},
   "source": [
    "- The distribution of top 20 `Director`"
   ]
  },
  {
   "cell_type": "code",
   "execution_count": 24,
   "metadata": {},
   "outputs": [
    {
     "data": {
      "image/png": "[encoded data removed]",
      "text/plain": [
       "<Figure size 640x480 with 1 Axes>"
      ]
     },
     "metadata": {},
     "output_type": "display_data"
    }
   ],
   "source": [
    "director_counts = data_film.Director.value_counts()[:20]\n",
    "plt.bar(director_counts.index, director_counts.values);\n",
    "plt.xticks(rotation=90)\n",
    "plt.show()"
   ]
  },
  {
   "cell_type": "markdown",
   "metadata": {},
   "source": [
    "- The distribution of `Stars`: The counts is not significantly different so we won't plot this attribute"
   ]
  },
  {
   "cell_type": "code",
   "execution_count": 25,
   "metadata": {},
   "outputs": [
    {
     "data": {
      "text/plain": [
       "Stars\n",
       "Sylvester Stallone, Talia Shire, Burt Young, Carl Weathers                                                     4\n",
       "Lewis Stone, Mickey Rooney, Cecilia Parker, Fay Holden                                                         2\n",
       "Bill Murray, Dan Aykroyd, Sigourney Weaver, Harold Ramis                                                       2\n",
       "Mark Hamill, Harrison Ford, Carrie Fisher, Billy Dee Williams                                                  2\n",
       "Mickey Rooney, Lewis Stone, Fay Holden, Cecilia Parker                                                         2\n",
       "                                                                                                              ..\n",
       "Wilfred Jackson, Hamilton Luske, Jack Kinney, Bobby Driscoll, Kathryn Beaumont, Hans Conried, Bill Thompson    1\n",
       "Nicole Kidman, Ewan McGregor, John Leguizamo, Jim Broadbent                                                    1\n",
       "Joaquin Phoenix, Philip Seymour Hoffman, Amy Adams, Jesse Plemons                                              1\n",
       "Alain Delon, Bourvil, Gian Maria Volontè, Yves Montand                                                         1\n",
       "Walter Lantz, Joan Fontaine, James Stewart, Eddie Albert, Roland Young                                         1\n",
       "Name: count, Length: 1492, dtype: int64"
      ]
     },
     "execution_count": 25,
     "metadata": {},
     "output_type": "execute_result"
    }
   ],
   "source": [
    "data_film.Stars.value_counts()"
   ]
  },
  {
   "cell_type": "markdown",
   "metadata": {},
   "source": [
    "- The distribution of `Description`: each description is different so we won't plot this"
   ]
  },
  {
   "cell_type": "code",
   "execution_count": 26,
   "metadata": {},
   "outputs": [
    {
     "data": {
      "text/plain": [
       "Description\n",
       "Don Vito Corleone, head of a mafia family, decides to hand over his empire to his youngest son Michael. However, his decision unintentionally puts the lives of his loved ones in grave danger.                   1\n",
       "One year after Kevin McCallister was left home alone and had to defeat a pair of bumbling burglars, he accidentally finds himself stranded in New York City - and the same criminals are not far behind.          1\n",
       "A husband-and-wife team play detective, but not in the traditional sense. Instead, the happy duo helps others solve their existential issues, the kind that keep you up at night, wondering what it all means.    1\n",
       "After his auto-parts tycoon father dies, the overweight, underachieving son teams up with a snide accountant to try and save the family business.                                                                 1\n",
       "A boy and a girl from different backgrounds fall in love regardless of their upbringing - and then tragedy strikes.                                                                                               1\n",
       "                                                                                                                                                                                                                 ..\n",
       "An exclusive golf course has to deal with a brash new member and a destructive dancing gopher.                                                                                                                    1\n",
       "Wendy and her brothers are whisked away to the magical world of Neverland with the hero of their stories, Peter Pan.                                                                                              1\n",
       "A poor Bohemian poet in 1890s Paris falls for a beautiful courtesan and nightclub star coveted by a jealous duke.                                                                                                 1\n",
       "A Naval veteran arrives home from war unsettled and uncertain of his future - until he is tantalized by the Cause and its charismatic leader.                                                                     1\n",
       "A spoiled heiress who has jilted multiple fiancés embroils a commercial pilot in a series of wacky misadventures.                                                                                                 1\n",
       "Name: count, Length: 1500, dtype: int64"
      ]
     },
     "execution_count": 26,
     "metadata": {},
     "output_type": "execute_result"
    }
   ],
   "source": [
    "data_film.Description.value_counts()"
   ]
  },
  {
   "cell_type": "markdown",
   "metadata": {},
   "source": [
    "#### 7.1) What is the percentage of missing values?"
   ]
  },
  {
   "cell_type": "markdown",
   "metadata": {},
   "source": [
    "- As we can see all the categorical columns has 0 missing value so the perccentage will be: 0%"
   ]
  },
  {
   "cell_type": "markdown",
   "metadata": {},
   "source": [
    "### 8) Are they abnormal?"
   ]
  },
  {
   "cell_type": "markdown",
   "metadata": {},
   "source": [
    "- After considering the distribution of each attributes, we can conclude that the values are good enough for us to use for model training and get insights from them. But first, we need to preprocessing the data."
   ]
  },
  {
   "cell_type": "markdown",
   "metadata": {},
   "source": [
    "### 9) Making questions for exploration?"
   ]
  },
  {
   "cell_type": "markdown",
   "metadata": {},
   "source": [
    "#### 9.1) Question 1: Which genres should we as a director want to make with?"
   ]
  },
  {
   "cell_type": "markdown",
   "metadata": {},
   "source": [
    "- Purposes: By analyzing historical data on movie ratings and box office performance across different genres, we can identify which genres tend to be more well-received by audiences and/or more profitable. This can help the director choose a genre that aligns with their goals, whether it’s to create a critically acclaimed film, a box office hit, or both."
   ]
  },
  {
   "cell_type": "markdown",
   "metadata": {},
   "source": [
    "- Approaches: \n",
    "\n",
    "    + `Analyzing on Rating`: We can group the data by genres and calculate the average Rating (or Metascore) for each genre. This can give us an idea of which genres are generally more well-received.\n",
    "\n",
    "    + `Analyzing on Gross`: We can group the data by genres and calculate the average Gross for each genre. This can give us an idea of which genres are generally more profitable."
   ]
  },
  {
   "cell_type": "markdown",
   "metadata": {},
   "source": [
    "- Answers with visualization:"
   ]
  },
  {
   "cell_type": "markdown",
   "metadata": {},
   "source": [
    "##### Exploring about the genre of the movies"
   ]
  },
  {
   "cell_type": "code",
   "execution_count": 111,
   "metadata": {},
   "outputs": [
    {
     "name": "stdout",
     "output_type": "stream",
     "text": [
      "Number of unique genres: 21\n",
      "Unique genres: ['Crime' 'Drama' 'Romance' 'War' 'Comedy' 'Mystery' 'Action' 'Western'\n",
      " 'Thriller' 'Adventure' 'Family' 'Fantasy' 'Film-Noir' 'Biography'\n",
      " 'History' 'Sci-Fi' 'Sport' 'Horror' 'Music' 'Musical' 'Animation']\n"
     ]
    }
   ],
   "source": [
    "# We'll split the genres column into separate rows\n",
    "df_genres = data_film.assign(Genre_Split=data_film['Genre'].str.split(',')).explode('Genre_Split')\n",
    "\n",
    "# Remove leading and trailing spaces\n",
    "df_genres['Genre_Split'] = df_genres['Genre_Split'].str.strip()\n",
    "\n",
    "# Get unique genres\n",
    "unique_genres = df_genres['Genre_Split'].unique()\n",
    "\n",
    "# Print the number of unique genres\n",
    "print(\"Number of unique genres:\", len(unique_genres))\n",
    "\n",
    "# Print all unique genres\n",
    "print(\"Unique genres:\", unique_genres)\n"
   ]
  },
  {
   "cell_type": "markdown",
   "metadata": {},
   "source": [
    "- Explanation:\n",
    "\n",
    "    + `Crime`: These films revolve around the sinister actions of criminals, mobsters, bank robbers, underworld figures, and ruthless hoodlums who operate outside the law, stealing and murdering their way through life.\n",
    "    \n",
    "    + `Drama`: Drama films are serious presentations or stories with settings or life situations that portray realistic characters in conflict with either themselves, others, or forces of nature.\n",
    "\n",
    "    + `Romance`: Romance films are love stories that focus on passion, emotion, and the affectionate romantic involvement of the main characters, and the journey that their love takes them through dating, courtship or marriage.\n",
    "    \n",
    "    + `War`: War films acknowledge the horror and heartbreak of war, letting the actual combat fighting or conflict (against nations or humankind) provide the primary plot or background for the action of the film.\n",
    "\n",
    "    + `Comedy`: Comedies are light-hearted plots consistently and deliberately designed to amuse and provoke laughter (with one-liners, jokes, etc.) by exaggerating the situation, the language, action, relationships and characters.\n",
    "\n",
    "    + `Mystery`: These are types of films that make us think and keep us guessing. They deal with our sense of unease and anxiety.\n",
    "\n",
    "    + `Action`: Action films usually include high energy, big-budget physical stunts and chases, possibly with rescues, battles, fights, escapes, destructive crises (floods, explosions, natural disasters, fires, etc.), non-stop motion, spectacular rhythm and pacing, and adventurous, often two-dimensional ‘good-guy’ heroes (or recently, heroines) battling ‘bad guys’ - all designed for pure audience escapism.\n",
    "    \n",
    "    + `Western`: Westerns are the major defining genre of the American film industry, a nostalgic eulogy to the early days of the expansive, untamed American frontier (the borderline between civilization and the wilderness).\n",
    "    \n",
    "    + `Thriller`: Thrillers are tension-laden, complex, mysterious, and often involve crime (solution of a murder, disappearance, theft, etc.).\n",
    "    \n",
    "    + `Adventure`: Adventure films are exciting stories, with new experiences or exotic locales, very \n",
    "    similar to or often paired with the action film genre.\n",
    "\n",
    "    + `Family`: These are films that are designed to be suitable for all ages.\n",
    "\n",
    "    + `Fantasy`: Fantasy films are films with fantastic themes, usually involving magic, supernatural \n",
    "    events, mythology, folklore, or exotic fantasy worlds.\n",
    "    \n",
    "    + `Film-Noir`: Film noir is a cinematic term used primarily to describe stylish Hollywood crime dramas, particularly those that emphasize cynical attitudes and sexual motivations.\n",
    "    \n",
    "    + `Biography`: These films depict and dramatize the life of an important historical personage (or group) from the past or present era.\n",
    "    \n",
    "    + `History`: Films in this genre focus on recreating a specific and important period or event in history.\n",
    "    \n",
    "    + `Sci-Fi`: Science fiction films are often quasi-scientific, visionary and imaginative - complete with heroes, aliens, distant planets, impossible quests, improbable settings, fantastic places, great dark and shadowy villains, futuristic technology, unknown and unknowable forces, and extraordinary monsters (‘things or creatures from space’), either created by mad scientists or by nuclear havoc.\n",
    "    \n",
    "    + `Sport`: Sports films are those that have a sports setting (football or baseball stadium, arena, or the Olympics, etc.), competitive event (the ‘big game,’ ‘fight,’ or ‘race’), athletes (boxers, racers, etc.), or coach in the storyline.\n",
    "    \n",
    "    + `Horror`: Horror films are designed to frighten and to invoke our hidden worst fears, often in a terrifying, shocking finale, while captivating and entertaining us at the same time in a cathartic experience.\n",
    "    \n",
    "    + `Music`: These are films that are centered around music and dance.\n",
    "    \n",
    "    + `Musical`: Musicals/Dance films are cinematic forms that emphasize and showcase full-scale song and dance routines in a significant way (usually with a musical or dance performance integrated as part of the film narrative, or as an unrealistic “eruption” within the film).\n",
    "\n",
    "    + `Animation`: Animated films are ones in which individual drawings, paintings, or illustrations are photographed frame by frame."
   ]
  },
  {
   "cell_type": "markdown",
   "metadata": {},
   "source": [
    "##### Analyzing on Rating"
   ]
  },
  {
   "cell_type": "code",
   "execution_count": 78,
   "metadata": {},
   "outputs": [
    {
     "data": {
      "image/png": "[encoded data removed]",
      "text/plain": [
       "<Figure size 1000x600 with 1 Axes>"
      ]
     },
     "metadata": {},
     "output_type": "display_data"
    }
   ],
   "source": [
    "# Then, we group by genres and calculate the average rating_stars\n",
    "average_ratings = df_genres.groupby('Genre_Split')['Rating'].mean()\n",
    "\n",
    "# Finally, we sort the result in descending order so the genres with the highest average ratings are on top\n",
    "average_ratings = average_ratings.sort_values(ascending=False)\n",
    "\n",
    "# Get the top 5 and bottom 5 genres\n",
    "top_5 = average_ratings.head(5)\n",
    "bottom_5 = average_ratings.tail(5)\n",
    "\n",
    "# Combine them into one Series\n",
    "combined = pd.concat([top_5, bottom_5])\n",
    "\n",
    "# Create a bar plot\n",
    "plt.figure(figsize=(10, 6))\n",
    "sns.barplot(x=combined.index, y=combined.values)\n",
    "plt.title('Average Ratings of Top 5 Best and Worst Genres')\n",
    "plt.xlabel('Genre')\n",
    "plt.ylabel('Average Rating')\n",
    "plt.xticks(rotation=45)\n",
    "plt.show()"
   ]
  },
  {
   "cell_type": "markdown",
   "metadata": {},
   "source": [
    "=> Conclusion: Based on the data analysis, the top five genres with the highest average rating scores are Horror, Animation, Film-Noir, War, and Mystery. This suggests that movies in these genres tend to be more well-received by audiences, as indicated by their higher average ratings.\n",
    "\n",
    "On the other hand, the genres with the lowest average rating scores are Musical, Comedy, Sport, Romance, Music. This suggests that movies in these genres tend to receive lower ratings from audiences.\n",
    "\n",
    "This analysis provides a general trend and can be a useful guide for filmmakers when choosing a genre for their next project."
   ]
  },
  {
   "cell_type": "markdown",
   "metadata": {},
   "source": [
    "##### Analyzing on Gross"
   ]
  },
  {
   "cell_type": "code",
   "execution_count": 83,
   "metadata": {},
   "outputs": [
    {
     "data": {
      "image/png": "[encoded data removed]",
      "text/plain": [
       "<Figure size 1000x600 with 1 Axes>"
      ]
     },
     "metadata": {},
     "output_type": "display_data"
    }
   ],
   "source": [
    "# Group by genres and calculate the average gross\n",
    "average_gross = df_genres.groupby('Genre_Split')['Gross(M$)'].mean()\n",
    "\n",
    "# Sort the result in descending order so the genres with the highest average gross are on top\n",
    "average_gross = average_gross.sort_values(ascending=False)\n",
    "\n",
    "# Get the top 5 and bottom 5 genres\n",
    "top_5_gross = average_gross.head(5)\n",
    "bottom_5_gross = average_gross.tail(5)\n",
    "\n",
    "# Combine them into one Series\n",
    "combined_gross = pd.concat([top_5_gross, bottom_5_gross])\n",
    "\n",
    "# Create a bar plot\n",
    "plt.figure(figsize=(10, 6))\n",
    "sns.barplot(x=combined_gross.index, y=combined_gross.values)\n",
    "plt.title('Average Gross of Top 5 Best and Worst Genres')\n",
    "plt.xlabel('Genre')\n",
    "plt.ylabel('Average Gross')\n",
    "plt.xticks(rotation=45)\n",
    "plt.show()"
   ]
  },
  {
   "cell_type": "markdown",
   "metadata": {},
   "source": [
    "=> Conclusion: Based on the data analysis, the top five genres with the highest average gross are Fantasy, Animation, Adventure, Action and Sci-Fi. This suggests that movies in these genres tend to be more priftable, as indicated by their higher gross.\n",
    "\n",
    "On the other hand, the genres with the lowest gross are Film-Noir, Horror, Musical, Western and Music. This suggests that movies in these genres tend to receive lower gross and not popluar with audiences.\n",
    "\n",
    "This analysis provides a general trend and can be a useful guide for filmmakers when choosing a genre for their next project."
   ]
  },
  {
   "cell_type": "markdown",
   "metadata": {},
   "source": [
    "##### Final conclusion: \n",
    "\n",
    "    + Animation is the genre which tend to be more favoured by audiences and bring more profit for the filmakers because of it's high value on both Rating and Gross\n",
    "    \n",
    "    + Music and Musical are the 2 types of genre that generally bring low income to the company and are not favourable among audiences"
   ]
  },
  {
   "cell_type": "markdown",
   "metadata": {},
   "source": [
    "#### 9.2) Question 2: How have the movie lengths and genres evolved over the year?"
   ]
  },
  {
   "cell_type": "markdown",
   "metadata": {},
   "source": [
    "- Purpose: \n",
    "\n",
    "    + To understand the trends and changes in movie lengths and genres over time. This can provide insights into how the film industry has evolved and changed, reflecting shifts in cultural tastes, technological advancements, and other factors.\n",
    "\n",
    "    + By analyzing this, we can gain a deeper understanding of the film industry’s history and potentially predict future trends. For filmmakers, this information could be useful in making decisions about what type of films to produce. For film enthusiasts or researchers, it could provide interesting insights into the evolution of cinema. "
   ]
  },
  {
   "cell_type": "markdown",
   "metadata": {},
   "source": [
    "- Appoaches:\n",
    "\n",
    "    + `Yearly Average Movie Length`: Group the data by year and calculate the average movie length for each year. Plotting these averages over time can show how movie lengths have changed.\n",
    "\n",
    "    + `Genre Popularity Over Time`: For each year, calculate the number of movies produced in each genre. Plotting these numbers can show how the popularity of different genres has evolved."
   ]
  },
  {
   "cell_type": "markdown",
   "metadata": {},
   "source": [
    "##### Yearly Average Movie Length"
   ]
  },
  {
   "cell_type": "code",
   "execution_count": 87,
   "metadata": {},
   "outputs": [
    {
     "data": {
      "image/png": "[encoded data removed]",
      "text/plain": [
       "<Figure size 1000x600 with 1 Axes>"
      ]
     },
     "metadata": {},
     "output_type": "display_data"
    }
   ],
   "source": [
    "# Group by year and calculate the average length\n",
    "average_lengths = data_film.groupby('Year')['Length'].mean()\n",
    "\n",
    "# Plot the data\n",
    "plt.figure(figsize=(10, 6))\n",
    "average_lengths.plot(kind='line')\n",
    "plt.title('Average Movie Length Over Time')\n",
    "plt.xlabel('Year')\n",
    "plt.ylabel('Average Length')\n",
    "plt.show()"
   ]
  },
  {
   "cell_type": "markdown",
   "metadata": {},
   "source": [
    "=> Conclusion: Over the given period, the length of movies as a whole decrease from roughly 200 minutes to around 90 minutes per movie.\n",
    "Around 1920, the length of the movies witnessed a sharp decrease from around 200 to 75 minutes. After that time the length of the movies fuctuate between 60 and 120 minutes. In the recent years the length of the movies is falling and likely still fall in the future\n"
   ]
  },
  {
   "cell_type": "markdown",
   "metadata": {},
   "source": [
    "##### Genre Popularity Over Time"
   ]
  },
  {
   "cell_type": "code",
   "execution_count": 124,
   "metadata": {},
   "outputs": [
    {
     "name": "stderr",
     "output_type": "stream",
     "text": [
      "C:\\Users\\PhamDangSonHa\\AppData\\Local\\Temp\\ipykernel_16212\\2575019706.py:20: FutureWarning: The default of observed=False is deprecated and will be changed to True in a future version of pandas. Pass observed=False to retain current behavior or observed=True to adopt the future default and silence this warning.\n",
      "  genre_counts = copy_df_genres.groupby(['Time_Period', 'Genre_Split']).size()\n"
     ]
    },
    {
     "data": {
      "image/png": "[encoded data removed]",
      "text/plain": [
       "<Figure size 1500x1000 with 6 Axes>"
      ]
     },
     "metadata": {},
     "output_type": "display_data"
    }
   ],
   "source": [
    "#Make a copy of df_genres\n",
    "copy_df_genres = df_genres.copy()\n",
    "\n",
    "# Get the top 5 genres\n",
    "top_genres = copy_df_genres['Genre_Split'].value_counts().index[:6]\n",
    "\n",
    "# Replace all other genres with 'Other'\n",
    "copy_df_genres['Genre_Split'] = copy_df_genres['Genre_Split'].where(copy_df_genres['Genre_Split'].isin(top_genres), 'Other')\n",
    "\n",
    "# Convert the 'Year' column to numeric, coercing errors to NaN\n",
    "copy_df_genres['Year'] = pd.to_numeric(copy_df_genres['Year'], errors='coerce')\n",
    "\n",
    "# Drop rows with NaN in the 'Year' column\n",
    "copy_df_genres = copy_df_genres.dropna(subset=['Year'])\n",
    "\n",
    "# Divide the data into six time periods\n",
    "copy_df_genres['Time_Period'] = pd.cut(copy_df_genres['Year'], bins=6)\n",
    "\n",
    "# Count the number of movies in each genre for each time period\n",
    "genre_counts = copy_df_genres.groupby(['Time_Period', 'Genre_Split']).size()\n",
    "\n",
    "# Reset the index to make 'Time_Period' and 'Genre_Split' regular columns\n",
    "genre_counts = genre_counts.reset_index(name='Count')\n",
    "\n",
    "# Get the unique time periods\n",
    "time_periods = genre_counts['Time_Period'].unique()\n",
    "\n",
    "# Create a 2x3 grid of subplots\n",
    "fig, axs = plt.subplots(2, 3, figsize=(15, 10))\n",
    "\n",
    "# Loop over the time periods and plot the data in a separate subplot\n",
    "for i, period in enumerate(time_periods):\n",
    "    # Get the data for this time period\n",
    "    data = genre_counts[genre_counts['Time_Period'] == period]\n",
    "    \n",
    "    # Calculate the row and column indices for the subplot\n",
    "    row = i // 3\n",
    "    col = i % 3\n",
    "    \n",
    "    # Create the pie chart in the subplot\n",
    "    axs[row, col].pie(data['Count'], labels=data['Genre_Split'], autopct='%1.1f%%')\n",
    "    axs[row, col].set_title('Genre Popularity in ' + str(int(period.left)) + '-' + str(int(period.right)))\n",
    "\n",
    "# Add a legend\n",
    "fig.legend(genre_counts['Genre_Split'].unique(), loc='upper left')\n",
    "\n",
    "# Adjust the layout\n",
    "plt.tight_layout()\n",
    "plt.show()"
   ]
  },
  {
   "cell_type": "markdown",
   "metadata": {},
   "source": [
    "=> Conclusion: In general, Drama , which over the six period accounts for 20%-25%, is the most popular genre among all.\n",
    "\n",
    "Over the time, the proportion of Crime, Adventure and Action increase over the years. In contrast, the percentage of Comedy and Romance movies falls over the given period."
   ]
  },
  {
   "cell_type": "markdown",
   "metadata": {},
   "source": [
    "##### Final conclusion:\n",
    "\n",
    "+ The length of a movie decrease over time and this status seem to continue in the future\n",
    "\n",
    "+ Drama movie is the most popular movie type. Over the time the proportion of Crime, Adventure and Action increases, the percentage of Comedy and Romance decreases."
   ]
  },
  {
   "cell_type": "markdown",
   "metadata": {},
   "source": [
    "## Data modeling"
   ]
  },
  {
   "attachments": {},
   "cell_type": "markdown",
   "metadata": {},
   "source": [
    "- Import library for moduling"
   ]
  },
  {
   "cell_type": "code",
   "execution_count": 28,
   "metadata": {},
   "outputs": [],
   "source": [
    "from sklearn.linear_model import LinearRegression\n",
    "from sklearn.model_selection import train_test_split\n",
    "from sklearn.preprocessing import StandardScaler"
   ]
  },
  {
   "attachments": {},
   "cell_type": "markdown",
   "metadata": {},
   "source": [
    "### Problem Statement"
   ]
  },
  {
   "attachments": {},
   "cell_type": "markdown",
   "metadata": {},
   "source": [
    "- The question that our team want to give an answer to is:  How much grosses can this new film can possibly get?\n",
    "- When we want to make a film, we sure want to know how much money the film could make for us. The success or failure of a movie depends on many factor: the release date, budget, star-power, marketing,...  But with the data that our team has collected, we will answer the question above by predicting the gross with values of: Ratings, Metascore, Directors, Stars, Genres. \n",
    "- By predicting the gross, the film maker can know wheter it is possible to make the film and the prediction will help them to have a clearer vision on the plan in the production and distribution stage.\n"
   ]
  },
  {
   "attachments": {},
   "cell_type": "markdown",
   "metadata": {},
   "source": [
    "### Data preparation"
   ]
  },
  {
   "cell_type": "code",
   "execution_count": 29,
   "metadata": {},
   "outputs": [
    {
     "data": {
      "text/html": [
       "<div>\n",
       "<style scoped>\n",
       "    .dataframe tbody tr th:only-of-type {\n",
       "        vertical-align: middle;\n",
       "    }\n",
       "\n",
       "    .dataframe tbody tr th {\n",
       "        vertical-align: top;\n",
       "    }\n",
       "\n",
       "    .dataframe thead th {\n",
       "        text-align: right;\n",
       "    }\n",
       "</style>\n",
       "<table border=\"1\" class=\"dataframe\">\n",
       "  <thead>\n",
       "    <tr style=\"text-align: right;\">\n",
       "      <th></th>\n",
       "      <th>Name</th>\n",
       "      <th>Year</th>\n",
       "      <th>Genre</th>\n",
       "      <th>Length</th>\n",
       "      <th>Rating</th>\n",
       "      <th>Metascore</th>\n",
       "      <th>Votes</th>\n",
       "      <th>Gross</th>\n",
       "      <th>Director</th>\n",
       "      <th>Stars</th>\n",
       "      <th>Description</th>\n",
       "    </tr>\n",
       "  </thead>\n",
       "  <tbody>\n",
       "    <tr>\n",
       "      <th>0</th>\n",
       "      <td>Bố Già</td>\n",
       "      <td>1972</td>\n",
       "      <td>Crime, Drama</td>\n",
       "      <td>175</td>\n",
       "      <td>9.2</td>\n",
       "      <td>100.0</td>\n",
       "      <td>1,967,180</td>\n",
       "      <td>$134.97M</td>\n",
       "      <td>Francis Ford Coppola</td>\n",
       "      <td>Marlon Brando, Al Pacino, James Caan, Diane Ke...</td>\n",
       "      <td>Don Vito Corleone, head of a mafia family, dec...</td>\n",
       "    </tr>\n",
       "    <tr>\n",
       "      <th>1</th>\n",
       "      <td>Chuyện Tình Thế Chiến</td>\n",
       "      <td>1942</td>\n",
       "      <td>Drama, Romance, War</td>\n",
       "      <td>102</td>\n",
       "      <td>8.5</td>\n",
       "      <td>100.0</td>\n",
       "      <td>595,530</td>\n",
       "      <td>$1.02M</td>\n",
       "      <td>Michael Curtiz</td>\n",
       "      <td>Humphrey Bogart, Ingrid Bergman, Paul Henreid,...</td>\n",
       "      <td>A cynical expatriate American cafe owner strug...</td>\n",
       "    </tr>\n",
       "    <tr>\n",
       "      <th>2</th>\n",
       "      <td>Sinh Viên Tốt Nghiệp</td>\n",
       "      <td>1967</td>\n",
       "      <td>Comedy, Drama, Romance</td>\n",
       "      <td>106</td>\n",
       "      <td>8.0</td>\n",
       "      <td>83.0</td>\n",
       "      <td>284,817</td>\n",
       "      <td>$104.95M</td>\n",
       "      <td>Mike Nichols</td>\n",
       "      <td>Dustin Hoffman, Anne Bancroft, Katharine Ross,...</td>\n",
       "      <td>A disillusioned college graduate finds himself...</td>\n",
       "    </tr>\n",
       "    <tr>\n",
       "      <th>3</th>\n",
       "      <td>Công Dân Kane</td>\n",
       "      <td>1941</td>\n",
       "      <td>Drama, Mystery</td>\n",
       "      <td>119</td>\n",
       "      <td>8.3</td>\n",
       "      <td>100.0</td>\n",
       "      <td>458,887</td>\n",
       "      <td>$1.59M</td>\n",
       "      <td>Orson Welles</td>\n",
       "      <td>Orson Welles, Joseph Cotten, Dorothy Comingore...</td>\n",
       "      <td>Following the death of publishing tycoon Charl...</td>\n",
       "    </tr>\n",
       "    <tr>\n",
       "      <th>4</th>\n",
       "      <td>12 Người Đàn Ông Giận Dữ</td>\n",
       "      <td>1957</td>\n",
       "      <td>Crime, Drama</td>\n",
       "      <td>96</td>\n",
       "      <td>9.0</td>\n",
       "      <td>97.0</td>\n",
       "      <td>841,356</td>\n",
       "      <td>$4.36M</td>\n",
       "      <td>Sidney Lumet</td>\n",
       "      <td>Henry Fonda, Lee J. Cobb, Martin Balsam, John ...</td>\n",
       "      <td>The jury in a New York City murder trial is fr...</td>\n",
       "    </tr>\n",
       "  </tbody>\n",
       "</table>\n",
       "</div>"
      ],
      "text/plain": [
       "                       Name  Year                   Genre  Length  Rating  \\\n",
       "0                    Bố Già  1972            Crime, Drama     175     9.2   \n",
       "1     Chuyện Tình Thế Chiến  1942     Drama, Romance, War     102     8.5   \n",
       "2      Sinh Viên Tốt Nghiệp  1967  Comedy, Drama, Romance     106     8.0   \n",
       "3             Công Dân Kane  1941          Drama, Mystery     119     8.3   \n",
       "4  12 Người Đàn Ông Giận Dữ  1957            Crime, Drama      96     9.0   \n",
       "\n",
       "   Metascore      Votes     Gross              Director  \\\n",
       "0      100.0  1,967,180  $134.97M  Francis Ford Coppola   \n",
       "1      100.0    595,530    $1.02M        Michael Curtiz   \n",
       "2       83.0    284,817  $104.95M          Mike Nichols   \n",
       "3      100.0    458,887    $1.59M          Orson Welles   \n",
       "4       97.0    841,356    $4.36M          Sidney Lumet   \n",
       "\n",
       "                                               Stars  \\\n",
       "0  Marlon Brando, Al Pacino, James Caan, Diane Ke...   \n",
       "1  Humphrey Bogart, Ingrid Bergman, Paul Henreid,...   \n",
       "2  Dustin Hoffman, Anne Bancroft, Katharine Ross,...   \n",
       "3  Orson Welles, Joseph Cotten, Dorothy Comingore...   \n",
       "4  Henry Fonda, Lee J. Cobb, Martin Balsam, John ...   \n",
       "\n",
       "                                         Description  \n",
       "0  Don Vito Corleone, head of a mafia family, dec...  \n",
       "1  A cynical expatriate American cafe owner strug...  \n",
       "2  A disillusioned college graduate finds himself...  \n",
       "3  Following the death of publishing tycoon Charl...  \n",
       "4  The jury in a New York City murder trial is fr...  "
      ]
     },
     "execution_count": 29,
     "metadata": {},
     "output_type": "execute_result"
    }
   ],
   "source": [
    "filmdata_df = pd.read_csv(\"./data_film.csv\")\n",
    "filmdata_df.head()"
   ]
  },
  {
   "attachments": {},
   "cell_type": "markdown",
   "metadata": {},
   "source": [
    "### Data Preprocessing"
   ]
  },
  {
   "cell_type": "code",
   "execution_count": 30,
   "metadata": {},
   "outputs": [
    {
     "data": {
      "text/html": [
       "<div>\n",
       "<style scoped>\n",
       "    .dataframe tbody tr th:only-of-type {\n",
       "        vertical-align: middle;\n",
       "    }\n",
       "\n",
       "    .dataframe tbody tr th {\n",
       "        vertical-align: top;\n",
       "    }\n",
       "\n",
       "    .dataframe thead th {\n",
       "        text-align: right;\n",
       "    }\n",
       "</style>\n",
       "<table border=\"1\" class=\"dataframe\">\n",
       "  <thead>\n",
       "    <tr style=\"text-align: right;\">\n",
       "      <th></th>\n",
       "      <th>Rating</th>\n",
       "      <th>Metascore</th>\n",
       "      <th>Gross</th>\n",
       "      <th>Director_Adam McKay</th>\n",
       "      <th>Director_Adrian Cronauer</th>\n",
       "      <th>Director_Adrian Lyne</th>\n",
       "      <th>Director_Aileen Wuornos</th>\n",
       "      <th>Director_Akira Kurosawa</th>\n",
       "      <th>Director_Alan J. Pakula</th>\n",
       "      <th>Director_Alan Parker</th>\n",
       "      <th>...</th>\n",
       "      <th>Genre_Musical, Romance</th>\n",
       "      <th>Genre_Musical, Romance, Western</th>\n",
       "      <th>Genre_Mystery, Romance, Thriller</th>\n",
       "      <th>Genre_Mystery, Sci-Fi, Thriller</th>\n",
       "      <th>Genre_Mystery, Thriller</th>\n",
       "      <th>Genre_Romance, Western</th>\n",
       "      <th>Genre_Thriller</th>\n",
       "      <th>Genre_Thriller, War</th>\n",
       "      <th>Genre_Thriller, Western</th>\n",
       "      <th>Genre_Western</th>\n",
       "    </tr>\n",
       "  </thead>\n",
       "  <tbody>\n",
       "    <tr>\n",
       "      <th>0</th>\n",
       "      <td>9.2</td>\n",
       "      <td>100.0</td>\n",
       "      <td>1.349700e+11</td>\n",
       "      <td>0</td>\n",
       "      <td>0</td>\n",
       "      <td>0</td>\n",
       "      <td>0</td>\n",
       "      <td>0</td>\n",
       "      <td>0</td>\n",
       "      <td>0</td>\n",
       "      <td>...</td>\n",
       "      <td>0</td>\n",
       "      <td>0</td>\n",
       "      <td>0</td>\n",
       "      <td>0</td>\n",
       "      <td>0</td>\n",
       "      <td>0</td>\n",
       "      <td>0</td>\n",
       "      <td>0</td>\n",
       "      <td>0</td>\n",
       "      <td>0</td>\n",
       "    </tr>\n",
       "    <tr>\n",
       "      <th>1</th>\n",
       "      <td>8.5</td>\n",
       "      <td>100.0</td>\n",
       "      <td>1.020000e+09</td>\n",
       "      <td>0</td>\n",
       "      <td>0</td>\n",
       "      <td>0</td>\n",
       "      <td>0</td>\n",
       "      <td>0</td>\n",
       "      <td>0</td>\n",
       "      <td>0</td>\n",
       "      <td>...</td>\n",
       "      <td>0</td>\n",
       "      <td>0</td>\n",
       "      <td>0</td>\n",
       "      <td>0</td>\n",
       "      <td>0</td>\n",
       "      <td>0</td>\n",
       "      <td>0</td>\n",
       "      <td>0</td>\n",
       "      <td>0</td>\n",
       "      <td>0</td>\n",
       "    </tr>\n",
       "    <tr>\n",
       "      <th>2</th>\n",
       "      <td>8.0</td>\n",
       "      <td>83.0</td>\n",
       "      <td>1.049500e+11</td>\n",
       "      <td>0</td>\n",
       "      <td>0</td>\n",
       "      <td>0</td>\n",
       "      <td>0</td>\n",
       "      <td>0</td>\n",
       "      <td>0</td>\n",
       "      <td>0</td>\n",
       "      <td>...</td>\n",
       "      <td>0</td>\n",
       "      <td>0</td>\n",
       "      <td>0</td>\n",
       "      <td>0</td>\n",
       "      <td>0</td>\n",
       "      <td>0</td>\n",
       "      <td>0</td>\n",
       "      <td>0</td>\n",
       "      <td>0</td>\n",
       "      <td>0</td>\n",
       "    </tr>\n",
       "    <tr>\n",
       "      <th>3</th>\n",
       "      <td>8.3</td>\n",
       "      <td>100.0</td>\n",
       "      <td>1.590000e+09</td>\n",
       "      <td>0</td>\n",
       "      <td>0</td>\n",
       "      <td>0</td>\n",
       "      <td>0</td>\n",
       "      <td>0</td>\n",
       "      <td>0</td>\n",
       "      <td>0</td>\n",
       "      <td>...</td>\n",
       "      <td>0</td>\n",
       "      <td>0</td>\n",
       "      <td>0</td>\n",
       "      <td>0</td>\n",
       "      <td>0</td>\n",
       "      <td>0</td>\n",
       "      <td>0</td>\n",
       "      <td>0</td>\n",
       "      <td>0</td>\n",
       "      <td>0</td>\n",
       "    </tr>\n",
       "    <tr>\n",
       "      <th>4</th>\n",
       "      <td>9.0</td>\n",
       "      <td>97.0</td>\n",
       "      <td>4.360000e+09</td>\n",
       "      <td>0</td>\n",
       "      <td>0</td>\n",
       "      <td>0</td>\n",
       "      <td>0</td>\n",
       "      <td>0</td>\n",
       "      <td>0</td>\n",
       "      <td>0</td>\n",
       "      <td>...</td>\n",
       "      <td>0</td>\n",
       "      <td>0</td>\n",
       "      <td>0</td>\n",
       "      <td>0</td>\n",
       "      <td>0</td>\n",
       "      <td>0</td>\n",
       "      <td>0</td>\n",
       "      <td>0</td>\n",
       "      <td>0</td>\n",
       "      <td>0</td>\n",
       "    </tr>\n",
       "    <tr>\n",
       "      <th>...</th>\n",
       "      <td>...</td>\n",
       "      <td>...</td>\n",
       "      <td>...</td>\n",
       "      <td>...</td>\n",
       "      <td>...</td>\n",
       "      <td>...</td>\n",
       "      <td>...</td>\n",
       "      <td>...</td>\n",
       "      <td>...</td>\n",
       "      <td>...</td>\n",
       "      <td>...</td>\n",
       "      <td>...</td>\n",
       "      <td>...</td>\n",
       "      <td>...</td>\n",
       "      <td>...</td>\n",
       "      <td>...</td>\n",
       "      <td>...</td>\n",
       "      <td>...</td>\n",
       "      <td>...</td>\n",
       "      <td>...</td>\n",
       "      <td>...</td>\n",
       "    </tr>\n",
       "    <tr>\n",
       "      <th>1495</th>\n",
       "      <td>7.8</td>\n",
       "      <td>47.0</td>\n",
       "      <td>5.974000e+10</td>\n",
       "      <td>0</td>\n",
       "      <td>0</td>\n",
       "      <td>0</td>\n",
       "      <td>0</td>\n",
       "      <td>0</td>\n",
       "      <td>0</td>\n",
       "      <td>0</td>\n",
       "      <td>...</td>\n",
       "      <td>0</td>\n",
       "      <td>0</td>\n",
       "      <td>0</td>\n",
       "      <td>0</td>\n",
       "      <td>0</td>\n",
       "      <td>0</td>\n",
       "      <td>0</td>\n",
       "      <td>0</td>\n",
       "      <td>0</td>\n",
       "      <td>0</td>\n",
       "    </tr>\n",
       "    <tr>\n",
       "      <th>1496</th>\n",
       "      <td>6.6</td>\n",
       "      <td>45.0</td>\n",
       "      <td>1.772000e+10</td>\n",
       "      <td>0</td>\n",
       "      <td>0</td>\n",
       "      <td>0</td>\n",
       "      <td>0</td>\n",
       "      <td>0</td>\n",
       "      <td>0</td>\n",
       "      <td>0</td>\n",
       "      <td>...</td>\n",
       "      <td>0</td>\n",
       "      <td>0</td>\n",
       "      <td>0</td>\n",
       "      <td>0</td>\n",
       "      <td>0</td>\n",
       "      <td>0</td>\n",
       "      <td>0</td>\n",
       "      <td>0</td>\n",
       "      <td>0</td>\n",
       "      <td>0</td>\n",
       "    </tr>\n",
       "    <tr>\n",
       "      <th>1497</th>\n",
       "      <td>5.4</td>\n",
       "      <td>0.0</td>\n",
       "      <td>0.000000e+00</td>\n",
       "      <td>0</td>\n",
       "      <td>0</td>\n",
       "      <td>0</td>\n",
       "      <td>0</td>\n",
       "      <td>0</td>\n",
       "      <td>0</td>\n",
       "      <td>0</td>\n",
       "      <td>...</td>\n",
       "      <td>0</td>\n",
       "      <td>0</td>\n",
       "      <td>0</td>\n",
       "      <td>0</td>\n",
       "      <td>0</td>\n",
       "      <td>0</td>\n",
       "      <td>0</td>\n",
       "      <td>0</td>\n",
       "      <td>0</td>\n",
       "      <td>0</td>\n",
       "    </tr>\n",
       "    <tr>\n",
       "      <th>1498</th>\n",
       "      <td>6.4</td>\n",
       "      <td>57.0</td>\n",
       "      <td>1.269400e+11</td>\n",
       "      <td>0</td>\n",
       "      <td>0</td>\n",
       "      <td>0</td>\n",
       "      <td>0</td>\n",
       "      <td>0</td>\n",
       "      <td>0</td>\n",
       "      <td>0</td>\n",
       "      <td>...</td>\n",
       "      <td>0</td>\n",
       "      <td>0</td>\n",
       "      <td>0</td>\n",
       "      <td>0</td>\n",
       "      <td>0</td>\n",
       "      <td>0</td>\n",
       "      <td>0</td>\n",
       "      <td>0</td>\n",
       "      <td>0</td>\n",
       "      <td>0</td>\n",
       "    </tr>\n",
       "    <tr>\n",
       "      <th>1499</th>\n",
       "      <td>6.7</td>\n",
       "      <td>0.0</td>\n",
       "      <td>0.000000e+00</td>\n",
       "      <td>0</td>\n",
       "      <td>0</td>\n",
       "      <td>0</td>\n",
       "      <td>0</td>\n",
       "      <td>0</td>\n",
       "      <td>0</td>\n",
       "      <td>0</td>\n",
       "      <td>...</td>\n",
       "      <td>0</td>\n",
       "      <td>0</td>\n",
       "      <td>0</td>\n",
       "      <td>0</td>\n",
       "      <td>0</td>\n",
       "      <td>0</td>\n",
       "      <td>0</td>\n",
       "      <td>0</td>\n",
       "      <td>0</td>\n",
       "      <td>0</td>\n",
       "    </tr>\n",
       "  </tbody>\n",
       "</table>\n",
       "<p>1500 rows × 2388 columns</p>\n",
       "</div>"
      ],
      "text/plain": [
       "      Rating  Metascore         Gross  Director_Adam McKay  \\\n",
       "0        9.2      100.0  1.349700e+11                    0   \n",
       "1        8.5      100.0  1.020000e+09                    0   \n",
       "2        8.0       83.0  1.049500e+11                    0   \n",
       "3        8.3      100.0  1.590000e+09                    0   \n",
       "4        9.0       97.0  4.360000e+09                    0   \n",
       "...      ...        ...           ...                  ...   \n",
       "1495     7.8       47.0  5.974000e+10                    0   \n",
       "1496     6.6       45.0  1.772000e+10                    0   \n",
       "1497     5.4        0.0  0.000000e+00                    0   \n",
       "1498     6.4       57.0  1.269400e+11                    0   \n",
       "1499     6.7        0.0  0.000000e+00                    0   \n",
       "\n",
       "      Director_Adrian Cronauer  Director_Adrian Lyne  Director_Aileen Wuornos  \\\n",
       "0                            0                     0                        0   \n",
       "1                            0                     0                        0   \n",
       "2                            0                     0                        0   \n",
       "3                            0                     0                        0   \n",
       "4                            0                     0                        0   \n",
       "...                        ...                   ...                      ...   \n",
       "1495                         0                     0                        0   \n",
       "1496                         0                     0                        0   \n",
       "1497                         0                     0                        0   \n",
       "1498                         0                     0                        0   \n",
       "1499                         0                     0                        0   \n",
       "\n",
       "      Director_Akira Kurosawa  Director_Alan J. Pakula  Director_Alan Parker  \\\n",
       "0                           0                        0                     0   \n",
       "1                           0                        0                     0   \n",
       "2                           0                        0                     0   \n",
       "3                           0                        0                     0   \n",
       "4                           0                        0                     0   \n",
       "...                       ...                      ...                   ...   \n",
       "1495                        0                        0                     0   \n",
       "1496                        0                        0                     0   \n",
       "1497                        0                        0                     0   \n",
       "1498                        0                        0                     0   \n",
       "1499                        0                        0                     0   \n",
       "\n",
       "      ...  Genre_Musical, Romance  Genre_Musical, Romance, Western  \\\n",
       "0     ...                       0                                0   \n",
       "1     ...                       0                                0   \n",
       "2     ...                       0                                0   \n",
       "3     ...                       0                                0   \n",
       "4     ...                       0                                0   \n",
       "...   ...                     ...                              ...   \n",
       "1495  ...                       0                                0   \n",
       "1496  ...                       0                                0   \n",
       "1497  ...                       0                                0   \n",
       "1498  ...                       0                                0   \n",
       "1499  ...                       0                                0   \n",
       "\n",
       "      Genre_Mystery, Romance, Thriller  Genre_Mystery, Sci-Fi, Thriller  \\\n",
       "0                                    0                                0   \n",
       "1                                    0                                0   \n",
       "2                                    0                                0   \n",
       "3                                    0                                0   \n",
       "4                                    0                                0   \n",
       "...                                ...                              ...   \n",
       "1495                                 0                                0   \n",
       "1496                                 0                                0   \n",
       "1497                                 0                                0   \n",
       "1498                                 0                                0   \n",
       "1499                                 0                                0   \n",
       "\n",
       "      Genre_Mystery, Thriller  Genre_Romance, Western  Genre_Thriller  \\\n",
       "0                           0                       0               0   \n",
       "1                           0                       0               0   \n",
       "2                           0                       0               0   \n",
       "3                           0                       0               0   \n",
       "4                           0                       0               0   \n",
       "...                       ...                     ...             ...   \n",
       "1495                        0                       0               0   \n",
       "1496                        0                       0               0   \n",
       "1497                        0                       0               0   \n",
       "1498                        0                       0               0   \n",
       "1499                        0                       0               0   \n",
       "\n",
       "      Genre_Thriller, War  Genre_Thriller, Western  Genre_Western  \n",
       "0                       0                        0              0  \n",
       "1                       0                        0              0  \n",
       "2                       0                        0              0  \n",
       "3                       0                        0              0  \n",
       "4                       0                        0              0  \n",
       "...                   ...                      ...            ...  \n",
       "1495                    0                        0              0  \n",
       "1496                    0                        0              0  \n",
       "1497                    0                        0              0  \n",
       "1498                    0                        0              0  \n",
       "1499                    0                        0              0  \n",
       "\n",
       "[1500 rows x 2388 columns]"
      ]
     },
     "execution_count": 30,
     "metadata": {},
     "output_type": "execute_result"
    }
   ],
   "source": [
    "def convertDolla2Int(series):\n",
    "    value = [float(x[1:-1])  * 1000000000 for x in series ]\n",
    "    return value\n",
    "\n",
    "feature_cols = ['Rating', 'Metascore', 'Director', 'Stars', 'Genre', 'Gross']\n",
    "\n",
    "modeling_data = filmdata_df[feature_cols].copy()\n",
    "modeling_data.Gross = modeling_data.Gross.fillna('$0M')\n",
    "modeling_data.Metascore = modeling_data.Metascore.fillna(0.0)\n",
    "modeling_data.Rating = modeling_data.Rating.fillna(0.0)\n",
    "modeling_data.Gross = convertDolla2Int(modeling_data.Gross)\n",
    "modeling_data = modeling_data.join(pd.get_dummies(modeling_data[['Director', 'Stars', 'Genre']], dtype= int)).drop(['Director', 'Stars', 'Genre'], axis= 1)\n",
    "modeling_data"
   ]
  },
  {
   "cell_type": "code",
   "execution_count": 31,
   "metadata": {},
   "outputs": [],
   "source": [
    "X, y = modeling_data.drop(['Gross'], axis= 1), modeling_data.Gross\n",
    "X_train, X_test, y_train, y_test = train_test_split(X, y, test_size= 0.2)"
   ]
  },
  {
   "cell_type": "code",
   "execution_count": 32,
   "metadata": {},
   "outputs": [
    {
     "data": {
      "text/html": [
       "<div>\n",
       "<style scoped>\n",
       "    .dataframe tbody tr th:only-of-type {\n",
       "        vertical-align: middle;\n",
       "    }\n",
       "\n",
       "    .dataframe tbody tr th {\n",
       "        vertical-align: top;\n",
       "    }\n",
       "\n",
       "    .dataframe thead th {\n",
       "        text-align: right;\n",
       "    }\n",
       "</style>\n",
       "<table border=\"1\" class=\"dataframe\">\n",
       "  <thead>\n",
       "    <tr style=\"text-align: right;\">\n",
       "      <th></th>\n",
       "      <th>Rating</th>\n",
       "      <th>Metascore</th>\n",
       "      <th>Director_Adam McKay</th>\n",
       "      <th>Director_Adrian Cronauer</th>\n",
       "      <th>Director_Adrian Lyne</th>\n",
       "      <th>Director_Aileen Wuornos</th>\n",
       "      <th>Director_Akira Kurosawa</th>\n",
       "      <th>Director_Alan J. Pakula</th>\n",
       "      <th>Director_Alan Parker</th>\n",
       "      <th>Director_Alejandro G. Iñárritu</th>\n",
       "      <th>...</th>\n",
       "      <th>Genre_Musical, Romance, Western</th>\n",
       "      <th>Genre_Mystery, Romance, Thriller</th>\n",
       "      <th>Genre_Mystery, Sci-Fi, Thriller</th>\n",
       "      <th>Genre_Mystery, Thriller</th>\n",
       "      <th>Genre_Romance, Western</th>\n",
       "      <th>Genre_Thriller</th>\n",
       "      <th>Genre_Thriller, War</th>\n",
       "      <th>Genre_Thriller, Western</th>\n",
       "      <th>Genre_Western</th>\n",
       "      <th>Gross</th>\n",
       "    </tr>\n",
       "  </thead>\n",
       "  <tbody>\n",
       "    <tr>\n",
       "      <th>118</th>\n",
       "      <td>8.0</td>\n",
       "      <td>96.0</td>\n",
       "      <td>0</td>\n",
       "      <td>0</td>\n",
       "      <td>0</td>\n",
       "      <td>0</td>\n",
       "      <td>0</td>\n",
       "      <td>0</td>\n",
       "      <td>0</td>\n",
       "      <td>0</td>\n",
       "      <td>...</td>\n",
       "      <td>0</td>\n",
       "      <td>0</td>\n",
       "      <td>0</td>\n",
       "      <td>0</td>\n",
       "      <td>0</td>\n",
       "      <td>0</td>\n",
       "      <td>0</td>\n",
       "      <td>0</td>\n",
       "      <td>0</td>\n",
       "      <td>2.000000e+08</td>\n",
       "    </tr>\n",
       "    <tr>\n",
       "      <th>301</th>\n",
       "      <td>8.0</td>\n",
       "      <td>78.0</td>\n",
       "      <td>0</td>\n",
       "      <td>0</td>\n",
       "      <td>0</td>\n",
       "      <td>0</td>\n",
       "      <td>0</td>\n",
       "      <td>0</td>\n",
       "      <td>0</td>\n",
       "      <td>0</td>\n",
       "      <td>...</td>\n",
       "      <td>0</td>\n",
       "      <td>0</td>\n",
       "      <td>0</td>\n",
       "      <td>0</td>\n",
       "      <td>0</td>\n",
       "      <td>0</td>\n",
       "      <td>0</td>\n",
       "      <td>0</td>\n",
       "      <td>0</td>\n",
       "      <td>0.000000e+00</td>\n",
       "    </tr>\n",
       "    <tr>\n",
       "      <th>440</th>\n",
       "      <td>7.7</td>\n",
       "      <td>83.0</td>\n",
       "      <td>0</td>\n",
       "      <td>0</td>\n",
       "      <td>0</td>\n",
       "      <td>0</td>\n",
       "      <td>0</td>\n",
       "      <td>0</td>\n",
       "      <td>0</td>\n",
       "      <td>0</td>\n",
       "      <td>...</td>\n",
       "      <td>0</td>\n",
       "      <td>0</td>\n",
       "      <td>0</td>\n",
       "      <td>0</td>\n",
       "      <td>0</td>\n",
       "      <td>0</td>\n",
       "      <td>0</td>\n",
       "      <td>0</td>\n",
       "      <td>0</td>\n",
       "      <td>1.564500e+11</td>\n",
       "    </tr>\n",
       "    <tr>\n",
       "      <th>742</th>\n",
       "      <td>7.0</td>\n",
       "      <td>77.0</td>\n",
       "      <td>0</td>\n",
       "      <td>0</td>\n",
       "      <td>0</td>\n",
       "      <td>0</td>\n",
       "      <td>0</td>\n",
       "      <td>0</td>\n",
       "      <td>0</td>\n",
       "      <td>0</td>\n",
       "      <td>...</td>\n",
       "      <td>0</td>\n",
       "      <td>0</td>\n",
       "      <td>0</td>\n",
       "      <td>0</td>\n",
       "      <td>0</td>\n",
       "      <td>0</td>\n",
       "      <td>0</td>\n",
       "      <td>0</td>\n",
       "      <td>0</td>\n",
       "      <td>5.229000e+10</td>\n",
       "    </tr>\n",
       "    <tr>\n",
       "      <th>1325</th>\n",
       "      <td>7.4</td>\n",
       "      <td>70.0</td>\n",
       "      <td>0</td>\n",
       "      <td>0</td>\n",
       "      <td>0</td>\n",
       "      <td>0</td>\n",
       "      <td>0</td>\n",
       "      <td>0</td>\n",
       "      <td>0</td>\n",
       "      <td>0</td>\n",
       "      <td>...</td>\n",
       "      <td>0</td>\n",
       "      <td>0</td>\n",
       "      <td>0</td>\n",
       "      <td>0</td>\n",
       "      <td>0</td>\n",
       "      <td>0</td>\n",
       "      <td>0</td>\n",
       "      <td>0</td>\n",
       "      <td>0</td>\n",
       "      <td>3.490000e+10</td>\n",
       "    </tr>\n",
       "    <tr>\n",
       "      <th>...</th>\n",
       "      <td>...</td>\n",
       "      <td>...</td>\n",
       "      <td>...</td>\n",
       "      <td>...</td>\n",
       "      <td>...</td>\n",
       "      <td>...</td>\n",
       "      <td>...</td>\n",
       "      <td>...</td>\n",
       "      <td>...</td>\n",
       "      <td>...</td>\n",
       "      <td>...</td>\n",
       "      <td>...</td>\n",
       "      <td>...</td>\n",
       "      <td>...</td>\n",
       "      <td>...</td>\n",
       "      <td>...</td>\n",
       "      <td>...</td>\n",
       "      <td>...</td>\n",
       "      <td>...</td>\n",
       "      <td>...</td>\n",
       "      <td>...</td>\n",
       "    </tr>\n",
       "    <tr>\n",
       "      <th>992</th>\n",
       "      <td>7.4</td>\n",
       "      <td>55.0</td>\n",
       "      <td>0</td>\n",
       "      <td>0</td>\n",
       "      <td>0</td>\n",
       "      <td>0</td>\n",
       "      <td>0</td>\n",
       "      <td>0</td>\n",
       "      <td>0</td>\n",
       "      <td>0</td>\n",
       "      <td>...</td>\n",
       "      <td>0</td>\n",
       "      <td>0</td>\n",
       "      <td>0</td>\n",
       "      <td>0</td>\n",
       "      <td>0</td>\n",
       "      <td>0</td>\n",
       "      <td>0</td>\n",
       "      <td>0</td>\n",
       "      <td>0</td>\n",
       "      <td>7.787000e+10</td>\n",
       "    </tr>\n",
       "    <tr>\n",
       "      <th>270</th>\n",
       "      <td>8.3</td>\n",
       "      <td>0.0</td>\n",
       "      <td>0</td>\n",
       "      <td>0</td>\n",
       "      <td>0</td>\n",
       "      <td>0</td>\n",
       "      <td>0</td>\n",
       "      <td>0</td>\n",
       "      <td>0</td>\n",
       "      <td>0</td>\n",
       "      <td>...</td>\n",
       "      <td>0</td>\n",
       "      <td>0</td>\n",
       "      <td>0</td>\n",
       "      <td>0</td>\n",
       "      <td>0</td>\n",
       "      <td>0</td>\n",
       "      <td>0</td>\n",
       "      <td>0</td>\n",
       "      <td>0</td>\n",
       "      <td>3.000000e+07</td>\n",
       "    </tr>\n",
       "    <tr>\n",
       "      <th>1356</th>\n",
       "      <td>7.3</td>\n",
       "      <td>90.0</td>\n",
       "      <td>0</td>\n",
       "      <td>0</td>\n",
       "      <td>0</td>\n",
       "      <td>0</td>\n",
       "      <td>0</td>\n",
       "      <td>0</td>\n",
       "      <td>0</td>\n",
       "      <td>0</td>\n",
       "      <td>...</td>\n",
       "      <td>0</td>\n",
       "      <td>0</td>\n",
       "      <td>0</td>\n",
       "      <td>0</td>\n",
       "      <td>0</td>\n",
       "      <td>0</td>\n",
       "      <td>0</td>\n",
       "      <td>0</td>\n",
       "      <td>0</td>\n",
       "      <td>5.644000e+10</td>\n",
       "    </tr>\n",
       "    <tr>\n",
       "      <th>1247</th>\n",
       "      <td>7.7</td>\n",
       "      <td>72.0</td>\n",
       "      <td>0</td>\n",
       "      <td>0</td>\n",
       "      <td>0</td>\n",
       "      <td>0</td>\n",
       "      <td>0</td>\n",
       "      <td>0</td>\n",
       "      <td>0</td>\n",
       "      <td>0</td>\n",
       "      <td>...</td>\n",
       "      <td>0</td>\n",
       "      <td>0</td>\n",
       "      <td>0</td>\n",
       "      <td>0</td>\n",
       "      <td>0</td>\n",
       "      <td>0</td>\n",
       "      <td>0</td>\n",
       "      <td>0</td>\n",
       "      <td>0</td>\n",
       "      <td>2.835000e+10</td>\n",
       "    </tr>\n",
       "    <tr>\n",
       "      <th>501</th>\n",
       "      <td>7.8</td>\n",
       "      <td>0.0</td>\n",
       "      <td>0</td>\n",
       "      <td>0</td>\n",
       "      <td>0</td>\n",
       "      <td>0</td>\n",
       "      <td>0</td>\n",
       "      <td>0</td>\n",
       "      <td>0</td>\n",
       "      <td>0</td>\n",
       "      <td>...</td>\n",
       "      <td>0</td>\n",
       "      <td>0</td>\n",
       "      <td>0</td>\n",
       "      <td>0</td>\n",
       "      <td>0</td>\n",
       "      <td>0</td>\n",
       "      <td>0</td>\n",
       "      <td>0</td>\n",
       "      <td>0</td>\n",
       "      <td>0.000000e+00</td>\n",
       "    </tr>\n",
       "  </tbody>\n",
       "</table>\n",
       "<p>1200 rows × 2388 columns</p>\n",
       "</div>"
      ],
      "text/plain": [
       "      Rating  Metascore  Director_Adam McKay  Director_Adrian Cronauer  \\\n",
       "118      8.0       96.0                    0                         0   \n",
       "301      8.0       78.0                    0                         0   \n",
       "440      7.7       83.0                    0                         0   \n",
       "742      7.0       77.0                    0                         0   \n",
       "1325     7.4       70.0                    0                         0   \n",
       "...      ...        ...                  ...                       ...   \n",
       "992      7.4       55.0                    0                         0   \n",
       "270      8.3        0.0                    0                         0   \n",
       "1356     7.3       90.0                    0                         0   \n",
       "1247     7.7       72.0                    0                         0   \n",
       "501      7.8        0.0                    0                         0   \n",
       "\n",
       "      Director_Adrian Lyne  Director_Aileen Wuornos  Director_Akira Kurosawa  \\\n",
       "118                      0                        0                        0   \n",
       "301                      0                        0                        0   \n",
       "440                      0                        0                        0   \n",
       "742                      0                        0                        0   \n",
       "1325                     0                        0                        0   \n",
       "...                    ...                      ...                      ...   \n",
       "992                      0                        0                        0   \n",
       "270                      0                        0                        0   \n",
       "1356                     0                        0                        0   \n",
       "1247                     0                        0                        0   \n",
       "501                      0                        0                        0   \n",
       "\n",
       "      Director_Alan J. Pakula  Director_Alan Parker  \\\n",
       "118                         0                     0   \n",
       "301                         0                     0   \n",
       "440                         0                     0   \n",
       "742                         0                     0   \n",
       "1325                        0                     0   \n",
       "...                       ...                   ...   \n",
       "992                         0                     0   \n",
       "270                         0                     0   \n",
       "1356                        0                     0   \n",
       "1247                        0                     0   \n",
       "501                         0                     0   \n",
       "\n",
       "      Director_Alejandro G. Iñárritu  ...  Genre_Musical, Romance, Western  \\\n",
       "118                                0  ...                                0   \n",
       "301                                0  ...                                0   \n",
       "440                                0  ...                                0   \n",
       "742                                0  ...                                0   \n",
       "1325                               0  ...                                0   \n",
       "...                              ...  ...                              ...   \n",
       "992                                0  ...                                0   \n",
       "270                                0  ...                                0   \n",
       "1356                               0  ...                                0   \n",
       "1247                               0  ...                                0   \n",
       "501                                0  ...                                0   \n",
       "\n",
       "      Genre_Mystery, Romance, Thriller  Genre_Mystery, Sci-Fi, Thriller  \\\n",
       "118                                  0                                0   \n",
       "301                                  0                                0   \n",
       "440                                  0                                0   \n",
       "742                                  0                                0   \n",
       "1325                                 0                                0   \n",
       "...                                ...                              ...   \n",
       "992                                  0                                0   \n",
       "270                                  0                                0   \n",
       "1356                                 0                                0   \n",
       "1247                                 0                                0   \n",
       "501                                  0                                0   \n",
       "\n",
       "      Genre_Mystery, Thriller  Genre_Romance, Western  Genre_Thriller  \\\n",
       "118                         0                       0               0   \n",
       "301                         0                       0               0   \n",
       "440                         0                       0               0   \n",
       "742                         0                       0               0   \n",
       "1325                        0                       0               0   \n",
       "...                       ...                     ...             ...   \n",
       "992                         0                       0               0   \n",
       "270                         0                       0               0   \n",
       "1356                        0                       0               0   \n",
       "1247                        0                       0               0   \n",
       "501                         0                       0               0   \n",
       "\n",
       "      Genre_Thriller, War  Genre_Thriller, Western  Genre_Western  \\\n",
       "118                     0                        0              0   \n",
       "301                     0                        0              0   \n",
       "440                     0                        0              0   \n",
       "742                     0                        0              0   \n",
       "1325                    0                        0              0   \n",
       "...                   ...                      ...            ...   \n",
       "992                     0                        0              0   \n",
       "270                     0                        0              0   \n",
       "1356                    0                        0              0   \n",
       "1247                    0                        0              0   \n",
       "501                     0                        0              0   \n",
       "\n",
       "             Gross  \n",
       "118   2.000000e+08  \n",
       "301   0.000000e+00  \n",
       "440   1.564500e+11  \n",
       "742   5.229000e+10  \n",
       "1325  3.490000e+10  \n",
       "...            ...  \n",
       "992   7.787000e+10  \n",
       "270   3.000000e+07  \n",
       "1356  5.644000e+10  \n",
       "1247  2.835000e+10  \n",
       "501   0.000000e+00  \n",
       "\n",
       "[1200 rows x 2388 columns]"
      ]
     },
     "execution_count": 32,
     "metadata": {},
     "output_type": "execute_result"
    }
   ],
   "source": [
    "train_data = X_train.join(y_train)\n",
    "train_data"
   ]
  },
  {
   "cell_type": "code",
   "execution_count": 33,
   "metadata": {},
   "outputs": [
    {
     "data": {
      "text/html": [
       "<div>\n",
       "<style scoped>\n",
       "    .dataframe tbody tr th:only-of-type {\n",
       "        vertical-align: middle;\n",
       "    }\n",
       "\n",
       "    .dataframe tbody tr th {\n",
       "        vertical-align: top;\n",
       "    }\n",
       "\n",
       "    .dataframe thead th {\n",
       "        text-align: right;\n",
       "    }\n",
       "</style>\n",
       "<table border=\"1\" class=\"dataframe\">\n",
       "  <thead>\n",
       "    <tr style=\"text-align: right;\">\n",
       "      <th></th>\n",
       "      <th>Rating</th>\n",
       "      <th>Metascore</th>\n",
       "      <th>Director_Adam McKay</th>\n",
       "      <th>Director_Adrian Cronauer</th>\n",
       "      <th>Director_Adrian Lyne</th>\n",
       "      <th>Director_Aileen Wuornos</th>\n",
       "      <th>Director_Akira Kurosawa</th>\n",
       "      <th>Director_Alan J. Pakula</th>\n",
       "      <th>Director_Alan Parker</th>\n",
       "      <th>Director_Alejandro G. Iñárritu</th>\n",
       "      <th>...</th>\n",
       "      <th>Genre_Musical, Romance, Western</th>\n",
       "      <th>Genre_Mystery, Romance, Thriller</th>\n",
       "      <th>Genre_Mystery, Sci-Fi, Thriller</th>\n",
       "      <th>Genre_Mystery, Thriller</th>\n",
       "      <th>Genre_Romance, Western</th>\n",
       "      <th>Genre_Thriller</th>\n",
       "      <th>Genre_Thriller, War</th>\n",
       "      <th>Genre_Thriller, Western</th>\n",
       "      <th>Genre_Western</th>\n",
       "      <th>Gross</th>\n",
       "    </tr>\n",
       "  </thead>\n",
       "  <tbody>\n",
       "    <tr>\n",
       "      <th>223</th>\n",
       "      <td>8.0</td>\n",
       "      <td>90.0</td>\n",
       "      <td>0</td>\n",
       "      <td>0</td>\n",
       "      <td>0</td>\n",
       "      <td>0</td>\n",
       "      <td>0</td>\n",
       "      <td>0</td>\n",
       "      <td>0</td>\n",
       "      <td>0</td>\n",
       "      <td>...</td>\n",
       "      <td>0</td>\n",
       "      <td>0</td>\n",
       "      <td>0</td>\n",
       "      <td>0</td>\n",
       "      <td>0</td>\n",
       "      <td>0</td>\n",
       "      <td>0</td>\n",
       "      <td>0</td>\n",
       "      <td>0</td>\n",
       "      <td>2.614400e+11</td>\n",
       "    </tr>\n",
       "    <tr>\n",
       "      <th>212</th>\n",
       "      <td>7.5</td>\n",
       "      <td>0.0</td>\n",
       "      <td>0</td>\n",
       "      <td>0</td>\n",
       "      <td>0</td>\n",
       "      <td>0</td>\n",
       "      <td>0</td>\n",
       "      <td>0</td>\n",
       "      <td>0</td>\n",
       "      <td>0</td>\n",
       "      <td>...</td>\n",
       "      <td>0</td>\n",
       "      <td>0</td>\n",
       "      <td>0</td>\n",
       "      <td>0</td>\n",
       "      <td>0</td>\n",
       "      <td>0</td>\n",
       "      <td>0</td>\n",
       "      <td>0</td>\n",
       "      <td>0</td>\n",
       "      <td>0.000000e+00</td>\n",
       "    </tr>\n",
       "    <tr>\n",
       "      <th>590</th>\n",
       "      <td>7.5</td>\n",
       "      <td>67.0</td>\n",
       "      <td>0</td>\n",
       "      <td>0</td>\n",
       "      <td>0</td>\n",
       "      <td>0</td>\n",
       "      <td>0</td>\n",
       "      <td>0</td>\n",
       "      <td>0</td>\n",
       "      <td>0</td>\n",
       "      <td>...</td>\n",
       "      <td>0</td>\n",
       "      <td>0</td>\n",
       "      <td>0</td>\n",
       "      <td>0</td>\n",
       "      <td>0</td>\n",
       "      <td>0</td>\n",
       "      <td>0</td>\n",
       "      <td>0</td>\n",
       "      <td>0</td>\n",
       "      <td>3.080000e+09</td>\n",
       "    </tr>\n",
       "    <tr>\n",
       "      <th>298</th>\n",
       "      <td>8.2</td>\n",
       "      <td>72.0</td>\n",
       "      <td>0</td>\n",
       "      <td>0</td>\n",
       "      <td>0</td>\n",
       "      <td>0</td>\n",
       "      <td>0</td>\n",
       "      <td>0</td>\n",
       "      <td>0</td>\n",
       "      <td>0</td>\n",
       "      <td>...</td>\n",
       "      <td>0</td>\n",
       "      <td>0</td>\n",
       "      <td>0</td>\n",
       "      <td>0</td>\n",
       "      <td>0</td>\n",
       "      <td>0</td>\n",
       "      <td>0</td>\n",
       "      <td>0</td>\n",
       "      <td>0</td>\n",
       "      <td>1.707400e+11</td>\n",
       "    </tr>\n",
       "    <tr>\n",
       "      <th>518</th>\n",
       "      <td>7.3</td>\n",
       "      <td>0.0</td>\n",
       "      <td>0</td>\n",
       "      <td>0</td>\n",
       "      <td>0</td>\n",
       "      <td>0</td>\n",
       "      <td>0</td>\n",
       "      <td>0</td>\n",
       "      <td>0</td>\n",
       "      <td>0</td>\n",
       "      <td>...</td>\n",
       "      <td>0</td>\n",
       "      <td>0</td>\n",
       "      <td>0</td>\n",
       "      <td>0</td>\n",
       "      <td>0</td>\n",
       "      <td>0</td>\n",
       "      <td>0</td>\n",
       "      <td>0</td>\n",
       "      <td>0</td>\n",
       "      <td>5.000000e+09</td>\n",
       "    </tr>\n",
       "    <tr>\n",
       "      <th>...</th>\n",
       "      <td>...</td>\n",
       "      <td>...</td>\n",
       "      <td>...</td>\n",
       "      <td>...</td>\n",
       "      <td>...</td>\n",
       "      <td>...</td>\n",
       "      <td>...</td>\n",
       "      <td>...</td>\n",
       "      <td>...</td>\n",
       "      <td>...</td>\n",
       "      <td>...</td>\n",
       "      <td>...</td>\n",
       "      <td>...</td>\n",
       "      <td>...</td>\n",
       "      <td>...</td>\n",
       "      <td>...</td>\n",
       "      <td>...</td>\n",
       "      <td>...</td>\n",
       "      <td>...</td>\n",
       "      <td>...</td>\n",
       "      <td>...</td>\n",
       "    </tr>\n",
       "    <tr>\n",
       "      <th>1466</th>\n",
       "      <td>5.4</td>\n",
       "      <td>0.0</td>\n",
       "      <td>0</td>\n",
       "      <td>0</td>\n",
       "      <td>0</td>\n",
       "      <td>0</td>\n",
       "      <td>0</td>\n",
       "      <td>0</td>\n",
       "      <td>0</td>\n",
       "      <td>0</td>\n",
       "      <td>...</td>\n",
       "      <td>0</td>\n",
       "      <td>0</td>\n",
       "      <td>0</td>\n",
       "      <td>0</td>\n",
       "      <td>0</td>\n",
       "      <td>0</td>\n",
       "      <td>0</td>\n",
       "      <td>0</td>\n",
       "      <td>0</td>\n",
       "      <td>0.000000e+00</td>\n",
       "    </tr>\n",
       "    <tr>\n",
       "      <th>1426</th>\n",
       "      <td>6.5</td>\n",
       "      <td>47.0</td>\n",
       "      <td>0</td>\n",
       "      <td>0</td>\n",
       "      <td>0</td>\n",
       "      <td>0</td>\n",
       "      <td>0</td>\n",
       "      <td>0</td>\n",
       "      <td>0</td>\n",
       "      <td>0</td>\n",
       "      <td>...</td>\n",
       "      <td>0</td>\n",
       "      <td>0</td>\n",
       "      <td>0</td>\n",
       "      <td>0</td>\n",
       "      <td>0</td>\n",
       "      <td>0</td>\n",
       "      <td>0</td>\n",
       "      <td>0</td>\n",
       "      <td>0</td>\n",
       "      <td>1.867400e+11</td>\n",
       "    </tr>\n",
       "    <tr>\n",
       "      <th>1391</th>\n",
       "      <td>6.6</td>\n",
       "      <td>38.0</td>\n",
       "      <td>0</td>\n",
       "      <td>0</td>\n",
       "      <td>0</td>\n",
       "      <td>0</td>\n",
       "      <td>0</td>\n",
       "      <td>0</td>\n",
       "      <td>0</td>\n",
       "      <td>0</td>\n",
       "      <td>...</td>\n",
       "      <td>0</td>\n",
       "      <td>0</td>\n",
       "      <td>0</td>\n",
       "      <td>0</td>\n",
       "      <td>0</td>\n",
       "      <td>0</td>\n",
       "      <td>0</td>\n",
       "      <td>0</td>\n",
       "      <td>0</td>\n",
       "      <td>1.386100e+11</td>\n",
       "    </tr>\n",
       "    <tr>\n",
       "      <th>732</th>\n",
       "      <td>7.6</td>\n",
       "      <td>72.0</td>\n",
       "      <td>0</td>\n",
       "      <td>0</td>\n",
       "      <td>0</td>\n",
       "      <td>0</td>\n",
       "      <td>0</td>\n",
       "      <td>0</td>\n",
       "      <td>0</td>\n",
       "      <td>0</td>\n",
       "      <td>...</td>\n",
       "      <td>0</td>\n",
       "      <td>0</td>\n",
       "      <td>0</td>\n",
       "      <td>0</td>\n",
       "      <td>0</td>\n",
       "      <td>0</td>\n",
       "      <td>0</td>\n",
       "      <td>0</td>\n",
       "      <td>0</td>\n",
       "      <td>2.120000e+10</td>\n",
       "    </tr>\n",
       "    <tr>\n",
       "      <th>278</th>\n",
       "      <td>7.2</td>\n",
       "      <td>85.0</td>\n",
       "      <td>0</td>\n",
       "      <td>0</td>\n",
       "      <td>0</td>\n",
       "      <td>0</td>\n",
       "      <td>0</td>\n",
       "      <td>0</td>\n",
       "      <td>0</td>\n",
       "      <td>0</td>\n",
       "      <td>...</td>\n",
       "      <td>0</td>\n",
       "      <td>0</td>\n",
       "      <td>0</td>\n",
       "      <td>0</td>\n",
       "      <td>0</td>\n",
       "      <td>0</td>\n",
       "      <td>0</td>\n",
       "      <td>0</td>\n",
       "      <td>0</td>\n",
       "      <td>5.160000e+10</td>\n",
       "    </tr>\n",
       "  </tbody>\n",
       "</table>\n",
       "<p>300 rows × 2388 columns</p>\n",
       "</div>"
      ],
      "text/plain": [
       "      Rating  Metascore  Director_Adam McKay  Director_Adrian Cronauer  \\\n",
       "223      8.0       90.0                    0                         0   \n",
       "212      7.5        0.0                    0                         0   \n",
       "590      7.5       67.0                    0                         0   \n",
       "298      8.2       72.0                    0                         0   \n",
       "518      7.3        0.0                    0                         0   \n",
       "...      ...        ...                  ...                       ...   \n",
       "1466     5.4        0.0                    0                         0   \n",
       "1426     6.5       47.0                    0                         0   \n",
       "1391     6.6       38.0                    0                         0   \n",
       "732      7.6       72.0                    0                         0   \n",
       "278      7.2       85.0                    0                         0   \n",
       "\n",
       "      Director_Adrian Lyne  Director_Aileen Wuornos  Director_Akira Kurosawa  \\\n",
       "223                      0                        0                        0   \n",
       "212                      0                        0                        0   \n",
       "590                      0                        0                        0   \n",
       "298                      0                        0                        0   \n",
       "518                      0                        0                        0   \n",
       "...                    ...                      ...                      ...   \n",
       "1466                     0                        0                        0   \n",
       "1426                     0                        0                        0   \n",
       "1391                     0                        0                        0   \n",
       "732                      0                        0                        0   \n",
       "278                      0                        0                        0   \n",
       "\n",
       "      Director_Alan J. Pakula  Director_Alan Parker  \\\n",
       "223                         0                     0   \n",
       "212                         0                     0   \n",
       "590                         0                     0   \n",
       "298                         0                     0   \n",
       "518                         0                     0   \n",
       "...                       ...                   ...   \n",
       "1466                        0                     0   \n",
       "1426                        0                     0   \n",
       "1391                        0                     0   \n",
       "732                         0                     0   \n",
       "278                         0                     0   \n",
       "\n",
       "      Director_Alejandro G. Iñárritu  ...  Genre_Musical, Romance, Western  \\\n",
       "223                                0  ...                                0   \n",
       "212                                0  ...                                0   \n",
       "590                                0  ...                                0   \n",
       "298                                0  ...                                0   \n",
       "518                                0  ...                                0   \n",
       "...                              ...  ...                              ...   \n",
       "1466                               0  ...                                0   \n",
       "1426                               0  ...                                0   \n",
       "1391                               0  ...                                0   \n",
       "732                                0  ...                                0   \n",
       "278                                0  ...                                0   \n",
       "\n",
       "      Genre_Mystery, Romance, Thriller  Genre_Mystery, Sci-Fi, Thriller  \\\n",
       "223                                  0                                0   \n",
       "212                                  0                                0   \n",
       "590                                  0                                0   \n",
       "298                                  0                                0   \n",
       "518                                  0                                0   \n",
       "...                                ...                              ...   \n",
       "1466                                 0                                0   \n",
       "1426                                 0                                0   \n",
       "1391                                 0                                0   \n",
       "732                                  0                                0   \n",
       "278                                  0                                0   \n",
       "\n",
       "      Genre_Mystery, Thriller  Genre_Romance, Western  Genre_Thriller  \\\n",
       "223                         0                       0               0   \n",
       "212                         0                       0               0   \n",
       "590                         0                       0               0   \n",
       "298                         0                       0               0   \n",
       "518                         0                       0               0   \n",
       "...                       ...                     ...             ...   \n",
       "1466                        0                       0               0   \n",
       "1426                        0                       0               0   \n",
       "1391                        0                       0               0   \n",
       "732                         0                       0               0   \n",
       "278                         0                       0               0   \n",
       "\n",
       "      Genre_Thriller, War  Genre_Thriller, Western  Genre_Western  \\\n",
       "223                     0                        0              0   \n",
       "212                     0                        0              0   \n",
       "590                     0                        0              0   \n",
       "298                     0                        0              0   \n",
       "518                     0                        0              0   \n",
       "...                   ...                      ...            ...   \n",
       "1466                    0                        0              0   \n",
       "1426                    0                        0              0   \n",
       "1391                    0                        0              0   \n",
       "732                     0                        0              0   \n",
       "278                     0                        0              0   \n",
       "\n",
       "             Gross  \n",
       "223   2.614400e+11  \n",
       "212   0.000000e+00  \n",
       "590   3.080000e+09  \n",
       "298   1.707400e+11  \n",
       "518   5.000000e+09  \n",
       "...            ...  \n",
       "1466  0.000000e+00  \n",
       "1426  1.867400e+11  \n",
       "1391  1.386100e+11  \n",
       "732   2.120000e+10  \n",
       "278   5.160000e+10  \n",
       "\n",
       "[300 rows x 2388 columns]"
      ]
     },
     "execution_count": 33,
     "metadata": {},
     "output_type": "execute_result"
    }
   ],
   "source": [
    "test_data = X_test.join(y_test)\n",
    "test_data"
   ]
  },
  {
   "attachments": {},
   "cell_type": "markdown",
   "metadata": {},
   "source": [
    "### Create Model"
   ]
  },
  {
   "cell_type": "code",
   "execution_count": null,
   "metadata": {},
   "outputs": [],
   "source": []
  },
  {
   "attachments": {},
   "cell_type": "markdown",
   "metadata": {},
   "source": [
    "### Trainning Model"
   ]
  },
  {
   "cell_type": "code",
   "execution_count": 34,
   "metadata": {},
   "outputs": [
    {
     "data": {
      "text/html": [
       "<style>#sk-container-id-1 {color: black;}#sk-container-id-1 pre{padding: 0;}#sk-container-id-1 div.sk-toggleable {background-color: white;}#sk-container-id-1 label.sk-toggleable__label {cursor: pointer;display: block;width: 100%;margin-bottom: 0;padding: 0.3em;box-sizing: border-box;text-align: center;}#sk-container-id-1 label.sk-toggleable__label-arrow:before {content: \"▸\";float: left;margin-right: 0.25em;color: #696969;}#sk-container-id-1 label.sk-toggleable__label-arrow:hover:before {color: black;}#sk-container-id-1 div.sk-estimator:hover label.sk-toggleable__label-arrow:before {color: black;}#sk-container-id-1 div.sk-toggleable__content {max-height: 0;max-width: 0;overflow: hidden;text-align: left;background-color: #f0f8ff;}#sk-container-id-1 div.sk-toggleable__content pre {margin: 0.2em;color: black;border-radius: 0.25em;background-color: #f0f8ff;}#sk-container-id-1 input.sk-toggleable__control:checked~div.sk-toggleable__content {max-height: 200px;max-width: 100%;overflow: auto;}#sk-container-id-1 input.sk-toggleable__control:checked~label.sk-toggleable__label-arrow:before {content: \"▾\";}#sk-container-id-1 div.sk-estimator input.sk-toggleable__control:checked~label.sk-toggleable__label {background-color: #d4ebff;}#sk-container-id-1 div.sk-label input.sk-toggleable__control:checked~label.sk-toggleable__label {background-color: #d4ebff;}#sk-container-id-1 input.sk-hidden--visually {border: 0;clip: rect(1px 1px 1px 1px);clip: rect(1px, 1px, 1px, 1px);height: 1px;margin: -1px;overflow: hidden;padding: 0;position: absolute;width: 1px;}#sk-container-id-1 div.sk-estimator {font-family: monospace;background-color: #f0f8ff;border: 1px dotted black;border-radius: 0.25em;box-sizing: border-box;margin-bottom: 0.5em;}#sk-container-id-1 div.sk-estimator:hover {background-color: #d4ebff;}#sk-container-id-1 div.sk-parallel-item::after {content: \"\";width: 100%;border-bottom: 1px solid gray;flex-grow: 1;}#sk-container-id-1 div.sk-label:hover label.sk-toggleable__label {background-color: #d4ebff;}#sk-container-id-1 div.sk-serial::before {content: \"\";position: absolute;border-left: 1px solid gray;box-sizing: border-box;top: 0;bottom: 0;left: 50%;z-index: 0;}#sk-container-id-1 div.sk-serial {display: flex;flex-direction: column;align-items: center;background-color: white;padding-right: 0.2em;padding-left: 0.2em;position: relative;}#sk-container-id-1 div.sk-item {position: relative;z-index: 1;}#sk-container-id-1 div.sk-parallel {display: flex;align-items: stretch;justify-content: center;background-color: white;position: relative;}#sk-container-id-1 div.sk-item::before, #sk-container-id-1 div.sk-parallel-item::before {content: \"\";position: absolute;border-left: 1px solid gray;box-sizing: border-box;top: 0;bottom: 0;left: 50%;z-index: -1;}#sk-container-id-1 div.sk-parallel-item {display: flex;flex-direction: column;z-index: 1;position: relative;background-color: white;}#sk-container-id-1 div.sk-parallel-item:first-child::after {align-self: flex-end;width: 50%;}#sk-container-id-1 div.sk-parallel-item:last-child::after {align-self: flex-start;width: 50%;}#sk-container-id-1 div.sk-parallel-item:only-child::after {width: 0;}#sk-container-id-1 div.sk-dashed-wrapped {border: 1px dashed gray;margin: 0 0.4em 0.5em 0.4em;box-sizing: border-box;padding-bottom: 0.4em;background-color: white;}#sk-container-id-1 div.sk-label label {font-family: monospace;font-weight: bold;display: inline-block;line-height: 1.2em;}#sk-container-id-1 div.sk-label-container {text-align: center;}#sk-container-id-1 div.sk-container {/* jupyter's `normalize.less` sets `[hidden] { display: none; }` but bootstrap.min.css set `[hidden] { display: none !important; }` so we also need the `!important` here to be able to override the default hidden behavior on the sphinx rendered scikit-learn.org. See: https://github.com/scikit-learn/scikit-learn/issues/21755 */display: inline-block !important;position: relative;}#sk-container-id-1 div.sk-text-repr-fallback {display: none;}</style><div id=\"sk-container-id-1\" class=\"sk-top-container\"><div class=\"sk-text-repr-fallback\"><pre>LinearRegression()</pre><b>In a Jupyter environment, please rerun this cell to show the HTML representation or trust the notebook. <br />On GitHub, the HTML representation is unable to render, please try loading this page with nbviewer.org.</b></div><div class=\"sk-container\" hidden><div class=\"sk-item\"><div class=\"sk-estimator sk-toggleable\"><input class=\"sk-toggleable__control sk-hidden--visually\" id=\"sk-estimator-id-1\" type=\"checkbox\" checked><label for=\"sk-estimator-id-1\" class=\"sk-toggleable__label sk-toggleable__label-arrow\">LinearRegression</label><div class=\"sk-toggleable__content\"><pre>LinearRegression()</pre></div></div></div></div></div>"
      ],
      "text/plain": [
       "LinearRegression()"
      ]
     },
     "execution_count": 34,
     "metadata": {},
     "output_type": "execute_result"
    }
   ],
   "source": [
    "X_train, y_train = train_data.drop(['Gross'], axis= 1), train_data.Gross\n",
    "X_test, y_test = test_data.drop(['Gross'], axis= 1), test_data.Gross\n",
    "\n",
    "X_train_s = StandardScaler().fit_transform(X_train)\n",
    "X_test_s = StandardScaler().fit_transform(X_test)\n",
    "\n",
    "reg = LinearRegression()\n",
    "reg.fit(X_train_s, y_train)"
   ]
  },
  {
   "cell_type": "code",
   "execution_count": 35,
   "metadata": {},
   "outputs": [
    {
     "data": {
      "text/plain": [
       "-6.180391239822556e+24"
      ]
     },
     "execution_count": 35,
     "metadata": {},
     "output_type": "execute_result"
    }
   ],
   "source": [
    "reg.score(X_test_s, y_test)"
   ]
  },
  {
   "cell_type": "code",
   "execution_count": 36,
   "metadata": {},
   "outputs": [
    {
     "data": {
      "text/html": [
       "<style>#sk-container-id-2 {color: black;}#sk-container-id-2 pre{padding: 0;}#sk-container-id-2 div.sk-toggleable {background-color: white;}#sk-container-id-2 label.sk-toggleable__label {cursor: pointer;display: block;width: 100%;margin-bottom: 0;padding: 0.3em;box-sizing: border-box;text-align: center;}#sk-container-id-2 label.sk-toggleable__label-arrow:before {content: \"▸\";float: left;margin-right: 0.25em;color: #696969;}#sk-container-id-2 label.sk-toggleable__label-arrow:hover:before {color: black;}#sk-container-id-2 div.sk-estimator:hover label.sk-toggleable__label-arrow:before {color: black;}#sk-container-id-2 div.sk-toggleable__content {max-height: 0;max-width: 0;overflow: hidden;text-align: left;background-color: #f0f8ff;}#sk-container-id-2 div.sk-toggleable__content pre {margin: 0.2em;color: black;border-radius: 0.25em;background-color: #f0f8ff;}#sk-container-id-2 input.sk-toggleable__control:checked~div.sk-toggleable__content {max-height: 200px;max-width: 100%;overflow: auto;}#sk-container-id-2 input.sk-toggleable__control:checked~label.sk-toggleable__label-arrow:before {content: \"▾\";}#sk-container-id-2 div.sk-estimator input.sk-toggleable__control:checked~label.sk-toggleable__label {background-color: #d4ebff;}#sk-container-id-2 div.sk-label input.sk-toggleable__control:checked~label.sk-toggleable__label {background-color: #d4ebff;}#sk-container-id-2 input.sk-hidden--visually {border: 0;clip: rect(1px 1px 1px 1px);clip: rect(1px, 1px, 1px, 1px);height: 1px;margin: -1px;overflow: hidden;padding: 0;position: absolute;width: 1px;}#sk-container-id-2 div.sk-estimator {font-family: monospace;background-color: #f0f8ff;border: 1px dotted black;border-radius: 0.25em;box-sizing: border-box;margin-bottom: 0.5em;}#sk-container-id-2 div.sk-estimator:hover {background-color: #d4ebff;}#sk-container-id-2 div.sk-parallel-item::after {content: \"\";width: 100%;border-bottom: 1px solid gray;flex-grow: 1;}#sk-container-id-2 div.sk-label:hover label.sk-toggleable__label {background-color: #d4ebff;}#sk-container-id-2 div.sk-serial::before {content: \"\";position: absolute;border-left: 1px solid gray;box-sizing: border-box;top: 0;bottom: 0;left: 50%;z-index: 0;}#sk-container-id-2 div.sk-serial {display: flex;flex-direction: column;align-items: center;background-color: white;padding-right: 0.2em;padding-left: 0.2em;position: relative;}#sk-container-id-2 div.sk-item {position: relative;z-index: 1;}#sk-container-id-2 div.sk-parallel {display: flex;align-items: stretch;justify-content: center;background-color: white;position: relative;}#sk-container-id-2 div.sk-item::before, #sk-container-id-2 div.sk-parallel-item::before {content: \"\";position: absolute;border-left: 1px solid gray;box-sizing: border-box;top: 0;bottom: 0;left: 50%;z-index: -1;}#sk-container-id-2 div.sk-parallel-item {display: flex;flex-direction: column;z-index: 1;position: relative;background-color: white;}#sk-container-id-2 div.sk-parallel-item:first-child::after {align-self: flex-end;width: 50%;}#sk-container-id-2 div.sk-parallel-item:last-child::after {align-self: flex-start;width: 50%;}#sk-container-id-2 div.sk-parallel-item:only-child::after {width: 0;}#sk-container-id-2 div.sk-dashed-wrapped {border: 1px dashed gray;margin: 0 0.4em 0.5em 0.4em;box-sizing: border-box;padding-bottom: 0.4em;background-color: white;}#sk-container-id-2 div.sk-label label {font-family: monospace;font-weight: bold;display: inline-block;line-height: 1.2em;}#sk-container-id-2 div.sk-label-container {text-align: center;}#sk-container-id-2 div.sk-container {/* jupyter's `normalize.less` sets `[hidden] { display: none; }` but bootstrap.min.css set `[hidden] { display: none !important; }` so we also need the `!important` here to be able to override the default hidden behavior on the sphinx rendered scikit-learn.org. See: https://github.com/scikit-learn/scikit-learn/issues/21755 */display: inline-block !important;position: relative;}#sk-container-id-2 div.sk-text-repr-fallback {display: none;}</style><div id=\"sk-container-id-2\" class=\"sk-top-container\"><div class=\"sk-text-repr-fallback\"><pre>RandomForestRegressor()</pre><b>In a Jupyter environment, please rerun this cell to show the HTML representation or trust the notebook. <br />On GitHub, the HTML representation is unable to render, please try loading this page with nbviewer.org.</b></div><div class=\"sk-container\" hidden><div class=\"sk-item\"><div class=\"sk-estimator sk-toggleable\"><input class=\"sk-toggleable__control sk-hidden--visually\" id=\"sk-estimator-id-2\" type=\"checkbox\" checked><label for=\"sk-estimator-id-2\" class=\"sk-toggleable__label sk-toggleable__label-arrow\">RandomForestRegressor</label><div class=\"sk-toggleable__content\"><pre>RandomForestRegressor()</pre></div></div></div></div></div>"
      ],
      "text/plain": [
       "RandomForestRegressor()"
      ]
     },
     "execution_count": 36,
     "metadata": {},
     "output_type": "execute_result"
    }
   ],
   "source": [
    "from sklearn.ensemble import RandomForestRegressor\n",
    "\n",
    "forest = RandomForestRegressor()\n",
    "\n",
    "forest.fit(X_train, y_train)"
   ]
  },
  {
   "cell_type": "code",
   "execution_count": 37,
   "metadata": {},
   "outputs": [
    {
     "data": {
      "text/plain": [
       "0.17782917735759507"
      ]
     },
     "execution_count": 37,
     "metadata": {},
     "output_type": "execute_result"
    }
   ],
   "source": [
    "forest.score(X_test, y_test)"
   ]
  },
  {
   "attachments": {},
   "cell_type": "markdown",
   "metadata": {},
   "source": [
    "### Evaluation"
   ]
  },
  {
   "attachments": {},
   "cell_type": "markdown",
   "metadata": {},
   "source": [
    "### Prediction"
   ]
  },
  {
   "attachments": {},
   "cell_type": "markdown",
   "metadata": {},
   "source": [
    "### Result Analyst"
   ]
  },
  {
   "attachments": {},
   "cell_type": "markdown",
   "metadata": {},
   "source": [
    "### Conclusion"
   ]
  },
  {
   "cell_type": "markdown",
   "metadata": {},
   "source": [
    "## References"
   ]
  },
  {
   "cell_type": "markdown",
   "metadata": {},
   "source": []
  }
 ],
 "metadata": {
  "kernelspec": {
   "display_name": "min_ds-env",
   "language": "python",
   "name": "python3"
  },
  "language_info": {
   "codemirror_mode": {
    "name": "ipython",
    "version": 3
   },
   "file_extension": ".py",
   "mimetype": "text/x-python",
   "name": "python",
   "nbconvert_exporter": "python",
   "pygments_lexer": "ipython3",
   "version": "3.9.18"
  }
 },
 "nbformat": 4,
 "nbformat_minor": 2
}
