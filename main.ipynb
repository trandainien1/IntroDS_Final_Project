{
 "cells": [
  {
   "cell_type": "markdown",
   "metadata": {},
   "source": [
    "# Introduction To Data Science - Final Project"
   ]
  },
  {
   "cell_type": "markdown",
   "metadata": {},
   "source": [
    "## Group members:"
   ]
  },
  {
   "cell_type": "markdown",
   "metadata": {},
   "source": [
    "| Name              | ID       |\n",
    "|-------------------|----------|\n",
    "| Pham Dang Son Ha |  21127206 |\n",
    "| Tran Dai Nien     | 21127664 |\n",
    "| Nguyen Cao Khoi   | 21127632 |\n",
    "| Nguyen Phan Minh Triet  | 21126007  |"
   ]
  },
  {
   "cell_type": "markdown",
   "metadata": {},
   "source": [
    "## Table of Contents"
   ]
  },
  {
   "cell_type": "markdown",
   "metadata": {},
   "source": [
    "\n",
    "1. [Data Collection](#data-collection)\n",
    "\n",
    "2. [Data Preprocessing and Exploration](#data-preprocessing-and-exploration)\n",
    "\n",
    "3. [Data Modeling](#data-modeling)\n",
    "\n",
    "4. [Reference](#references)"
   ]
  },
  {
   "cell_type": "markdown",
   "metadata": {},
   "source": [
    "## Setting up environment"
   ]
  },
  {
   "cell_type": "markdown",
   "metadata": {},
   "source": [
<<<<<<< HEAD
    "### 1. Set-up environment"
   ]
  },
  {
   "cell_type": "markdown",
   "metadata": {},
   "source": [
    "#### Import Required Libraries: Import the necessary Python libraries - requests, BeautifulSoup, pandas, and time."
=======
    "Import Required Libraries: Import the necessary Python libraries - requests, BeautifulSoup, pandas, and time."
>>>>>>> da7a59a151988e92287116bec765e70f9843594c
   ]
  },
  {
   "cell_type": "code",
   "execution_count": 108,
   "metadata": {},
   "outputs": [
    {
     "name": "stdout",
     "output_type": "stream",
     "text": [
      "Requirement already satisfied: bs4 in c:\\users\\nien\\miniconda3\\envs\\min_ds-env_2\\lib\\site-packages (0.0.1)\n",
      "Requirement already satisfied: beautifulsoup4 in c:\\users\\nien\\miniconda3\\envs\\min_ds-env_2\\lib\\site-packages (from bs4) (4.11.1)\n",
      "Requirement already satisfied: soupsieve>1.2 in c:\\users\\nien\\miniconda3\\envs\\min_ds-env_2\\lib\\site-packages (from beautifulsoup4->bs4) (2.5)\n",
      "Requirement already satisfied: requests in c:\\users\\nien\\miniconda3\\envs\\min_ds-env_2\\lib\\site-packages (2.28.1)\n",
      "Requirement already satisfied: charset-normalizer<3,>=2 in c:\\users\\nien\\miniconda3\\envs\\min_ds-env_2\\lib\\site-packages (from requests) (2.1.1)\n",
      "Requirement already satisfied: idna<4,>=2.5 in c:\\users\\nien\\miniconda3\\envs\\min_ds-env_2\\lib\\site-packages (from requests) (3.4)\n",
      "Requirement already satisfied: urllib3<1.27,>=1.21.1 in c:\\users\\nien\\miniconda3\\envs\\min_ds-env_2\\lib\\site-packages (from requests) (1.26.18)\n",
      "Requirement already satisfied: certifi>=2017.4.17 in c:\\users\\nien\\miniconda3\\envs\\min_ds-env_2\\lib\\site-packages (from requests) (2023.7.22)\n",
      "Requirement already satisfied: pandas in c:\\users\\nien\\miniconda3\\envs\\min_ds-env_2\\lib\\site-packages (1.5.3)\n",
      "Requirement already satisfied: python-dateutil>=2.8.1 in c:\\users\\nien\\miniconda3\\envs\\min_ds-env_2\\lib\\site-packages (from pandas) (2.8.2)\n",
      "Requirement already satisfied: pytz>=2020.1 in c:\\users\\nien\\miniconda3\\envs\\min_ds-env_2\\lib\\site-packages (from pandas) (2023.3.post1)\n",
      "Requirement already satisfied: numpy>=1.21.0 in c:\\users\\nien\\miniconda3\\envs\\min_ds-env_2\\lib\\site-packages (from pandas) (1.24.1)\n",
      "Requirement already satisfied: six>=1.5 in c:\\users\\nien\\miniconda3\\envs\\min_ds-env_2\\lib\\site-packages (from python-dateutil>=2.8.1->pandas) (1.16.0)\n",
      "Requirement already satisfied: numpy in c:\\users\\nien\\miniconda3\\envs\\min_ds-env_2\\lib\\site-packages (1.24.1)\n"
     ]
    }
   ],
   "source": [
    "#Necessary Packages\n",
    "!pip install bs4\n",
    "!pip install requests\n",
    "!pip install pandas\n",
    "!pip install numpy\n",
    "import time\n",
    "import requests\n",
    "import numpy as np\n",
    "import pandas as pd\n",
    "import matplotlib.pyplot as plt\n",
    "from bs4 import BeautifulSoup\n",
    "import os"
   ]
  },
  {
   "cell_type": "markdown",
   "metadata": {},
   "source": [
<<<<<<< HEAD
    "### 2. Collect data from a website by parsing HTML"
=======
    "## Data Collection"
   ]
  },
  {
   "cell_type": "markdown",
   "metadata": {},
   "source": [
    "### 1. Collect data from a website by parsing HTML"
>>>>>>> da7a59a151988e92287116bec765e70f9843594c
   ]
  },
  {
   "cell_type": "markdown",
   "metadata": {},
   "source": [
<<<<<<< HEAD
    "#### List of collected information\n",
    "\n",
=======
>>>>>>> da7a59a151988e92287116bec765e70f9843594c
    "Information related to the movie, including:\n",
    "\n",
    "- `names`: Movie titles.\n",
    "- `years`: Release years of the movies.\n",
    "- `genres`: Categories or genres the movies belong to.\n",
    "- `lengths`: Duration or length of the movies.\n",
    "- `rating_stars`: Ratings received by the movies.\n",
    "- `metascores`: Metascores assigned to the movies (if available).\n",
    "- `votes`: Total votes accumulated by the movies.\n",
    "- `grosses`: Box office gross earnings of the movies (if available).\n",
    "- `directors`: Directors of the movies.\n",
    "- `stars`: Lead actors/actresses in the movies.\n",
    "- `descriptions`: Synopsis or descriptions of the movies."
   ]
  },
  {
   "cell_type": "markdown",
   "metadata": {},
   "source": [
<<<<<<< HEAD
    "#### Data Collection Process:\n",
    "\n",
=======
    "### 2. Data Collection Process"
   ]
  },
  {
   "cell_type": "markdown",
   "metadata": {},
   "source": [
>>>>>>> da7a59a151988e92287116bec765e70f9843594c
    "- Identify the URL of the webpage containing the list of movies to be scraped.\n",
    "- Use the requests library to send GET requests to each page of the IMDb website.\n",
    "- Parse the HTML of the webpage using BeautifulSoup to extract information about the movies.\n",
    "- Iterate through each movie to collect details such as title, release year, genre, rating, - Metascore, votes, earnings, director, main cast, and description.\n",
    "- Store the collected information in a DataFrame using the pandas library."
   ]
  },
  {
   "cell_type": "code",
   "execution_count": 109,
   "metadata": {},
   "outputs": [],
   "source": [
    "def collect_data(base_url, num_movies, movies_per_page=100):\n",
    "    # Initialize lists for storing data\n",
    "    names = []\n",
    "    years = []\n",
    "    genres = []\n",
    "    lengths = []\n",
    "    rating_stars = []\n",
    "    metascores = []\n",
    "    votes = []\n",
    "    grosses = []\n",
    "    directors = []\n",
    "    stars = []\n",
    "    descriptions = []\n",
    "\n",
    "    # Iterate over the specified number of pages\n",
    "    for page in range(1, int(num_movies / movies_per_page) + 1):\n",
    "        try:\n",
    "            # Construct the URL for the current page\n",
    "            url = f\"{base_url}&page={page}\"\n",
    "            \n",
    "            # Send a GET request to the URL\n",
    "            response = requests.get(url)\n",
    "            time.sleep(2)  # Respectful crawling by adding delay\n",
    "\n",
    "            # Check if the response status code is 200 (OK)\n",
    "            if response.status_code == 200:\n",
    "                # Parse the HTML content of the page\n",
    "                soup = BeautifulSoup(response.text, 'html.parser')\n",
    "\n",
    "                # Find all movie containers on the page\n",
    "                movies = soup.find_all('div', class_='lister-item-content')\n",
    "\n",
    "                # Process each movie\n",
    "                for movie in movies:\n",
    "                    # Extract movie details\n",
    "                    name = movie.find('h3').find('a').text.strip()\n",
    "                    year = movie.find('span', class_='lister-item-year').text.strip('()')\n",
    "                    genre = movie.find('span', class_='genre').text.strip()\n",
    "                    length = movie.find('span', class_='runtime').text.strip().split()[0]\n",
    "                    rating = movie.find('span', class_='ipl-rating-star__rating').text.strip()\n",
    "\n",
    "                    # Some movies might not have a metascore\n",
    "                    metascore_tag = movie.find('span', class_='metascore')\n",
    "                    metascore = metascore_tag.text.strip() if metascore_tag else 'N/A'\n",
    "\n",
    "                    # Extract votes and gross, if available\n",
    "                    nv_tags = movie.find_all('span', attrs={'name': 'nv'})\n",
    "                    vote = nv_tags[0].text if nv_tags else 'N/A'\n",
    "                    gross = nv_tags[1].text if len(nv_tags) > 1 else 'N/A'\n",
    "\n",
    "                    # Extract director and stars\n",
    "                    director, *star_list = movie.find_all('a', href=lambda href: href and 'name/nm' in href)\n",
    "                    director = director.text\n",
    "                    stars_str = ', '.join(star.text for star in star_list)\n",
    "\n",
    "                    # Extract description\n",
    "                    description = movie.find_all('p', class_='')[-1].text.strip()\n",
    "\n",
    "                    # Append the extracted data to respective lists\n",
    "                    names.append(name)\n",
    "                    years.append(year)\n",
    "                    genres.append(genre)\n",
    "                    lengths.append(length)\n",
    "                    rating_stars.append(rating)\n",
    "                    metascores.append(metascore)\n",
    "                    votes.append(vote)\n",
    "                    grosses.append(gross)\n",
    "                    directors.append(director)\n",
    "                    stars.append(stars_str)\n",
    "                    descriptions.append(description)\n",
    "\n",
    "            else:\n",
    "                print(f\"Failed to process page {page}: Status code {response.status_code}\")\n",
    "\n",
    "        except requests.exceptions.RequestException as e:\n",
    "            print(f\"Request error on page {page}: {e}\")\n",
    "        except Exception as e:\n",
    "            print(f\"Error on page {page}: {e}\")\n",
    "\n",
    "    # Create a DataFrame with the collected data\n",
    "    data = pd.DataFrame({\n",
    "        'Name': names,\n",
    "        'Year': years,\n",
    "        'Genre': genres,\n",
    "        'Length': lengths,\n",
    "        'Rating': rating_stars,\n",
    "        'Metascore': metascores,\n",
    "        'Votes': votes,\n",
    "        'Gross': grosses,\n",
    "        'Director': directors,\n",
    "        'Stars': stars,\n",
    "        'Description': descriptions\n",
    "    })\n",
    "\n",
    "    return data"
   ]
  },
  {
   "cell_type": "markdown",
   "metadata": {},
   "source": [
<<<<<<< HEAD
    "#### Collecting Movie Data from IMDb\n",
    "\n",
=======
    "### 3. Collecting Movie Data from IMDb"
   ]
  },
  {
   "cell_type": "markdown",
   "metadata": {},
   "source": [
>>>>>>> da7a59a151988e92287116bec765e70f9843594c
    "- Identify the URL of the webpage containing the list of movies to be scraped.\n",
    "- Use the collect_data function to gather information from the webpage based on the desired number of pages and movies."
   ]
  },
  {
   "cell_type": "code",
   "execution_count": 110,
   "metadata": {},
   "outputs": [],
   "source": [
    "# Specify the URL containing the list of movies\n",
    "url = \"https://www.imdb.com/list/ls051785783/?st_dt=&mode=detail&sort=list_order,asc\"\n",
    "\n",
    "# Scrape the data\n",
    "\n",
    "if os.path.isfile('data_film.csv'):\n",
    "  data_film = pd.read_csv('data_film.csv')\n",
    "else: \n",
    "  data_film = collect_data(url, 1500, 100)"
   ]
  },
  {
   "cell_type": "markdown",
   "metadata": {},
   "source": [
<<<<<<< HEAD
    "#### Data Storage"
=======
    "### 4. Data Storage"
>>>>>>> da7a59a151988e92287116bec765e70f9843594c
   ]
  },
  {
   "cell_type": "markdown",
   "metadata": {},
   "source": [
    "- Store the collected data in a CSV file named data_film.csv using data_film.to_csv().\n",
    "- Read the data from the CSV file into a new DataFrame (data_film) using pd.read_csv()."
   ]
  },
  {
   "cell_type": "code",
   "execution_count": 111,
   "metadata": {},
   "outputs": [
    {
     "data": {
      "text/html": [
       "<div>\n",
       "<style scoped>\n",
       "    .dataframe tbody tr th:only-of-type {\n",
       "        vertical-align: middle;\n",
       "    }\n",
       "\n",
       "    .dataframe tbody tr th {\n",
       "        vertical-align: top;\n",
       "    }\n",
       "\n",
       "    .dataframe thead th {\n",
       "        text-align: right;\n",
       "    }\n",
       "</style>\n",
       "<table border=\"1\" class=\"dataframe\">\n",
       "  <thead>\n",
       "    <tr style=\"text-align: right;\">\n",
       "      <th></th>\n",
       "      <th>Name</th>\n",
       "      <th>Year</th>\n",
       "      <th>Genre</th>\n",
       "      <th>Length</th>\n",
       "      <th>Rating</th>\n",
       "      <th>Metascore</th>\n",
       "      <th>Votes</th>\n",
       "      <th>Gross</th>\n",
       "      <th>Director</th>\n",
       "      <th>Stars</th>\n",
       "      <th>Description</th>\n",
       "    </tr>\n",
       "  </thead>\n",
       "  <tbody>\n",
       "    <tr>\n",
       "      <th>0</th>\n",
       "      <td>Bố Già</td>\n",
       "      <td>1972</td>\n",
       "      <td>Crime, Drama</td>\n",
       "      <td>175</td>\n",
       "      <td>9.2</td>\n",
       "      <td>100.0</td>\n",
       "      <td>1,967,180</td>\n",
       "      <td>$134.97M</td>\n",
       "      <td>Francis Ford Coppola</td>\n",
       "      <td>Marlon Brando, Al Pacino, James Caan, Diane Ke...</td>\n",
       "      <td>Don Vito Corleone, head of a mafia family, dec...</td>\n",
       "    </tr>\n",
       "    <tr>\n",
       "      <th>1</th>\n",
       "      <td>Chuyện Tình Thế Chiến</td>\n",
       "      <td>1942</td>\n",
       "      <td>Drama, Romance, War</td>\n",
       "      <td>102</td>\n",
       "      <td>8.5</td>\n",
       "      <td>100.0</td>\n",
       "      <td>595,530</td>\n",
       "      <td>$1.02M</td>\n",
       "      <td>Michael Curtiz</td>\n",
       "      <td>Humphrey Bogart, Ingrid Bergman, Paul Henreid,...</td>\n",
       "      <td>A cynical expatriate American cafe owner strug...</td>\n",
       "    </tr>\n",
       "    <tr>\n",
       "      <th>2</th>\n",
       "      <td>Sinh Viên Tốt Nghiệp</td>\n",
       "      <td>1967</td>\n",
       "      <td>Comedy, Drama, Romance</td>\n",
       "      <td>106</td>\n",
       "      <td>8.0</td>\n",
       "      <td>83.0</td>\n",
       "      <td>284,817</td>\n",
       "      <td>$104.95M</td>\n",
       "      <td>Mike Nichols</td>\n",
       "      <td>Dustin Hoffman, Anne Bancroft, Katharine Ross,...</td>\n",
       "      <td>A disillusioned college graduate finds himself...</td>\n",
       "    </tr>\n",
       "    <tr>\n",
       "      <th>3</th>\n",
       "      <td>Công Dân Kane</td>\n",
       "      <td>1941</td>\n",
       "      <td>Drama, Mystery</td>\n",
       "      <td>119</td>\n",
       "      <td>8.3</td>\n",
       "      <td>100.0</td>\n",
       "      <td>458,887</td>\n",
       "      <td>$1.59M</td>\n",
       "      <td>Orson Welles</td>\n",
       "      <td>Orson Welles, Joseph Cotten, Dorothy Comingore...</td>\n",
       "      <td>Following the death of publishing tycoon Charl...</td>\n",
       "    </tr>\n",
       "    <tr>\n",
       "      <th>4</th>\n",
       "      <td>12 Người Đàn Ông Giận Dữ</td>\n",
       "      <td>1957</td>\n",
       "      <td>Crime, Drama</td>\n",
       "      <td>96</td>\n",
       "      <td>9.0</td>\n",
       "      <td>97.0</td>\n",
       "      <td>841,356</td>\n",
       "      <td>$4.36M</td>\n",
       "      <td>Sidney Lumet</td>\n",
       "      <td>Henry Fonda, Lee J. Cobb, Martin Balsam, John ...</td>\n",
       "      <td>The jury in a New York City murder trial is fr...</td>\n",
       "    </tr>\n",
       "    <tr>\n",
       "      <th>...</th>\n",
       "      <td>...</td>\n",
       "      <td>...</td>\n",
       "      <td>...</td>\n",
       "      <td>...</td>\n",
       "      <td>...</td>\n",
       "      <td>...</td>\n",
       "      <td>...</td>\n",
       "      <td>...</td>\n",
       "      <td>...</td>\n",
       "      <td>...</td>\n",
       "      <td>...</td>\n",
       "    </tr>\n",
       "    <tr>\n",
       "      <th>1495</th>\n",
       "      <td>Quái Thú Vô Hình</td>\n",
       "      <td>1987</td>\n",
       "      <td>Action, Adventure, Horror</td>\n",
       "      <td>107</td>\n",
       "      <td>7.8</td>\n",
       "      <td>47.0</td>\n",
       "      <td>444,578</td>\n",
       "      <td>$59.74M</td>\n",
       "      <td>John McTiernan</td>\n",
       "      <td>Arnold Schwarzenegger, Carl Weathers, Kevin Pe...</td>\n",
       "      <td>A team of commandos on a mission in a Central ...</td>\n",
       "    </tr>\n",
       "    <tr>\n",
       "      <th>1496</th>\n",
       "      <td>Chuyến Du Lịch Châu Âu</td>\n",
       "      <td>2004</td>\n",
       "      <td>Comedy</td>\n",
       "      <td>92</td>\n",
       "      <td>6.6</td>\n",
       "      <td>45.0</td>\n",
       "      <td>218,869</td>\n",
       "      <td>$17.72M</td>\n",
       "      <td>Jeff Schaffer</td>\n",
       "      <td>Alec Berg, David Mandel, Scott Mechlowicz, Jac...</td>\n",
       "      <td>Dumped by his girlfriend, a high school grad d...</td>\n",
       "    </tr>\n",
       "    <tr>\n",
       "      <th>1497</th>\n",
       "      <td>Champagne</td>\n",
       "      <td>1928</td>\n",
       "      <td>Comedy</td>\n",
       "      <td>86</td>\n",
       "      <td>5.4</td>\n",
       "      <td>NaN</td>\n",
       "      <td>2,572</td>\n",
       "      <td>NaN</td>\n",
       "      <td>Alfred Hitchcock</td>\n",
       "      <td>Betty Balfour, Jean Bradin, Ferdinand von Alte...</td>\n",
       "      <td>A spoiled heiress defies her father by running...</td>\n",
       "    </tr>\n",
       "    <tr>\n",
       "      <th>1498</th>\n",
       "      <td>Thế Giới Không Đủ</td>\n",
       "      <td>1999</td>\n",
       "      <td>Action, Adventure, Thriller</td>\n",
       "      <td>128</td>\n",
       "      <td>6.4</td>\n",
       "      <td>57.0</td>\n",
       "      <td>207,600</td>\n",
       "      <td>$126.94M</td>\n",
       "      <td>Michael Apted</td>\n",
       "      <td>Pierce Brosnan, Sophie Marceau, Robert Carlyle...</td>\n",
       "      <td>James Bond uncovers a nuclear plot while prote...</td>\n",
       "    </tr>\n",
       "    <tr>\n",
       "      <th>1499</th>\n",
       "      <td>You Gotta Stay Happy</td>\n",
       "      <td>1948</td>\n",
       "      <td>Comedy, Romance</td>\n",
       "      <td>100</td>\n",
       "      <td>6.7</td>\n",
       "      <td>NaN</td>\n",
       "      <td>907</td>\n",
       "      <td>NaN</td>\n",
       "      <td>H.C. Potter</td>\n",
       "      <td>Walter Lantz, Joan Fontaine, James Stewart, Ed...</td>\n",
       "      <td>A spoiled heiress who has jilted multiple fian...</td>\n",
       "    </tr>\n",
       "  </tbody>\n",
       "</table>\n",
       "<p>1500 rows × 11 columns</p>\n",
       "</div>"
      ],
      "text/plain": [
       "                          Name  Year                        Genre  Length  \\\n",
       "0                       Bố Già  1972                 Crime, Drama     175   \n",
       "1        Chuyện Tình Thế Chiến  1942          Drama, Romance, War     102   \n",
       "2         Sinh Viên Tốt Nghiệp  1967       Comedy, Drama, Romance     106   \n",
       "3                Công Dân Kane  1941               Drama, Mystery     119   \n",
       "4     12 Người Đàn Ông Giận Dữ  1957                 Crime, Drama      96   \n",
       "...                        ...   ...                          ...     ...   \n",
       "1495          Quái Thú Vô Hình  1987    Action, Adventure, Horror     107   \n",
       "1496    Chuyến Du Lịch Châu Âu  2004                       Comedy      92   \n",
       "1497                 Champagne  1928                       Comedy      86   \n",
       "1498         Thế Giới Không Đủ  1999  Action, Adventure, Thriller     128   \n",
       "1499      You Gotta Stay Happy  1948              Comedy, Romance     100   \n",
       "\n",
       "      Rating  Metascore      Votes     Gross              Director  \\\n",
       "0        9.2      100.0  1,967,180  $134.97M  Francis Ford Coppola   \n",
       "1        8.5      100.0    595,530    $1.02M        Michael Curtiz   \n",
       "2        8.0       83.0    284,817  $104.95M          Mike Nichols   \n",
       "3        8.3      100.0    458,887    $1.59M          Orson Welles   \n",
       "4        9.0       97.0    841,356    $4.36M          Sidney Lumet   \n",
       "...      ...        ...        ...       ...                   ...   \n",
       "1495     7.8       47.0    444,578   $59.74M        John McTiernan   \n",
       "1496     6.6       45.0    218,869   $17.72M         Jeff Schaffer   \n",
       "1497     5.4        NaN      2,572       NaN      Alfred Hitchcock   \n",
       "1498     6.4       57.0    207,600  $126.94M         Michael Apted   \n",
       "1499     6.7        NaN        907       NaN           H.C. Potter   \n",
       "\n",
       "                                                  Stars  \\\n",
       "0     Marlon Brando, Al Pacino, James Caan, Diane Ke...   \n",
       "1     Humphrey Bogart, Ingrid Bergman, Paul Henreid,...   \n",
       "2     Dustin Hoffman, Anne Bancroft, Katharine Ross,...   \n",
       "3     Orson Welles, Joseph Cotten, Dorothy Comingore...   \n",
       "4     Henry Fonda, Lee J. Cobb, Martin Balsam, John ...   \n",
       "...                                                 ...   \n",
       "1495  Arnold Schwarzenegger, Carl Weathers, Kevin Pe...   \n",
       "1496  Alec Berg, David Mandel, Scott Mechlowicz, Jac...   \n",
       "1497  Betty Balfour, Jean Bradin, Ferdinand von Alte...   \n",
       "1498  Pierce Brosnan, Sophie Marceau, Robert Carlyle...   \n",
       "1499  Walter Lantz, Joan Fontaine, James Stewart, Ed...   \n",
       "\n",
       "                                            Description  \n",
       "0     Don Vito Corleone, head of a mafia family, dec...  \n",
       "1     A cynical expatriate American cafe owner strug...  \n",
       "2     A disillusioned college graduate finds himself...  \n",
       "3     Following the death of publishing tycoon Charl...  \n",
       "4     The jury in a New York City murder trial is fr...  \n",
       "...                                                 ...  \n",
       "1495  A team of commandos on a mission in a Central ...  \n",
       "1496  Dumped by his girlfriend, a high school grad d...  \n",
       "1497  A spoiled heiress defies her father by running...  \n",
       "1498  James Bond uncovers a nuclear plot while prote...  \n",
       "1499  A spoiled heiress who has jilted multiple fian...  \n",
       "\n",
       "[1500 rows x 11 columns]"
      ]
     },
     "execution_count": 111,
     "metadata": {},
     "output_type": "execute_result"
    }
   ],
   "source": [
    "#Save to csv file with name data_film.csv\n",
    "# Save the DataFrame to a CSV file without including the index\n",
    "data_film.to_csv(\"data_film.csv\", index=False)\n",
    "\n",
    "# Read the CSV file into a new DataFrame called data_film\n",
    "data_film = pd.read_csv(\"data_film.csv\")\n",
    "\n",
    "# Display the 'data_film' DataFrame\n",
    "data_film"
   ]
  },
  {
   "cell_type": "markdown",
   "metadata": {},
   "source": [
    "## Data Exploration And Preprocessing"
   ]
  },
  {
   "cell_type": "markdown",
   "metadata": {},
   "source": [
    "### 1) How many rows and columns"
   ]
  },
  {
   "cell_type": "markdown",
   "metadata": {},
   "source": [
    "- There are 1500 rows and 11 columns"
   ]
  },
  {
   "cell_type": "code",
   "execution_count": 112,
   "metadata": {},
   "outputs": [
    {
     "data": {
      "text/plain": [
       "(1500, 11)"
      ]
     },
     "execution_count": 112,
     "metadata": {},
     "output_type": "execute_result"
    }
   ],
   "source": [
    "data_film.shape"
   ]
  },
  {
   "cell_type": "markdown",
   "metadata": {},
   "source": [
    "### 2) What is the meaning of each row?"
   ]
  },
  {
   "cell_type": "markdown",
   "metadata": {},
   "source": [
    "- Each row represents the information of a film(name, year, genres,...)"
   ]
  },
  {
   "cell_type": "code",
   "execution_count": 113,
   "metadata": {},
   "outputs": [
    {
     "data": {
      "text/html": [
       "<div>\n",
       "<style scoped>\n",
       "    .dataframe tbody tr th:only-of-type {\n",
       "        vertical-align: middle;\n",
       "    }\n",
       "\n",
       "    .dataframe tbody tr th {\n",
       "        vertical-align: top;\n",
       "    }\n",
       "\n",
       "    .dataframe thead th {\n",
       "        text-align: right;\n",
       "    }\n",
       "</style>\n",
       "<table border=\"1\" class=\"dataframe\">\n",
       "  <thead>\n",
       "    <tr style=\"text-align: right;\">\n",
       "      <th></th>\n",
       "      <th>Name</th>\n",
       "      <th>Year</th>\n",
       "      <th>Genre</th>\n",
       "      <th>Length</th>\n",
       "      <th>Rating</th>\n",
       "      <th>Metascore</th>\n",
       "      <th>Votes</th>\n",
       "      <th>Gross</th>\n",
       "      <th>Director</th>\n",
       "      <th>Stars</th>\n",
       "      <th>Description</th>\n",
       "    </tr>\n",
       "  </thead>\n",
       "  <tbody>\n",
       "    <tr>\n",
       "      <th>1405</th>\n",
       "      <td>Tinh Cầu</td>\n",
       "      <td>1998</td>\n",
       "      <td>Action, Mystery, Sci-Fi</td>\n",
       "      <td>134</td>\n",
       "      <td>6.1</td>\n",
       "      <td>35.0</td>\n",
       "      <td>111,045</td>\n",
       "      <td>$37.02M</td>\n",
       "      <td>Barry Levinson</td>\n",
       "      <td>Dustin Hoffman, Sharon Stone, Samuel L. Jackso...</td>\n",
       "      <td>A spaceship is discovered under three hundred ...</td>\n",
       "    </tr>\n",
       "  </tbody>\n",
       "</table>\n",
       "</div>"
      ],
      "text/plain": [
       "          Name  Year                    Genre  Length  Rating  Metascore  \\\n",
       "1405  Tinh Cầu  1998  Action, Mystery, Sci-Fi     134     6.1       35.0   \n",
       "\n",
       "        Votes    Gross        Director  \\\n",
       "1405  111,045  $37.02M  Barry Levinson   \n",
       "\n",
       "                                                  Stars  \\\n",
       "1405  Dustin Hoffman, Sharon Stone, Samuel L. Jackso...   \n",
       "\n",
       "                                            Description  \n",
       "1405  A spaceship is discovered under three hundred ...  "
      ]
     },
     "execution_count": 113,
     "metadata": {},
     "output_type": "execute_result"
    }
   ],
   "source": [
    "data_film.sample(1)"
   ]
  },
  {
   "cell_type": "markdown",
   "metadata": {},
   "source": [
    "### 3) Are there duplicated rows?"
   ]
  },
  {
   "cell_type": "markdown",
   "metadata": {},
   "source": [
    "There is 0 duplicated row"
   ]
  },
  {
   "cell_type": "code",
   "execution_count": 114,
   "metadata": {},
   "outputs": [
    {
     "data": {
      "text/plain": [
       "0"
      ]
     },
     "execution_count": 114,
     "metadata": {},
     "output_type": "execute_result"
    }
   ],
   "source": [
    "data_film.duplicated().sum()"
   ]
  },
  {
   "cell_type": "markdown",
   "metadata": {},
   "source": [
    "### 4) What is the meaning of each columns"
   ]
  },
  {
   "cell_type": "markdown",
   "metadata": {},
   "source": [
    "- `names`: Movie titles.\n",
    "- `years`: Release years of the movies.\n",
    "- `genres`: Categories or genres the movies belong to.\n",
    "- `lengths`: Duration or length of the movies.\n",
    "- `rating_stars`: Ratings received by the movies.\n",
    "- `metascores`: Metascores assigned to the movies (if available).\n",
    "- `votes`: Total votes accumulated by the movies.\n",
    "- `grosses`: Box office gross earnings of the movies (if available).\n",
    "- `directors`: Directors of the movies.\n",
    "- `stars`: Lead actors/actresses in the movies.\n",
    "- `descriptions`: Synopsis or descriptions of the movies."
   ]
  },
  {
   "cell_type": "markdown",
   "metadata": {},
   "source": [
    "### 5) What is the current data type of each column? Are there any columns having inappropriate data types?"
   ]
  },
  {
   "cell_type": "code",
   "execution_count": 115,
   "metadata": {},
   "outputs": [
    {
     "data": {
      "text/plain": [
       "Name            object\n",
       "Year            object\n",
       "Genre           object\n",
       "Length           int64\n",
       "Rating         float64\n",
       "Metascore      float64\n",
       "Votes           object\n",
       "Gross           object\n",
       "Director        object\n",
       "Stars           object\n",
       "Description     object\n",
       "dtype: object"
      ]
     },
     "execution_count": 115,
     "metadata": {},
     "output_type": "execute_result"
    }
   ],
   "source": [
    "data_film.dtypes"
   ]
  },
  {
   "cell_type": "code",
   "execution_count": 116,
   "metadata": {},
   "outputs": [
    {
     "data": {
      "text/html": [
       "<div>\n",
       "<style scoped>\n",
       "    .dataframe tbody tr th:only-of-type {\n",
       "        vertical-align: middle;\n",
       "    }\n",
       "\n",
       "    .dataframe tbody tr th {\n",
       "        vertical-align: top;\n",
       "    }\n",
       "\n",
       "    .dataframe thead th {\n",
       "        text-align: right;\n",
       "    }\n",
       "</style>\n",
       "<table border=\"1\" class=\"dataframe\">\n",
       "  <thead>\n",
       "    <tr style=\"text-align: right;\">\n",
       "      <th></th>\n",
       "      <th>Name</th>\n",
       "      <th>Year</th>\n",
       "      <th>Genre</th>\n",
       "      <th>Length</th>\n",
       "      <th>Rating</th>\n",
       "      <th>Metascore</th>\n",
       "      <th>Votes</th>\n",
       "      <th>Gross</th>\n",
       "      <th>Director</th>\n",
       "      <th>Stars</th>\n",
       "      <th>Description</th>\n",
       "    </tr>\n",
       "  </thead>\n",
       "  <tbody>\n",
       "    <tr>\n",
       "      <th>359</th>\n",
       "      <td>The Verdict</td>\n",
       "      <td>1982</td>\n",
       "      <td>Drama</td>\n",
       "      <td>129</td>\n",
       "      <td>7.7</td>\n",
       "      <td>77.0</td>\n",
       "      <td>44,706</td>\n",
       "      <td>$54.00M</td>\n",
       "      <td>Sidney Lumet</td>\n",
       "      <td>Paul Newman, Charlotte Rampling, Jack Warden, ...</td>\n",
       "      <td>An outcast, alcoholic Boston lawyer sees the c...</td>\n",
       "    </tr>\n",
       "  </tbody>\n",
       "</table>\n",
       "</div>"
      ],
      "text/plain": [
       "            Name  Year  Genre  Length  Rating  Metascore   Votes    Gross  \\\n",
       "359  The Verdict  1982  Drama     129     7.7       77.0  44,706  $54.00M   \n",
       "\n",
       "         Director                                              Stars  \\\n",
       "359  Sidney Lumet  Paul Newman, Charlotte Rampling, Jack Warden, ...   \n",
       "\n",
       "                                           Description  \n",
       "359  An outcast, alcoholic Boston lawyer sees the c...  "
      ]
     },
     "execution_count": 116,
     "metadata": {},
     "output_type": "execute_result"
    }
   ],
   "source": [
    "data_film.sample(1)"
   ]
  },
  {
   "cell_type": "markdown",
   "metadata": {},
   "source": [
    "- There are some columns which have inappropriate type: `Year, Votes, Gross`"
   ]
  },
  {
   "cell_type": "markdown",
   "metadata": {},
   "source": [
    "- For `Year, Votes` we can simply convert them into **numeric**. But with `Gross` we need to change columns name to `Gross(M$)` to indicated that `Gross` unit is million Dollars"
   ]
  },
  {
   "cell_type": "code",
   "execution_count": 117,
   "metadata": {},
   "outputs": [
    {
     "name": "stderr",
     "output_type": "stream",
     "text": [
      "C:\\Users\\Nien\\AppData\\Local\\Temp\\ipykernel_24468\\1584790164.py:5: FutureWarning: The default value of regex will change from True to False in a future version. In addition, single character regular expressions will *not* be treated as literal strings when regex=True.\n",
      "  data_film['Gross(M$)'] = data_film.Gross.str.replace('M', '').str.replace('$', '')\n"
     ]
    }
   ],
   "source": [
    "# remove ',' in Votes\n",
    "data_film.Votes = data_film.Votes.str.replace(',', '')\n",
    "\n",
    "# remove $, M in Gross and create new column `Gross(M$)`\n",
    "data_film['Gross(M$)'] = data_film.Gross.str.replace('M', '').str.replace('$', '')\n",
    "\n",
    "# drop Gross\n",
    "data_film.drop(columns='Gross', inplace=True)"
   ]
  },
  {
   "cell_type": "code",
   "execution_count": 118,
   "metadata": {},
   "outputs": [
    {
     "data": {
      "text/html": [
       "<div>\n",
       "<style scoped>\n",
       "    .dataframe tbody tr th:only-of-type {\n",
       "        vertical-align: middle;\n",
       "    }\n",
       "\n",
       "    .dataframe tbody tr th {\n",
       "        vertical-align: top;\n",
       "    }\n",
       "\n",
       "    .dataframe thead th {\n",
       "        text-align: right;\n",
       "    }\n",
       "</style>\n",
       "<table border=\"1\" class=\"dataframe\">\n",
       "  <thead>\n",
       "    <tr style=\"text-align: right;\">\n",
       "      <th></th>\n",
       "      <th>Name</th>\n",
       "      <th>Year</th>\n",
       "      <th>Genre</th>\n",
       "      <th>Length</th>\n",
       "      <th>Rating</th>\n",
       "      <th>Metascore</th>\n",
       "      <th>Votes</th>\n",
       "      <th>Director</th>\n",
       "      <th>Stars</th>\n",
       "      <th>Description</th>\n",
       "      <th>Gross(M$)</th>\n",
       "    </tr>\n",
       "  </thead>\n",
       "  <tbody>\n",
       "    <tr>\n",
       "      <th>1422</th>\n",
       "      <td>Alias Jesse James</td>\n",
       "      <td>1959</td>\n",
       "      <td>Comedy, Western</td>\n",
       "      <td>92</td>\n",
       "      <td>6.4</td>\n",
       "      <td>NaN</td>\n",
       "      <td>1560</td>\n",
       "      <td>Norman Z. McLeod</td>\n",
       "      <td>Bob Hope, Rhonda Fleming, Wendell Corey, Glori...</td>\n",
       "      <td>Outlaw T.J. \"Jesse\" James tries to kill insura...</td>\n",
       "      <td>NaN</td>\n",
       "    </tr>\n",
       "  </tbody>\n",
       "</table>\n",
       "</div>"
      ],
      "text/plain": [
       "                   Name  Year            Genre  Length  Rating  Metascore  \\\n",
       "1422  Alias Jesse James  1959  Comedy, Western      92     6.4        NaN   \n",
       "\n",
       "     Votes          Director  \\\n",
       "1422  1560  Norman Z. McLeod   \n",
       "\n",
       "                                                  Stars  \\\n",
       "1422  Bob Hope, Rhonda Fleming, Wendell Corey, Glori...   \n",
       "\n",
       "                                            Description Gross(M$)  \n",
       "1422  Outlaw T.J. \"Jesse\" James tries to kill insura...       NaN  "
      ]
     },
     "execution_count": 118,
     "metadata": {},
     "output_type": "execute_result"
    }
   ],
   "source": [
    "data_film.sample(1)"
   ]
  },
  {
   "cell_type": "markdown",
   "metadata": {},
   "source": [
    "- Convert them into **numeric**"
   ]
  },
  {
   "cell_type": "code",
   "execution_count": 119,
   "metadata": {},
   "outputs": [
    {
     "data": {
      "text/plain": [
       "Name            object\n",
       "Year           float64\n",
       "Genre           object\n",
       "Length           int64\n",
       "Rating         float64\n",
       "Metascore      float64\n",
       "Votes            int64\n",
       "Director        object\n",
       "Stars           object\n",
       "Description     object\n",
       "Gross(M$)      float64\n",
       "dtype: object"
      ]
     },
     "execution_count": 119,
     "metadata": {},
     "output_type": "execute_result"
    }
   ],
   "source": [
    "to_numeric_cols = ['Year', 'Votes', 'Gross(M$)']\n",
    "\n",
    "for col in to_numeric_cols:\n",
    "  data_film[col] = pd.to_numeric(data_film[col], errors='coerce')\n",
    "\n",
    "data_film.dtypes"
   ]
  },
  {
   "cell_type": "markdown",
   "metadata": {},
   "source": [
    "### 6) With each numerical column, how are values distributed?"
   ]
  },
  {
   "cell_type": "markdown",
   "metadata": {},
   "source": [
    "- All numerical columns:"
   ]
  },
  {
   "cell_type": "code",
   "execution_count": 120,
   "metadata": {},
   "outputs": [
    {
     "data": {
      "text/plain": [
       "Index(['Year', 'Length', 'Rating', 'Metascore', 'Votes', 'Gross(M$)'], dtype='object')"
      ]
     },
     "execution_count": 120,
     "metadata": {},
     "output_type": "execute_result"
    }
   ],
   "source": [
    "numerical_cols = data_film.columns[(data_film.dtypes != 'object')]\n",
    "numerical_cols"
   ]
  },
  {
   "cell_type": "markdown",
   "metadata": {},
   "source": [
    "#### 6.1) What is the percentage of missing values?"
   ]
  },
  {
   "cell_type": "markdown",
   "metadata": {},
   "source": [
    "- Number of missing values of each columns"
   ]
  },
  {
   "cell_type": "code",
   "execution_count": 121,
   "metadata": {},
   "outputs": [
    {
     "name": "stdout",
     "output_type": "stream",
     "text": [
      "<class 'pandas.core.frame.DataFrame'>\n",
      "RangeIndex: 1500 entries, 0 to 1499\n",
      "Data columns (total 6 columns):\n",
      " #   Column     Non-Null Count  Dtype  \n",
      "---  ------     --------------  -----  \n",
      " 0   Year       1472 non-null   float64\n",
      " 1   Length     1500 non-null   int64  \n",
      " 2   Rating     1500 non-null   float64\n",
      " 3   Metascore  1211 non-null   float64\n",
      " 4   Votes      1500 non-null   int64  \n",
      " 5   Gross(M$)  1121 non-null   float64\n",
      "dtypes: float64(4), int64(2)\n",
      "memory usage: 70.4 KB\n"
     ]
    }
   ],
   "source": [
    "data_film[numerical_cols].info()"
   ]
  },
  {
   "cell_type": "markdown",
   "metadata": {},
   "source": [
    "- The percentage of missing values for each columns"
   ]
  },
  {
   "cell_type": "code",
   "execution_count": 122,
   "metadata": {},
   "outputs": [
    {
     "data": {
      "text/plain": [
       "Name            0.000000\n",
       "Year            1.866667\n",
       "Genre           0.000000\n",
       "Length          0.000000\n",
       "Rating          0.000000\n",
       "Metascore      19.266667\n",
       "Votes           0.000000\n",
       "Director        0.000000\n",
       "Stars           0.000000\n",
       "Description     0.000000\n",
       "Gross(M$)      25.266667\n",
       "dtype: float64"
      ]
     },
     "execution_count": 122,
     "metadata": {},
     "output_type": "execute_result"
    }
   ],
   "source": [
    "data_film.isnull().mean() * 100"
   ]
  },
  {
   "cell_type": "markdown",
   "metadata": {},
   "source": [
    "> `Gross(M$)` and `Metascore` missing value's percentage are high"
   ]
  },
  {
   "cell_type": "markdown",
   "metadata": {},
   "source": [
    "- The distribution of numerical attributes"
   ]
  },
  {
   "cell_type": "code",
   "execution_count": 123,
   "metadata": {},
   "outputs": [
    {
     "data": {
      "image/png": "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",
      "text/plain": [
       "<Figure size 1500x1000 with 6 Axes>"
      ]
     },
     "metadata": {},
     "output_type": "display_data"
    }
   ],
   "source": [
    "data_film[numerical_cols].hist(figsize=(15, 10))\n",
    "plt.tight_layout()\n",
    "plt.show();"
   ]
  },
  {
   "cell_type": "markdown",
   "metadata": {},
   "source": [
    "- General statistics of numerical attributes"
   ]
  },
  {
   "cell_type": "code",
   "execution_count": 124,
   "metadata": {},
   "outputs": [
    {
     "data": {
      "text/html": [
       "<div>\n",
       "<style scoped>\n",
       "    .dataframe tbody tr th:only-of-type {\n",
       "        vertical-align: middle;\n",
       "    }\n",
       "\n",
       "    .dataframe tbody tr th {\n",
       "        vertical-align: top;\n",
       "    }\n",
       "\n",
       "    .dataframe thead th {\n",
       "        text-align: right;\n",
       "    }\n",
       "</style>\n",
       "<table border=\"1\" class=\"dataframe\">\n",
       "  <thead>\n",
       "    <tr style=\"text-align: right;\">\n",
       "      <th></th>\n",
       "      <th>Year</th>\n",
       "      <th>Length</th>\n",
       "      <th>Rating</th>\n",
       "      <th>Metascore</th>\n",
       "      <th>Votes</th>\n",
       "      <th>Gross(M$)</th>\n",
       "    </tr>\n",
       "  </thead>\n",
       "  <tbody>\n",
       "    <tr>\n",
       "      <th>count</th>\n",
       "      <td>1472.000000</td>\n",
       "      <td>1500.000000</td>\n",
       "      <td>1500.000000</td>\n",
       "      <td>1211.000000</td>\n",
       "      <td>1.500000e+03</td>\n",
       "      <td>1121.000000</td>\n",
       "    </tr>\n",
       "    <tr>\n",
       "      <th>mean</th>\n",
       "      <td>1976.701087</td>\n",
       "      <td>115.578667</td>\n",
       "      <td>7.372667</td>\n",
       "      <td>72.841453</td>\n",
       "      <td>1.982493e+05</td>\n",
       "      <td>61.061802</td>\n",
       "    </tr>\n",
       "    <tr>\n",
       "      <th>std</th>\n",
       "      <td>23.640039</td>\n",
       "      <td>25.450913</td>\n",
       "      <td>0.613360</td>\n",
       "      <td>14.646850</td>\n",
       "      <td>3.254139e+05</td>\n",
       "      <td>80.618053</td>\n",
       "    </tr>\n",
       "    <tr>\n",
       "      <th>min</th>\n",
       "      <td>1915.000000</td>\n",
       "      <td>45.000000</td>\n",
       "      <td>5.000000</td>\n",
       "      <td>16.000000</td>\n",
       "      <td>4.400000e+02</td>\n",
       "      <td>0.010000</td>\n",
       "    </tr>\n",
       "    <tr>\n",
       "      <th>25%</th>\n",
       "      <td>1957.000000</td>\n",
       "      <td>99.000000</td>\n",
       "      <td>7.000000</td>\n",
       "      <td>63.000000</td>\n",
       "      <td>1.929475e+04</td>\n",
       "      <td>10.250000</td>\n",
       "    </tr>\n",
       "    <tr>\n",
       "      <th>50%</th>\n",
       "      <td>1980.000000</td>\n",
       "      <td>112.000000</td>\n",
       "      <td>7.400000</td>\n",
       "      <td>73.000000</td>\n",
       "      <td>7.339200e+04</td>\n",
       "      <td>32.870000</td>\n",
       "    </tr>\n",
       "    <tr>\n",
       "      <th>75%</th>\n",
       "      <td>1998.000000</td>\n",
       "      <td>127.000000</td>\n",
       "      <td>7.800000</td>\n",
       "      <td>84.000000</td>\n",
       "      <td>2.280785e+05</td>\n",
       "      <td>78.900000</td>\n",
       "    </tr>\n",
       "    <tr>\n",
       "      <th>max</th>\n",
       "      <td>2013.000000</td>\n",
       "      <td>271.000000</td>\n",
       "      <td>9.300000</td>\n",
       "      <td>100.000000</td>\n",
       "      <td>2.822322e+06</td>\n",
       "      <td>760.510000</td>\n",
       "    </tr>\n",
       "  </tbody>\n",
       "</table>\n",
       "</div>"
      ],
      "text/plain": [
       "              Year       Length       Rating    Metascore         Votes  \\\n",
       "count  1472.000000  1500.000000  1500.000000  1211.000000  1.500000e+03   \n",
       "mean   1976.701087   115.578667     7.372667    72.841453  1.982493e+05   \n",
       "std      23.640039    25.450913     0.613360    14.646850  3.254139e+05   \n",
       "min    1915.000000    45.000000     5.000000    16.000000  4.400000e+02   \n",
       "25%    1957.000000    99.000000     7.000000    63.000000  1.929475e+04   \n",
       "50%    1980.000000   112.000000     7.400000    73.000000  7.339200e+04   \n",
       "75%    1998.000000   127.000000     7.800000    84.000000  2.280785e+05   \n",
       "max    2013.000000   271.000000     9.300000   100.000000  2.822322e+06   \n",
       "\n",
       "         Gross(M$)  \n",
       "count  1121.000000  \n",
       "mean     61.061802  \n",
       "std      80.618053  \n",
       "min       0.010000  \n",
       "25%      10.250000  \n",
       "50%      32.870000  \n",
       "75%      78.900000  \n",
       "max     760.510000  "
      ]
     },
     "execution_count": 124,
     "metadata": {},
     "output_type": "execute_result"
    }
   ],
   "source": [
    "data_film[numerical_cols].describe()"
   ]
  },
  {
   "cell_type": "markdown",
   "metadata": {},
   "source": [
    "### 7) With each categorical column, how are values distributed?"
   ]
  },
  {
   "cell_type": "markdown",
   "metadata": {},
   "source": [
    "- Quick glance at categorical columns"
   ]
  },
  {
   "cell_type": "code",
   "execution_count": 125,
   "metadata": {},
   "outputs": [
    {
     "data": {
      "text/plain": [
       "Index(['Name', 'Genre', 'Director', 'Stars', 'Description'], dtype='object')"
      ]
     },
     "execution_count": 125,
     "metadata": {},
     "output_type": "execute_result"
    }
   ],
   "source": [
    "categorical_cols = data_film.columns[data_film.dtypes == 'object']\n",
    "\n",
    "categorical_cols"
   ]
  },
  {
   "cell_type": "markdown",
   "metadata": {},
   "source": [
    "- Missing values = 0"
   ]
  },
  {
   "cell_type": "code",
   "execution_count": 126,
   "metadata": {},
   "outputs": [
    {
     "name": "stdout",
     "output_type": "stream",
     "text": [
      "0 0\n",
      "0 0\n",
      "0 0\n",
      "0 0\n",
      "0 0\n"
     ]
    }
   ],
   "source": [
    "for col in categorical_cols:\n",
    "  print((data_film[col] == 'nan').sum(), data_film[col].isna().sum())"
   ]
  },
  {
   "cell_type": "markdown",
   "metadata": {},
   "source": [
    "- The distribution of `Name`: the counts is not significantly different so we won't plot this"
   ]
  },
  {
   "cell_type": "code",
   "execution_count": 127,
   "metadata": {},
   "outputs": [
    {
     "data": {
      "text/plain": [
       "King Kong               2\n",
       "Cặp Bài Trùng           2\n",
       "Kẻ Cắp Gặp Bà Già       2\n",
       "Cuộc Sống Tươi Đẹp      2\n",
       "Ngôi Nhà Ma             2\n",
       "                       ..\n",
       "Đội Nhặt Banh           1\n",
       "Peter Pan               1\n",
       "Cối Xay Gió Đỏ          1\n",
       "Người Áp Chế            1\n",
       "You Gotta Stay Happy    1\n",
       "Name: Name, Length: 1489, dtype: int64"
      ]
     },
     "execution_count": 127,
     "metadata": {},
     "output_type": "execute_result"
    }
   ],
   "source": [
    "data_film.Name.value_counts()"
   ]
  },
  {
   "cell_type": "markdown",
   "metadata": {},
   "source": [
    "- The distribution of `Genre`"
   ]
  },
  {
   "cell_type": "code",
   "execution_count": 128,
   "metadata": {},
   "outputs": [
    {
     "data": {
      "text/plain": [
       "Drama                        96\n",
       "Comedy, Drama, Romance       73\n",
       "Drama, Romance               70\n",
       "Comedy                       69\n",
       "Comedy, Drama                62\n",
       "                             ..\n",
       "Comedy, Fantasy, Musical      1\n",
       "Drama, Horror, Mystery        1\n",
       "Mystery, Sci-Fi, Thriller     1\n",
       "Action, Crime, Romance        1\n",
       "Action, Adventure, Horror     1\n",
       "Name: Genre, Length: 235, dtype: int64"
      ]
     },
     "execution_count": 128,
     "metadata": {},
     "output_type": "execute_result"
    }
   ],
   "source": [
    "data_film.Genre.value_counts()"
   ]
  },
  {
   "cell_type": "markdown",
   "metadata": {},
   "source": [
    "- The distribution of top 20 `Genres`"
   ]
  },
  {
   "cell_type": "code",
   "execution_count": 129,
   "metadata": {},
   "outputs": [
    {
     "data": {
      "image/png": "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",
      "text/plain": [
       "<Figure size 640x480 with 1 Axes>"
      ]
     },
     "metadata": {},
     "output_type": "display_data"
    }
   ],
   "source": [
    "genre_counts = data_film.Genre.value_counts()[:20]\n",
    "plt.bar(genre_counts.index, genre_counts.values);\n",
    "plt.xticks(rotation=90)\n",
    "plt.show();"
   ]
  },
  {
   "cell_type": "markdown",
   "metadata": {},
   "source": [
    "- The distribution of `Director`"
   ]
  },
  {
   "cell_type": "code",
   "execution_count": 130,
   "metadata": {},
   "outputs": [
    {
     "data": {
      "text/plain": [
       "Alfred Hitchcock    34\n",
       "Woody Allen         24\n",
       "Steven Spielberg    17\n",
       "Clint Eastwood      15\n",
       "Martin Scorsese     14\n",
       "                    ..\n",
       "Henry King           1\n",
       "Richard Kelly        1\n",
       "Bob Rafelson         1\n",
       "Mike Mills           1\n",
       "Michael Apted        1\n",
       "Name: Director, Length: 658, dtype: int64"
      ]
     },
     "execution_count": 130,
     "metadata": {},
     "output_type": "execute_result"
    }
   ],
   "source": [
    "data_film.Director.value_counts()"
   ]
  },
  {
   "cell_type": "markdown",
   "metadata": {},
   "source": [
    "- The distribution of top 20 `Director`"
   ]
  },
  {
   "cell_type": "code",
   "execution_count": 131,
   "metadata": {},
   "outputs": [
    {
     "data": {
      "image/png": "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",
      "text/plain": [
       "<Figure size 640x480 with 1 Axes>"
      ]
     },
     "metadata": {},
     "output_type": "display_data"
    }
   ],
   "source": [
    "director_counts = data_film.Director.value_counts()[:20]\n",
    "plt.bar(director_counts.index, director_counts.values);\n",
    "plt.xticks(rotation=90)\n",
    "plt.show()"
   ]
  },
  {
   "cell_type": "markdown",
   "metadata": {},
   "source": [
    "- The distribution of `Stars`: The counts is not significantly different so we won't plot this attribute"
   ]
  },
  {
   "cell_type": "code",
   "execution_count": 132,
   "metadata": {},
   "outputs": [
    {
     "data": {
      "text/plain": [
       "Sylvester Stallone, Talia Shire, Burt Young, Carl Weathers                                                     4\n",
       "Lewis Stone, Mickey Rooney, Cecilia Parker, Fay Holden                                                         2\n",
       "Bill Murray, Dan Aykroyd, Sigourney Weaver, Harold Ramis                                                       2\n",
       "Mark Hamill, Harrison Ford, Carrie Fisher, Billy Dee Williams                                                  2\n",
       "Mickey Rooney, Lewis Stone, Fay Holden, Cecilia Parker                                                         2\n",
       "                                                                                                              ..\n",
       "Wilfred Jackson, Hamilton Luske, Jack Kinney, Bobby Driscoll, Kathryn Beaumont, Hans Conried, Bill Thompson    1\n",
       "Nicole Kidman, Ewan McGregor, John Leguizamo, Jim Broadbent                                                    1\n",
       "Joaquin Phoenix, Philip Seymour Hoffman, Amy Adams, Jesse Plemons                                              1\n",
       "Alain Delon, Bourvil, Gian Maria Volontè, Yves Montand                                                         1\n",
       "Walter Lantz, Joan Fontaine, James Stewart, Eddie Albert, Roland Young                                         1\n",
       "Name: Stars, Length: 1492, dtype: int64"
      ]
     },
     "execution_count": 132,
     "metadata": {},
     "output_type": "execute_result"
    }
   ],
   "source": [
    "data_film.Stars.value_counts()"
   ]
  },
  {
   "cell_type": "markdown",
   "metadata": {},
   "source": [
    "- The distribution of `Description`: each description is different so we won't plot this"
   ]
  },
  {
   "cell_type": "code",
   "execution_count": 133,
   "metadata": {},
   "outputs": [
    {
     "data": {
      "text/plain": [
       "Don Vito Corleone, head of a mafia family, decides to hand over his empire to his youngest son Michael. However, his decision unintentionally puts the lives of his loved ones in grave danger.                   1\n",
       "One year after Kevin McCallister was left home alone and had to defeat a pair of bumbling burglars, he accidentally finds himself stranded in New York City - and the same criminals are not far behind.          1\n",
       "A husband-and-wife team play detective, but not in the traditional sense. Instead, the happy duo helps others solve their existential issues, the kind that keep you up at night, wondering what it all means.    1\n",
       "After his auto-parts tycoon father dies, the overweight, underachieving son teams up with a snide accountant to try and save the family business.                                                                 1\n",
       "A boy and a girl from different backgrounds fall in love regardless of their upbringing - and then tragedy strikes.                                                                                               1\n",
       "                                                                                                                                                                                                                 ..\n",
       "An exclusive golf course has to deal with a brash new member and a destructive dancing gopher.                                                                                                                    1\n",
       "Wendy and her brothers are whisked away to the magical world of Neverland with the hero of their stories, Peter Pan.                                                                                              1\n",
       "A poor Bohemian poet in 1890s Paris falls for a beautiful courtesan and nightclub star coveted by a jealous duke.                                                                                                 1\n",
       "A Naval veteran arrives home from war unsettled and uncertain of his future - until he is tantalized by the Cause and its charismatic leader.                                                                     1\n",
       "A spoiled heiress who has jilted multiple fiancés embroils a commercial pilot in a series of wacky misadventures.                                                                                                 1\n",
       "Name: Description, Length: 1500, dtype: int64"
      ]
     },
     "execution_count": 133,
     "metadata": {},
     "output_type": "execute_result"
    }
   ],
   "source": [
    "data_film.Description.value_counts()"
   ]
  },
  {
   "cell_type": "markdown",
   "metadata": {},
   "source": [
    "#### 7.1) What is the percentage of missing values?"
   ]
  },
  {
   "cell_type": "markdown",
   "metadata": {},
   "source": [
    "- As we can see all the categorical columns has 0 missing value so the perccentage will be: 0%"
   ]
  },
  {
   "cell_type": "markdown",
   "metadata": {},
   "source": [
    "### 8) Are they abnormal?"
   ]
  },
  {
   "cell_type": "markdown",
   "metadata": {},
   "source": [
    "- After considering the distribution of each attributes, we can conclude that the values are good enough for us to use for model training and get insights from them. But first, we need to preprocessing the data."
   ]
  },
  {
   "cell_type": "markdown",
   "metadata": {},
   "source": [
    "## Data modeling"
   ]
  },
  {
   "cell_type": "markdown",
   "metadata": {},
   "source": [
    "## References"
   ]
  },
  {
   "cell_type": "markdown",
   "metadata": {},
   "source": []
  }
 ],
 "metadata": {
  "kernelspec": {
   "display_name": "min_ds-env",
   "language": "python",
   "name": "python3"
  },
  "language_info": {
   "codemirror_mode": {
    "name": "ipython",
    "version": 3
   },
   "file_extension": ".py",
   "mimetype": "text/x-python",
   "name": "python",
   "nbconvert_exporter": "python",
   "pygments_lexer": "ipython3",
   "version": "3.10.8"
  }
 },
 "nbformat": 4,
 "nbformat_minor": 2
}
